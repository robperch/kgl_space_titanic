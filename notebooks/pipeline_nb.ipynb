{
 "cells": [
  {
   "cell_type": "markdown",
   "id": "82c1d7a8-d74e-45e1-8937-264331e6d38a",
   "metadata": {},
   "source": [
    "# Notebook to conduct ML related tasks"
   ]
  },
  {
   "cell_type": "markdown",
   "id": "4154f37d-fde6-4cef-8617-114a3a2d7d8e",
   "metadata": {},
   "source": [
    "# Imports"
   ]
  },
  {
   "cell_type": "markdown",
   "id": "a98dbaa6-17e1-4b79-93f0-d142aedd0037",
   "metadata": {},
   "source": [
    "#### Standard library imports"
   ]
  },
  {
   "cell_type": "code",
   "execution_count": 1,
   "id": "63099808-51cd-453c-976a-f3060b8650aa",
   "metadata": {
    "execution": {
     "iopub.execute_input": "2022-06-20T19:16:38.114300Z",
     "iopub.status.busy": "2022-06-20T19:16:38.113960Z",
     "iopub.status.idle": "2022-06-20T19:16:38.124810Z",
     "shell.execute_reply": "2022-06-20T19:16:38.122935Z",
     "shell.execute_reply.started": "2022-06-20T19:16:38.114227Z"
    },
    "tags": []
   },
   "outputs": [],
   "source": [
    "import sys\n",
    "sys.path.append(\"../\")\n",
    "import os\n",
    "import pickle"
   ]
  },
  {
   "cell_type": "markdown",
   "id": "b94ec94d-0d78-4ec3-a21c-353ccf52eec6",
   "metadata": {},
   "source": [
    "#### Third party imports"
   ]
  },
  {
   "cell_type": "code",
   "execution_count": 2,
   "id": "9e4989d0-ba3a-41cf-8ccb-44cade842a03",
   "metadata": {
    "execution": {
     "iopub.execute_input": "2022-06-20T19:16:38.126558Z",
     "iopub.status.busy": "2022-06-20T19:16:38.126281Z",
     "iopub.status.idle": "2022-06-20T19:16:38.761920Z",
     "shell.execute_reply": "2022-06-20T19:16:38.761150Z",
     "shell.execute_reply.started": "2022-06-20T19:16:38.126533Z"
    },
    "tags": []
   },
   "outputs": [],
   "source": [
    "import boto3\n",
    "import kaggle\n",
    "import pandas as pd\n",
    "import numpy as np"
   ]
  },
  {
   "cell_type": "markdown",
   "id": "48755fa3-cba0-4508-9df2-18d50f60551b",
   "metadata": {},
   "source": [
    "#### Local application imports"
   ]
  },
  {
   "cell_type": "code",
   "execution_count": 3,
   "id": "a62e34a6-dea0-48d6-a3bc-c5dcdcdb1718",
   "metadata": {
    "execution": {
     "iopub.execute_input": "2022-06-20T19:16:38.763945Z",
     "iopub.status.busy": "2022-06-20T19:16:38.763327Z",
     "iopub.status.idle": "2022-06-20T19:16:39.102176Z",
     "shell.execute_reply": "2022-06-20T19:16:39.101558Z",
     "shell.execute_reply.started": "2022-06-20T19:16:38.763890Z"
    },
    "tags": []
   },
   "outputs": [],
   "source": [
    "%load_ext autoreload\n",
    "%autoreload 2\n",
    "\n",
    "from pkg_dir.config import *\n",
    "from pkg_dir.src.utils import *\n",
    "from pkg_dir.src.functions import *\n",
    "from pkg_dir.src.parameters import *"
   ]
  },
  {
   "cell_type": "markdown",
   "id": "d533fe5d-c902-4259-97ee-672d6f2363c6",
   "metadata": {},
   "source": [
    "# Segmented pipeline"
   ]
  },
  {
   "cell_type": "markdown",
   "id": "1bb3c1e4-3992-4329-a737-203e1e95c97a",
   "metadata": {},
   "source": [
    "## Extract"
   ]
  },
  {
   "cell_type": "code",
   "execution_count": 4,
   "id": "0144366f-e9d7-4f62-83d4-8088655413eb",
   "metadata": {
    "execution": {
     "iopub.execute_input": "2022-06-20T19:16:39.104761Z",
     "iopub.status.busy": "2022-06-20T19:16:39.104309Z",
     "iopub.status.idle": "2022-06-20T19:16:46.941434Z",
     "shell.execute_reply": "2022-06-20T19:16:46.940516Z",
     "shell.execute_reply.started": "2022-06-20T19:16:39.104739Z"
    },
    "tags": []
   },
   "outputs": [
    {
     "name": "stdout",
     "output_type": "stream",
     "text": [
      "Dataset already present locally... skipping download...\n",
      "Successfully uploaded file to AWS (titanic-spaceship-aws-bucket/pipeline_pkls/extract_test.pkl)\n",
      "Successfully uploaded file to AWS (titanic-spaceship-aws-bucket/pipeline_pkls/extract_sample_submission.pkl)\n",
      "Successfully uploaded file to AWS (titanic-spaceship-aws-bucket/pipeline_pkls/extract_train.pkl)\n"
     ]
    }
   ],
   "source": [
    "extract_pipeline_func()"
   ]
  },
  {
   "cell_type": "markdown",
   "id": "00cc1e0c-d936-4055-9c76-52c2aa344b58",
   "metadata": {},
   "source": [
    "## Transform"
   ]
  },
  {
   "cell_type": "code",
   "execution_count": null,
   "id": "8d782cd1-871b-47f5-b9dd-fb44c8c77cec",
   "metadata": {},
   "outputs": [],
   "source": []
  },
  {
   "cell_type": "code",
   "execution_count": null,
   "id": "23ea8d07-a1cd-4c67-b4cf-c4aa57a1790f",
   "metadata": {},
   "outputs": [],
   "source": []
  },
  {
   "cell_type": "code",
   "execution_count": null,
   "id": "64d68b57-eadb-4a6f-90dd-70446ff5833d",
   "metadata": {},
   "outputs": [],
   "source": []
  },
  {
   "cell_type": "markdown",
   "id": "f814e0c4-ff81-45e1-8d6e-e71d292dcc39",
   "metadata": {},
   "source": [
    "# Header 1"
   ]
  },
  {
   "cell_type": "markdown",
   "id": "784be4db-1c06-43e0-a4da-86b1bbcde318",
   "metadata": {},
   "source": [
    "# *Notes*"
   ]
  },
  {
   "cell_type": "markdown",
   "id": "68676670-2eae-44ad-b370-51defa70a061",
   "metadata": {
    "tags": []
   },
   "source": [
    "## Testing interaction with AWS s3"
   ]
  },
  {
   "cell_type": "markdown",
   "id": "17e8d15c-4dc2-40d0-b75a-20efc5d9d8eb",
   "metadata": {
    "jp-MarkdownHeadingCollapsed": true,
    "tags": []
   },
   "source": [
    "### Setting the s3 client"
   ]
  },
  {
   "cell_type": "code",
   "execution_count": null,
   "id": "c9bd12b4-a96e-4645-8606-ab8c4ffc7016",
   "metadata": {
    "tags": []
   },
   "outputs": [],
   "source": [
    "creds = read_yaml(creds_file_path)"
   ]
  },
  {
   "cell_type": "code",
   "execution_count": null,
   "id": "7b9161b4-3092-4289-a4f5-d49646f87c86",
   "metadata": {
    "tags": []
   },
   "outputs": [],
   "source": [
    "dev = boto3.Session(\n",
    "    aws_access_key_id=creds['aws']['aws_access_key_id'],\n",
    "    aws_secret_access_key=creds['aws']['aws_secret_access_key'],\n",
    ")"
   ]
  },
  {
   "cell_type": "code",
   "execution_count": null,
   "id": "182fca19-6649-45a9-b1f2-1a237f2fc593",
   "metadata": {
    "tags": []
   },
   "outputs": [],
   "source": [
    "s3 = dev.client('s3')"
   ]
  },
  {
   "cell_type": "markdown",
   "id": "a610d7ef-33dc-4885-81f3-bce0115ff470",
   "metadata": {
    "jp-MarkdownHeadingCollapsed": true,
    "tags": []
   },
   "source": [
    "### Listing buckets"
   ]
  },
  {
   "cell_type": "code",
   "execution_count": null,
   "id": "8456240d-783f-472b-b8f6-867d62d117a1",
   "metadata": {
    "tags": []
   },
   "outputs": [],
   "source": [
    "s3.list_buckets()"
   ]
  },
  {
   "cell_type": "markdown",
   "id": "7c1097e8-3035-4285-aea5-12108a89e58b",
   "metadata": {
    "tags": []
   },
   "source": [
    "### Uploading file to bucket"
   ]
  },
  {
   "cell_type": "markdown",
   "id": "18dfc87e-4edf-41b2-b4d5-bd99c94400bc",
   "metadata": {
    "tags": []
   },
   "source": [
    "#### Pre-created file"
   ]
  },
  {
   "cell_type": "code",
   "execution_count": null,
   "id": "7fc2d689-7f54-4f47-bf4e-72ea961c9610",
   "metadata": {
    "tags": []
   },
   "outputs": [],
   "source": [
    "## Uploading - test 1\n",
    "file_path = dataset_dir + '/test_file.txt'\n",
    "bucket = 'titanic-spaceship-aws-bucket'\n",
    "upload_file(file_path, bucket, object_name=None)"
   ]
  },
  {
   "cell_type": "code",
   "execution_count": null,
   "id": "92972265-d235-4712-af64-7f4177adcc19",
   "metadata": {
    "tags": []
   },
   "outputs": [],
   "source": [
    "## Uploading - test 2\n",
    "file_path = dataset_dir + '/test_file.txt'\n",
    "bucket = 'titanic-spaceship-aws-bucket'\n",
    "object_name = 'test_folder' + '/test_file.txt'\n",
    "upload_file(file_path, bucket, object_name)"
   ]
  },
  {
   "cell_type": "markdown",
   "id": "504713dc-fe9f-47c4-b943-ea517899130a",
   "metadata": {
    "jp-MarkdownHeadingCollapsed": true,
    "tags": []
   },
   "source": [
    "## Using kaggle library"
   ]
  },
  {
   "cell_type": "code",
   "execution_count": null,
   "id": "095891ba-8960-42c9-95c4-a73b4db82d8c",
   "metadata": {},
   "outputs": [],
   "source": [
    "kaggle.api.authenticate()"
   ]
  },
  {
   "cell_type": "code",
   "execution_count": null,
   "id": "0b93bf44-a22e-4117-8f8e-b8089e3f1466",
   "metadata": {},
   "outputs": [],
   "source": [
    "kaggle.api.competition_download_files"
   ]
  },
  {
   "cell_type": "code",
   "execution_count": null,
   "id": "68ce0a31-81f9-474c-b930-64fcd5a3cdb5",
   "metadata": {
    "scrolled": true,
    "tags": []
   },
   "outputs": [],
   "source": [
    "kaggle.api.competition_download_files(\n",
    "    'spaceship-titanic', \n",
    "    path=dataset_dir, \n",
    ")"
   ]
  },
  {
   "cell_type": "code",
   "execution_count": null,
   "id": "b246d0b1-5cc5-4db8-93fe-7ff8de30042f",
   "metadata": {},
   "outputs": [],
   "source": []
  },
  {
   "cell_type": "markdown",
   "id": "9762d4e8-614d-4010-b01c-6d8841b49699",
   "metadata": {
    "tags": []
   },
   "source": [
    "## Header 2"
   ]
  },
  {
   "cell_type": "code",
   "execution_count": null,
   "id": "fb5ed527-8a3b-4fa9-b973-e74c49014750",
   "metadata": {},
   "outputs": [],
   "source": []
  },
  {
   "cell_type": "code",
   "execution_count": null,
   "id": "a4d9c69f-be9d-4bd6-b931-5ce0f7a03c66",
   "metadata": {},
   "outputs": [],
   "source": []
  },
  {
   "cell_type": "markdown",
   "id": "b34c662c-f724-412f-86d7-75647d9b5448",
   "metadata": {},
   "source": [
    "---"
   ]
  },
  {
   "cell_type": "markdown",
   "id": "168089c7-257b-4b61-9a65-803e32753196",
   "metadata": {},
   "source": [
    "---"
   ]
  }
 ],
 "metadata": {
  "kernelspec": {
   "display_name": "Python 3 (ipykernel)",
   "language": "python",
   "name": "python3"
  },
  "language_info": {
   "codemirror_mode": {
    "name": "ipython",
    "version": 3
   },
   "file_extension": ".py",
   "mimetype": "text/x-python",
   "name": "python",
   "nbconvert_exporter": "python",
   "pygments_lexer": "ipython3",
   "version": "3.9.1"
  },
  "toc-autonumbering": true
 },
 "nbformat": 4,
 "nbformat_minor": 5
}
