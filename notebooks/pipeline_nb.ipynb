{
 "cells": [
  {
   "cell_type": "markdown",
   "id": "82c1d7a8-d74e-45e1-8937-264331e6d38a",
   "metadata": {},
   "source": [
    "# Notebook to conduct ML related tasks"
   ]
  },
  {
   "cell_type": "markdown",
   "id": "4154f37d-fde6-4cef-8617-114a3a2d7d8e",
   "metadata": {},
   "source": [
    "# Imports"
   ]
  },
  {
   "cell_type": "markdown",
   "id": "a98dbaa6-17e1-4b79-93f0-d142aedd0037",
   "metadata": {},
   "source": [
    "#### Standard library imports"
   ]
  },
  {
   "cell_type": "code",
   "execution_count": 1,
   "id": "63099808-51cd-453c-976a-f3060b8650aa",
   "metadata": {
    "execution": {
     "iopub.execute_input": "2022-07-03T20:43:47.641277Z",
     "iopub.status.busy": "2022-07-03T20:43:47.640867Z",
     "iopub.status.idle": "2022-07-03T20:43:47.654502Z",
     "shell.execute_reply": "2022-07-03T20:43:47.653160Z",
     "shell.execute_reply.started": "2022-07-03T20:43:47.641211Z"
    },
    "tags": []
   },
   "outputs": [],
   "source": [
    "import sys\n",
    "sys.path.append(\"../\")\n",
    "import os\n",
    "import pickle"
   ]
  },
  {
   "cell_type": "markdown",
   "id": "b94ec94d-0d78-4ec3-a21c-353ccf52eec6",
   "metadata": {},
   "source": [
    "#### Third party imports"
   ]
  },
  {
   "cell_type": "code",
   "execution_count": 2,
   "id": "9e4989d0-ba3a-41cf-8ccb-44cade842a03",
   "metadata": {
    "execution": {
     "iopub.execute_input": "2022-07-03T20:43:47.658844Z",
     "iopub.status.busy": "2022-07-03T20:43:47.658327Z",
     "iopub.status.idle": "2022-07-03T20:43:49.004564Z",
     "shell.execute_reply": "2022-07-03T20:43:49.003762Z",
     "shell.execute_reply.started": "2022-07-03T20:43:47.658818Z"
    },
    "tags": []
   },
   "outputs": [],
   "source": [
    "import boto3\n",
    "import kaggle\n",
    "import pandas as pd\n",
    "import numpy as np\n",
    "from sklearn.impute import SimpleImputer"
   ]
  },
  {
   "cell_type": "markdown",
   "id": "48755fa3-cba0-4508-9df2-18d50f60551b",
   "metadata": {},
   "source": [
    "#### Local application imports"
   ]
  },
  {
   "cell_type": "code",
   "execution_count": 3,
   "id": "a62e34a6-dea0-48d6-a3bc-c5dcdcdb1718",
   "metadata": {
    "execution": {
     "iopub.execute_input": "2022-07-03T20:43:49.005855Z",
     "iopub.status.busy": "2022-07-03T20:43:49.005433Z",
     "iopub.status.idle": "2022-07-03T20:43:49.393439Z",
     "shell.execute_reply": "2022-07-03T20:43:49.392875Z",
     "shell.execute_reply.started": "2022-07-03T20:43:49.005831Z"
    },
    "tags": []
   },
   "outputs": [],
   "source": [
    "%load_ext autoreload\n",
    "%autoreload 2\n",
    "\n",
    "from pkg_dir.config import *\n",
    "from pkg_dir.src.utils import *\n",
    "from pkg_dir.src.functions import *\n",
    "from pkg_dir.src.parameters import *"
   ]
  },
  {
   "cell_type": "markdown",
   "id": "d533fe5d-c902-4259-97ee-672d6f2363c6",
   "metadata": {},
   "source": [
    "# Segmented pipeline"
   ]
  },
  {
   "cell_type": "markdown",
   "id": "1bb3c1e4-3992-4329-a737-203e1e95c97a",
   "metadata": {
    "tags": []
   },
   "source": [
    "## Extract"
   ]
  },
  {
   "cell_type": "code",
   "execution_count": null,
   "id": "0144366f-e9d7-4f62-83d4-8088655413eb",
   "metadata": {
    "tags": []
   },
   "outputs": [],
   "source": [
    "extract_pipeline_func()"
   ]
  },
  {
   "cell_type": "code",
   "execution_count": null,
   "id": "73d4735a-bb18-4bde-b7c0-f2c6987e1fc5",
   "metadata": {},
   "outputs": [],
   "source": [
    "extract_objects = os.listdir(pipeline_pkl_extract_local_dir)"
   ]
  },
  {
   "cell_type": "code",
   "execution_count": null,
   "id": "bb8a7e5d-a8bd-4c76-b9b9-cd0fe5483a30",
   "metadata": {},
   "outputs": [],
   "source": []
  },
  {
   "cell_type": "code",
   "execution_count": null,
   "id": "07461b1b-6235-4388-ae87-c2edab20d447",
   "metadata": {},
   "outputs": [],
   "source": []
  },
  {
   "cell_type": "code",
   "execution_count": null,
   "id": "78f61210-8a77-4df7-b890-8e8f902a622e",
   "metadata": {
    "tags": []
   },
   "outputs": [],
   "source": [
    "bucket_name = base_bucket_name\n",
    "extract_bucket_key = pipeline_pkl_extract_aws_key\n",
    "extract_obj = 'extract_train.pkl'\n",
    "\n",
    "dfx = read_s3_obj_to_variable(bucket_name, extract_bucket_key, extract_obj)"
   ]
  },
  {
   "cell_type": "code",
   "execution_count": null,
   "id": "2d397a2e-f837-4a50-96cc-bab42e8e45af",
   "metadata": {},
   "outputs": [],
   "source": [
    "dfx.set_index('PassengerId', inplace=True)"
   ]
  },
  {
   "cell_type": "code",
   "execution_count": null,
   "id": "2519dd60-0e59-4f78-8de5-665076ec758c",
   "metadata": {},
   "outputs": [],
   "source": [
    "dfx.loc[:, 'Transported'].copy()"
   ]
  },
  {
   "cell_type": "markdown",
   "id": "560822b7-0dd4-41b0-bd4b-2c2d6cddcc07",
   "metadata": {
    "tags": []
   },
   "source": [
    "### Locally saved results"
   ]
  },
  {
   "cell_type": "code",
   "execution_count": 52,
   "id": "c93f8769-d9b9-44cf-aa54-56b0b3b04f30",
   "metadata": {
    "execution": {
     "iopub.execute_input": "2022-07-03T22:32:34.032937Z",
     "iopub.status.busy": "2022-07-03T22:32:34.026025Z",
     "iopub.status.idle": "2022-07-03T22:32:34.215998Z",
     "shell.execute_reply": "2022-07-03T22:32:34.215136Z",
     "shell.execute_reply.started": "2022-07-03T22:32:34.031977Z"
    },
    "tags": []
   },
   "outputs": [
    {
     "name": "stderr",
     "output_type": "stream",
     "text": [
      "[autoreload of pkg_dir.src.utils failed: Traceback (most recent call last):\n",
      "  File \"/Users/rp_mbp/Documents/ReposRob_RobPer/personal/kaggle/kgl_space_titanic/.venv/lib/python3.9/site-packages/IPython/extensions/autoreload.py\", line 257, in check\n",
      "    superreload(m, reload, self.old_objects)\n",
      "  File \"/Users/rp_mbp/Documents/ReposRob_RobPer/personal/kaggle/kgl_space_titanic/.venv/lib/python3.9/site-packages/IPython/extensions/autoreload.py\", line 455, in superreload\n",
      "    module = reload(module)\n",
      "  File \"/usr/local/Cellar/python@3.9/3.9.1_1/Frameworks/Python.framework/Versions/3.9/lib/python3.9/importlib/__init__.py\", line 169, in reload\n",
      "    _bootstrap._exec(spec, module)\n",
      "  File \"<frozen importlib._bootstrap>\", line 613, in _exec\n",
      "  File \"<frozen importlib._bootstrap_external>\", line 790, in exec_module\n",
      "  File \"<frozen importlib._bootstrap>\", line 228, in _call_with_frames_removed\n",
      "  File \"../pkg_dir/src/utils/__init__.py\", line 70, in <module>\n",
      "    from .ml_utils import (\n",
      "ImportError: cannot import name 'features_list_dict' from 'pkg_dir.src.utils.ml_utils' (../pkg_dir/src/utils/ml_utils.py)\n",
      "]\n"
     ]
    }
   ],
   "source": [
    "pkl_obj = 'extract_train.pkl'\n",
    "# pkl_obj = 'extract_test.pkl'"
   ]
  },
  {
   "cell_type": "code",
   "execution_count": 53,
   "id": "5d5236be-fd9a-4bb9-a6d3-5ce8eef05747",
   "metadata": {
    "execution": {
     "iopub.execute_input": "2022-07-03T22:32:34.218088Z",
     "iopub.status.busy": "2022-07-03T22:32:34.217836Z",
     "iopub.status.idle": "2022-07-03T22:32:34.276243Z",
     "shell.execute_reply": "2022-07-03T22:32:34.275620Z",
     "shell.execute_reply.started": "2022-07-03T22:32:34.218069Z"
    },
    "tags": []
   },
   "outputs": [],
   "source": [
    "with open(pipeline_pkl_extract_local_dir + pkl_obj, 'rb') as obj:\n",
    "    dfx = pickle.load(obj)"
   ]
  },
  {
   "cell_type": "markdown",
   "id": "00cc1e0c-d936-4055-9c76-52c2aa344b58",
   "metadata": {
    "tags": []
   },
   "source": [
    "## Transform"
   ]
  },
  {
   "cell_type": "code",
   "execution_count": null,
   "id": "73cbe9a4-1048-4454-aa4d-92e18009dd64",
   "metadata": {
    "tags": []
   },
   "outputs": [],
   "source": [
    "bucket_name = base_bucket_name\n",
    "extract_bucket_key = pipeline_pkl_transform_aws_key\n",
    "extract_obj = 'trans_train_x.pkl'\n",
    "\n",
    "dfx = read_s3_obj_to_variable(bucket_name, extract_bucket_key, extract_obj)"
   ]
  },
  {
   "cell_type": "code",
   "execution_count": null,
   "id": "23ea8d07-a1cd-4c67-b4cf-c4aa57a1790f",
   "metadata": {},
   "outputs": [],
   "source": [
    "dfx.info()"
   ]
  },
  {
   "cell_type": "markdown",
   "id": "30f087ad-1c14-41b4-8398-45a346ccb17a",
   "metadata": {
    "tags": []
   },
   "source": [
    "### Locally saved results"
   ]
  },
  {
   "cell_type": "code",
   "execution_count": 4,
   "id": "9853589c-4710-4582-81aa-9571bcf1c8ce",
   "metadata": {
    "execution": {
     "iopub.execute_input": "2022-07-03T20:43:49.398027Z",
     "iopub.status.busy": "2022-07-03T20:43:49.397670Z",
     "iopub.status.idle": "2022-07-03T20:43:49.429743Z",
     "shell.execute_reply": "2022-07-03T20:43:49.429113Z",
     "shell.execute_reply.started": "2022-07-03T20:43:49.398008Z"
    },
    "tags": []
   },
   "outputs": [],
   "source": [
    "# pkl_obj = 'trans_test_x.pkl'\n",
    "pkl_obj = 'trans_train_x.pkl'\n",
    "# pkl_obj = 'trans_train_y.pkl'"
   ]
  },
  {
   "cell_type": "code",
   "execution_count": 5,
   "id": "6d0cdc57-d8e1-4c08-95e2-e58ca35fdadf",
   "metadata": {
    "execution": {
     "iopub.execute_input": "2022-07-03T20:43:49.431108Z",
     "iopub.status.busy": "2022-07-03T20:43:49.430569Z",
     "iopub.status.idle": "2022-07-03T20:43:49.470051Z",
     "shell.execute_reply": "2022-07-03T20:43:49.469278Z",
     "shell.execute_reply.started": "2022-07-03T20:43:49.431090Z"
    },
    "tags": []
   },
   "outputs": [],
   "source": [
    "with open(pipeline_pkl_transform_local_dir + pkl_obj, 'rb') as obj:\n",
    "    dfx = pickle.load(obj)"
   ]
  },
  {
   "cell_type": "markdown",
   "id": "38920992-642b-40f9-8833-296454866484",
   "metadata": {},
   "source": [
    "## Feature engineering"
   ]
  },
  {
   "cell_type": "markdown",
   "id": "4142e10f-1303-4023-8b93-f90bc2a8e505",
   "metadata": {
    "tags": []
   },
   "source": [
    "### Locally saved results"
   ]
  },
  {
   "cell_type": "code",
   "execution_count": null,
   "id": "7d7da87a-4c59-4dab-9638-95eef297f5ab",
   "metadata": {
    "tags": []
   },
   "outputs": [],
   "source": [
    "# pkl_obj = 'feateng_train_x.pkl'\n",
    "# pkl_obj = 'feateng_train_y.pkl'\n",
    "pkl_obj = 'feateng_test_x.pkl'"
   ]
  },
  {
   "cell_type": "code",
   "execution_count": null,
   "id": "d387e0e7-0c18-487f-9cd5-73a8544c90d3",
   "metadata": {
    "tags": []
   },
   "outputs": [],
   "source": [
    "with open(pipeline_pkl_feateng_local_dir + pkl_obj, 'rb') as obj:\n",
    "    dfx = pickle.load(obj)"
   ]
  },
  {
   "cell_type": "markdown",
   "id": "f814e0c4-ff81-45e1-8d6e-e71d292dcc39",
   "metadata": {},
   "source": [
    "# Header 1"
   ]
  },
  {
   "cell_type": "markdown",
   "id": "784be4db-1c06-43e0-a4da-86b1bbcde318",
   "metadata": {},
   "source": [
    "# *Notes*"
   ]
  },
  {
   "cell_type": "markdown",
   "id": "68676670-2eae-44ad-b370-51defa70a061",
   "metadata": {
    "tags": []
   },
   "source": [
    "## Testing interaction with AWS s3"
   ]
  },
  {
   "cell_type": "markdown",
   "id": "17e8d15c-4dc2-40d0-b75a-20efc5d9d8eb",
   "metadata": {
    "jp-MarkdownHeadingCollapsed": true,
    "tags": []
   },
   "source": [
    "### Setting the s3 client"
   ]
  },
  {
   "cell_type": "code",
   "execution_count": null,
   "id": "c9bd12b4-a96e-4645-8606-ab8c4ffc7016",
   "metadata": {
    "tags": []
   },
   "outputs": [],
   "source": [
    "creds = read_yaml(creds_file_path)"
   ]
  },
  {
   "cell_type": "code",
   "execution_count": null,
   "id": "7b9161b4-3092-4289-a4f5-d49646f87c86",
   "metadata": {
    "tags": []
   },
   "outputs": [],
   "source": [
    "dev = boto3.Session(\n",
    "    aws_access_key_id=creds['aws']['aws_access_key_id'],\n",
    "    aws_secret_access_key=creds['aws']['aws_secret_access_key'],\n",
    ")"
   ]
  },
  {
   "cell_type": "code",
   "execution_count": null,
   "id": "182fca19-6649-45a9-b1f2-1a237f2fc593",
   "metadata": {
    "tags": []
   },
   "outputs": [],
   "source": [
    "s3 = dev.client('s3')"
   ]
  },
  {
   "cell_type": "markdown",
   "id": "a610d7ef-33dc-4885-81f3-bce0115ff470",
   "metadata": {
    "tags": []
   },
   "source": [
    "### Listing buckets"
   ]
  },
  {
   "cell_type": "code",
   "execution_count": null,
   "id": "8456240d-783f-472b-b8f6-867d62d117a1",
   "metadata": {
    "tags": []
   },
   "outputs": [],
   "source": [
    "s3.list_buckets()"
   ]
  },
  {
   "cell_type": "markdown",
   "id": "7c1097e8-3035-4285-aea5-12108a89e58b",
   "metadata": {
    "jp-MarkdownHeadingCollapsed": true,
    "tags": []
   },
   "source": [
    "### Uploading file to bucket"
   ]
  },
  {
   "cell_type": "markdown",
   "id": "18dfc87e-4edf-41b2-b4d5-bd99c94400bc",
   "metadata": {
    "tags": []
   },
   "source": [
    "#### Pre-created file"
   ]
  },
  {
   "cell_type": "code",
   "execution_count": null,
   "id": "7fc2d689-7f54-4f47-bf4e-72ea961c9610",
   "metadata": {
    "tags": []
   },
   "outputs": [],
   "source": [
    "## Uploading - test 1\n",
    "file_path = dataset_dir + '/test_file.txt'\n",
    "bucket = 'titanic-spaceship-aws-bucket'\n",
    "upload_file(file_path, bucket, object_name=None)"
   ]
  },
  {
   "cell_type": "code",
   "execution_count": null,
   "id": "92972265-d235-4712-af64-7f4177adcc19",
   "metadata": {
    "tags": []
   },
   "outputs": [],
   "source": [
    "## Uploading - test 2\n",
    "file_path = dataset_dir + '/test_file.txt'\n",
    "bucket = 'titanic-spaceship-aws-bucket'\n",
    "object_name = 'test_folder' + '/test_file.txt'\n",
    "upload_file(file_path, bucket, object_name)"
   ]
  },
  {
   "cell_type": "markdown",
   "id": "0bebb1af-177b-40a5-b176-a17ac009d92e",
   "metadata": {
    "tags": []
   },
   "source": [
    "### Listing objects in bucket"
   ]
  },
  {
   "cell_type": "code",
   "execution_count": null,
   "id": "deaf1ff4-544f-4055-8367-59f8079ec761",
   "metadata": {
    "tags": []
   },
   "outputs": [],
   "source": [
    "s3 = create_s3_client()"
   ]
  },
  {
   "cell_type": "code",
   "execution_count": null,
   "id": "6c6dd390-1d1d-4461-a035-54ea901e4214",
   "metadata": {
    "tags": []
   },
   "outputs": [],
   "source": [
    "bucket_name = base_bucket_name"
   ]
  },
  {
   "cell_type": "code",
   "execution_count": null,
   "id": "b142266e-d96c-4e70-966f-a634f7badad1",
   "metadata": {
    "tags": []
   },
   "outputs": [],
   "source": [
    "bucket_name = base_bucket_name\n",
    "bucket_key = 'pipeline_pkls/extract'\n",
    "\n",
    "[\n",
    "    obj['Key'].split(sep='/')[-1]\n",
    "    for obj\n",
    "    in s3.list_objects_v2(Bucket=bucket_name, Prefix=bucket_key)['Contents']\n",
    "]"
   ]
  },
  {
   "cell_type": "code",
   "execution_count": null,
   "id": "172c615e-ad60-4d6c-9d70-f877d46d6e5b",
   "metadata": {
    "tags": []
   },
   "outputs": [],
   "source": [
    "lx = list_objects_in_bucket_key(bucket_name, bucket_key)\n",
    "lx"
   ]
  },
  {
   "cell_type": "markdown",
   "id": "d87d0808-1bb2-4148-b27a-35637f3da78c",
   "metadata": {
    "tags": []
   },
   "source": [
    "### Reading file from bucket"
   ]
  },
  {
   "cell_type": "code",
   "execution_count": null,
   "id": "1fd14382-f36c-41d4-ac74-05367e3a1a86",
   "metadata": {
    "tags": []
   },
   "outputs": [],
   "source": [
    "s3 = create_s3_client()"
   ]
  },
  {
   "cell_type": "code",
   "execution_count": null,
   "id": "05cd9749-fd82-4f2a-9913-15d8e31bbe5b",
   "metadata": {
    "tags": []
   },
   "outputs": [],
   "source": [
    "bucket_name = bucket_name\n",
    "# bucket_key = os.path.join(aws_pipeline_pkl_extract, pipeline_pkl_extract_name)\n",
    "bucket_key = 'pipeline_pkls/extract/extract_train.pkl'"
   ]
  },
  {
   "cell_type": "code",
   "execution_count": null,
   "id": "94585c3f-1ab6-4473-9440-0d7081c22d05",
   "metadata": {
    "scrolled": true,
    "tags": []
   },
   "outputs": [],
   "source": [
    "obj = s3.get_object(Bucket=bucket_name, Key=bucket_key)"
   ]
  },
  {
   "cell_type": "code",
   "execution_count": null,
   "id": "c8eb8e96-8ce3-4032-b7ad-943b854dfaff",
   "metadata": {
    "tags": []
   },
   "outputs": [],
   "source": [
    "dfx = pickle.loads(obj['Body'].read())"
   ]
  },
  {
   "cell_type": "markdown",
   "id": "504713dc-fe9f-47c4-b943-ea517899130a",
   "metadata": {
    "jp-MarkdownHeadingCollapsed": true,
    "tags": []
   },
   "source": [
    "## Using kaggle library"
   ]
  },
  {
   "cell_type": "code",
   "execution_count": null,
   "id": "095891ba-8960-42c9-95c4-a73b4db82d8c",
   "metadata": {},
   "outputs": [],
   "source": [
    "kaggle.api.authenticate()"
   ]
  },
  {
   "cell_type": "code",
   "execution_count": null,
   "id": "0b93bf44-a22e-4117-8f8e-b8089e3f1466",
   "metadata": {},
   "outputs": [],
   "source": [
    "kaggle.api.competition_download_files"
   ]
  },
  {
   "cell_type": "code",
   "execution_count": null,
   "id": "68ce0a31-81f9-474c-b930-64fcd5a3cdb5",
   "metadata": {
    "scrolled": true,
    "tags": []
   },
   "outputs": [],
   "source": [
    "kaggle.api.competition_download_files(\n",
    "    'spaceship-titanic', \n",
    "    path=dataset_dir, \n",
    ")"
   ]
  },
  {
   "cell_type": "code",
   "execution_count": null,
   "id": "b246d0b1-5cc5-4db8-93fe-7ff8de30042f",
   "metadata": {},
   "outputs": [],
   "source": []
  },
  {
   "cell_type": "markdown",
   "id": "9762d4e8-614d-4010-b01c-6d8841b49699",
   "metadata": {
    "tags": []
   },
   "source": [
    "## Testing sklearn's imputer"
   ]
  },
  {
   "cell_type": "code",
   "execution_count": 26,
   "id": "8e1e5668-4ca1-4c93-b2f2-c9735ef26f84",
   "metadata": {
    "execution": {
     "iopub.execute_input": "2022-07-03T20:51:39.278938Z",
     "iopub.status.busy": "2022-07-03T20:51:39.278305Z",
     "iopub.status.idle": "2022-07-03T20:51:39.331423Z",
     "shell.execute_reply": "2022-07-03T20:51:39.330705Z",
     "shell.execute_reply.started": "2022-07-03T20:51:39.278909Z"
    },
    "scrolled": true,
    "tags": []
   },
   "outputs": [
    {
     "data": {
      "text/html": [
       "<div>\n",
       "<style scoped>\n",
       "    .dataframe tbody tr th:only-of-type {\n",
       "        vertical-align: middle;\n",
       "    }\n",
       "\n",
       "    .dataframe tbody tr th {\n",
       "        vertical-align: top;\n",
       "    }\n",
       "\n",
       "    .dataframe thead th {\n",
       "        text-align: right;\n",
       "    }\n",
       "</style>\n",
       "<table border=\"1\" class=\"dataframe\">\n",
       "  <thead>\n",
       "    <tr style=\"text-align: right;\">\n",
       "      <th></th>\n",
       "      <th>HomePlanet</th>\n",
       "      <th>CryoSleep</th>\n",
       "      <th>Destination</th>\n",
       "      <th>Age</th>\n",
       "      <th>VIP</th>\n",
       "      <th>RoomService</th>\n",
       "      <th>FoodCourt</th>\n",
       "      <th>ShoppingMall</th>\n",
       "      <th>Spa</th>\n",
       "      <th>VRDeck</th>\n",
       "      <th>Name</th>\n",
       "    </tr>\n",
       "    <tr>\n",
       "      <th>PassengerId</th>\n",
       "      <th></th>\n",
       "      <th></th>\n",
       "      <th></th>\n",
       "      <th></th>\n",
       "      <th></th>\n",
       "      <th></th>\n",
       "      <th></th>\n",
       "      <th></th>\n",
       "      <th></th>\n",
       "      <th></th>\n",
       "      <th></th>\n",
       "    </tr>\n",
       "  </thead>\n",
       "  <tbody>\n",
       "    <tr>\n",
       "      <th>0001_01</th>\n",
       "      <td>Europa</td>\n",
       "      <td>False</td>\n",
       "      <td>TRAPPIST-1e</td>\n",
       "      <td>39.0</td>\n",
       "      <td>False</td>\n",
       "      <td>0.0</td>\n",
       "      <td>0.0</td>\n",
       "      <td>0.0</td>\n",
       "      <td>0.0</td>\n",
       "      <td>0.0</td>\n",
       "      <td>Maham Ofracculy</td>\n",
       "    </tr>\n",
       "    <tr>\n",
       "      <th>0002_01</th>\n",
       "      <td>Earth</td>\n",
       "      <td>False</td>\n",
       "      <td>TRAPPIST-1e</td>\n",
       "      <td>24.0</td>\n",
       "      <td>False</td>\n",
       "      <td>109.0</td>\n",
       "      <td>9.0</td>\n",
       "      <td>25.0</td>\n",
       "      <td>549.0</td>\n",
       "      <td>44.0</td>\n",
       "      <td>Juanna Vines</td>\n",
       "    </tr>\n",
       "    <tr>\n",
       "      <th>0003_01</th>\n",
       "      <td>Europa</td>\n",
       "      <td>False</td>\n",
       "      <td>TRAPPIST-1e</td>\n",
       "      <td>58.0</td>\n",
       "      <td>True</td>\n",
       "      <td>43.0</td>\n",
       "      <td>3576.0</td>\n",
       "      <td>0.0</td>\n",
       "      <td>6715.0</td>\n",
       "      <td>49.0</td>\n",
       "      <td>Altark Susent</td>\n",
       "    </tr>\n",
       "    <tr>\n",
       "      <th>0003_02</th>\n",
       "      <td>Europa</td>\n",
       "      <td>False</td>\n",
       "      <td>TRAPPIST-1e</td>\n",
       "      <td>33.0</td>\n",
       "      <td>False</td>\n",
       "      <td>0.0</td>\n",
       "      <td>1283.0</td>\n",
       "      <td>371.0</td>\n",
       "      <td>3329.0</td>\n",
       "      <td>193.0</td>\n",
       "      <td>Solam Susent</td>\n",
       "    </tr>\n",
       "    <tr>\n",
       "      <th>0004_01</th>\n",
       "      <td>Earth</td>\n",
       "      <td>False</td>\n",
       "      <td>TRAPPIST-1e</td>\n",
       "      <td>16.0</td>\n",
       "      <td>False</td>\n",
       "      <td>303.0</td>\n",
       "      <td>70.0</td>\n",
       "      <td>151.0</td>\n",
       "      <td>565.0</td>\n",
       "      <td>2.0</td>\n",
       "      <td>Willy Santantines</td>\n",
       "    </tr>\n",
       "    <tr>\n",
       "      <th>...</th>\n",
       "      <td>...</td>\n",
       "      <td>...</td>\n",
       "      <td>...</td>\n",
       "      <td>...</td>\n",
       "      <td>...</td>\n",
       "      <td>...</td>\n",
       "      <td>...</td>\n",
       "      <td>...</td>\n",
       "      <td>...</td>\n",
       "      <td>...</td>\n",
       "      <td>...</td>\n",
       "    </tr>\n",
       "    <tr>\n",
       "      <th>9276_01</th>\n",
       "      <td>Europa</td>\n",
       "      <td>False</td>\n",
       "      <td>55 Cancri e</td>\n",
       "      <td>41.0</td>\n",
       "      <td>True</td>\n",
       "      <td>0.0</td>\n",
       "      <td>6819.0</td>\n",
       "      <td>0.0</td>\n",
       "      <td>1643.0</td>\n",
       "      <td>74.0</td>\n",
       "      <td>Gravior Noxnuther</td>\n",
       "    </tr>\n",
       "    <tr>\n",
       "      <th>9278_01</th>\n",
       "      <td>Earth</td>\n",
       "      <td>True</td>\n",
       "      <td>PSO J318.5-22</td>\n",
       "      <td>18.0</td>\n",
       "      <td>False</td>\n",
       "      <td>0.0</td>\n",
       "      <td>0.0</td>\n",
       "      <td>0.0</td>\n",
       "      <td>0.0</td>\n",
       "      <td>0.0</td>\n",
       "      <td>Kurta Mondalley</td>\n",
       "    </tr>\n",
       "    <tr>\n",
       "      <th>9279_01</th>\n",
       "      <td>Earth</td>\n",
       "      <td>False</td>\n",
       "      <td>TRAPPIST-1e</td>\n",
       "      <td>26.0</td>\n",
       "      <td>False</td>\n",
       "      <td>0.0</td>\n",
       "      <td>0.0</td>\n",
       "      <td>1872.0</td>\n",
       "      <td>1.0</td>\n",
       "      <td>0.0</td>\n",
       "      <td>Fayey Connon</td>\n",
       "    </tr>\n",
       "    <tr>\n",
       "      <th>9280_01</th>\n",
       "      <td>Europa</td>\n",
       "      <td>False</td>\n",
       "      <td>55 Cancri e</td>\n",
       "      <td>32.0</td>\n",
       "      <td>False</td>\n",
       "      <td>0.0</td>\n",
       "      <td>1049.0</td>\n",
       "      <td>0.0</td>\n",
       "      <td>353.0</td>\n",
       "      <td>3235.0</td>\n",
       "      <td>Celeon Hontichre</td>\n",
       "    </tr>\n",
       "    <tr>\n",
       "      <th>9280_02</th>\n",
       "      <td>Europa</td>\n",
       "      <td>False</td>\n",
       "      <td>TRAPPIST-1e</td>\n",
       "      <td>44.0</td>\n",
       "      <td>False</td>\n",
       "      <td>126.0</td>\n",
       "      <td>4688.0</td>\n",
       "      <td>0.0</td>\n",
       "      <td>0.0</td>\n",
       "      <td>12.0</td>\n",
       "      <td>Propsh Hontichre</td>\n",
       "    </tr>\n",
       "  </tbody>\n",
       "</table>\n",
       "<p>8693 rows × 11 columns</p>\n",
       "</div>"
      ],
      "text/plain": [
       "            HomePlanet CryoSleep    Destination   Age    VIP  RoomService  \\\n",
       "PassengerId                                                                 \n",
       "0001_01         Europa     False    TRAPPIST-1e  39.0  False          0.0   \n",
       "0002_01          Earth     False    TRAPPIST-1e  24.0  False        109.0   \n",
       "0003_01         Europa     False    TRAPPIST-1e  58.0   True         43.0   \n",
       "0003_02         Europa     False    TRAPPIST-1e  33.0  False          0.0   \n",
       "0004_01          Earth     False    TRAPPIST-1e  16.0  False        303.0   \n",
       "...                ...       ...            ...   ...    ...          ...   \n",
       "9276_01         Europa     False    55 Cancri e  41.0   True          0.0   \n",
       "9278_01          Earth      True  PSO J318.5-22  18.0  False          0.0   \n",
       "9279_01          Earth     False    TRAPPIST-1e  26.0  False          0.0   \n",
       "9280_01         Europa     False    55 Cancri e  32.0  False          0.0   \n",
       "9280_02         Europa     False    TRAPPIST-1e  44.0  False        126.0   \n",
       "\n",
       "             FoodCourt  ShoppingMall     Spa  VRDeck               Name  \n",
       "PassengerId                                                              \n",
       "0001_01            0.0           0.0     0.0     0.0    Maham Ofracculy  \n",
       "0002_01            9.0          25.0   549.0    44.0       Juanna Vines  \n",
       "0003_01         3576.0           0.0  6715.0    49.0      Altark Susent  \n",
       "0003_02         1283.0         371.0  3329.0   193.0       Solam Susent  \n",
       "0004_01           70.0         151.0   565.0     2.0  Willy Santantines  \n",
       "...                ...           ...     ...     ...                ...  \n",
       "9276_01         6819.0           0.0  1643.0    74.0  Gravior Noxnuther  \n",
       "9278_01            0.0           0.0     0.0     0.0    Kurta Mondalley  \n",
       "9279_01            0.0        1872.0     1.0     0.0       Fayey Connon  \n",
       "9280_01         1049.0           0.0   353.0  3235.0   Celeon Hontichre  \n",
       "9280_02         4688.0           0.0     0.0    12.0   Propsh Hontichre  \n",
       "\n",
       "[8693 rows x 11 columns]"
      ]
     },
     "execution_count": 26,
     "metadata": {},
     "output_type": "execute_result"
    }
   ],
   "source": [
    "dfx"
   ]
  },
  {
   "cell_type": "code",
   "execution_count": 27,
   "id": "d1d60f34-a5ca-4bdc-bc2d-f1b0917b29eb",
   "metadata": {
    "execution": {
     "iopub.execute_input": "2022-07-03T20:51:39.781957Z",
     "iopub.status.busy": "2022-07-03T20:51:39.781602Z",
     "iopub.status.idle": "2022-07-03T20:51:39.830717Z",
     "shell.execute_reply": "2022-07-03T20:51:39.829925Z",
     "shell.execute_reply.started": "2022-07-03T20:51:39.781931Z"
    },
    "tags": []
   },
   "outputs": [
    {
     "name": "stdout",
     "output_type": "stream",
     "text": [
      "<class 'pandas.core.frame.DataFrame'>\n",
      "Index: 8693 entries, 0001_01 to 9280_02\n",
      "Data columns (total 11 columns):\n",
      " #   Column        Non-Null Count  Dtype  \n",
      "---  ------        --------------  -----  \n",
      " 0   HomePlanet    8693 non-null   object \n",
      " 1   CryoSleep     8476 non-null   object \n",
      " 2   Destination   8693 non-null   object \n",
      " 3   Age           8514 non-null   float64\n",
      " 4   VIP           8490 non-null   object \n",
      " 5   RoomService   8512 non-null   float32\n",
      " 6   FoodCourt     8510 non-null   float32\n",
      " 7   ShoppingMall  8485 non-null   float32\n",
      " 8   Spa           8510 non-null   float32\n",
      " 9   VRDeck        8505 non-null   float32\n",
      " 10  Name          8693 non-null   object \n",
      "dtypes: float32(5), float64(1), object(5)\n",
      "memory usage: 903.2+ KB\n"
     ]
    }
   ],
   "source": [
    "dfx.info()"
   ]
  },
  {
   "cell_type": "code",
   "execution_count": 28,
   "id": "4ab0fc5f-5734-4730-9fe2-56da6ad22195",
   "metadata": {
    "execution": {
     "iopub.execute_input": "2022-07-03T20:51:43.264847Z",
     "iopub.status.busy": "2022-07-03T20:51:43.264452Z",
     "iopub.status.idle": "2022-07-03T20:51:43.317825Z",
     "shell.execute_reply": "2022-07-03T20:51:43.317178Z",
     "shell.execute_reply.started": "2022-07-03T20:51:43.264818Z"
    },
    "scrolled": true,
    "tags": []
   },
   "outputs": [
    {
     "data": {
      "text/html": [
       "<div>\n",
       "<style scoped>\n",
       "    .dataframe tbody tr th:only-of-type {\n",
       "        vertical-align: middle;\n",
       "    }\n",
       "\n",
       "    .dataframe tbody tr th {\n",
       "        vertical-align: top;\n",
       "    }\n",
       "\n",
       "    .dataframe thead th {\n",
       "        text-align: right;\n",
       "    }\n",
       "</style>\n",
       "<table border=\"1\" class=\"dataframe\">\n",
       "  <thead>\n",
       "    <tr style=\"text-align: right;\">\n",
       "      <th></th>\n",
       "      <th>HomePlanet</th>\n",
       "      <th>CryoSleep</th>\n",
       "      <th>Destination</th>\n",
       "      <th>Age</th>\n",
       "      <th>VIP</th>\n",
       "      <th>RoomService</th>\n",
       "      <th>FoodCourt</th>\n",
       "      <th>ShoppingMall</th>\n",
       "      <th>Spa</th>\n",
       "      <th>VRDeck</th>\n",
       "      <th>Name</th>\n",
       "    </tr>\n",
       "    <tr>\n",
       "      <th>PassengerId</th>\n",
       "      <th></th>\n",
       "      <th></th>\n",
       "      <th></th>\n",
       "      <th></th>\n",
       "      <th></th>\n",
       "      <th></th>\n",
       "      <th></th>\n",
       "      <th></th>\n",
       "      <th></th>\n",
       "      <th></th>\n",
       "      <th></th>\n",
       "    </tr>\n",
       "  </thead>\n",
       "  <tbody>\n",
       "    <tr>\n",
       "      <th>0099_02</th>\n",
       "      <td>Earth</td>\n",
       "      <td>NaN</td>\n",
       "      <td>TRAPPIST-1e</td>\n",
       "      <td>2.0</td>\n",
       "      <td>False</td>\n",
       "      <td>0.0</td>\n",
       "      <td>0.0</td>\n",
       "      <td>0.0</td>\n",
       "      <td>0.0</td>\n",
       "      <td>0.0</td>\n",
       "      <td>Thewis Connelson</td>\n",
       "    </tr>\n",
       "    <tr>\n",
       "      <th>0105_01</th>\n",
       "      <td>Earth</td>\n",
       "      <td>NaN</td>\n",
       "      <td>TRAPPIST-1e</td>\n",
       "      <td>27.0</td>\n",
       "      <td>False</td>\n",
       "      <td>0.0</td>\n",
       "      <td>0.0</td>\n",
       "      <td>570.0</td>\n",
       "      <td>2.0</td>\n",
       "      <td>131.0</td>\n",
       "      <td>Carry Cleachrand</td>\n",
       "    </tr>\n",
       "    <tr>\n",
       "      <th>0110_02</th>\n",
       "      <td>Europa</td>\n",
       "      <td>NaN</td>\n",
       "      <td>TRAPPIST-1e</td>\n",
       "      <td>40.0</td>\n",
       "      <td>False</td>\n",
       "      <td>0.0</td>\n",
       "      <td>331.0</td>\n",
       "      <td>0.0</td>\n",
       "      <td>0.0</td>\n",
       "      <td>1687.0</td>\n",
       "      <td>Aldeba Bootious</td>\n",
       "    </tr>\n",
       "    <tr>\n",
       "      <th>0115_01</th>\n",
       "      <td>Mars</td>\n",
       "      <td>NaN</td>\n",
       "      <td>TRAPPIST-1e</td>\n",
       "      <td>26.0</td>\n",
       "      <td>False</td>\n",
       "      <td>0.0</td>\n",
       "      <td>0.0</td>\n",
       "      <td>0.0</td>\n",
       "      <td>0.0</td>\n",
       "      <td>NaN</td>\n",
       "      <td>Rohs Pead</td>\n",
       "    </tr>\n",
       "    <tr>\n",
       "      <th>0173_01</th>\n",
       "      <td>Earth</td>\n",
       "      <td>NaN</td>\n",
       "      <td>TRAPPIST-1e</td>\n",
       "      <td>58.0</td>\n",
       "      <td>False</td>\n",
       "      <td>0.0</td>\n",
       "      <td>985.0</td>\n",
       "      <td>0.0</td>\n",
       "      <td>5.0</td>\n",
       "      <td>0.0</td>\n",
       "      <td>Hilip Grifford</td>\n",
       "    </tr>\n",
       "    <tr>\n",
       "      <th>...</th>\n",
       "      <td>...</td>\n",
       "      <td>...</td>\n",
       "      <td>...</td>\n",
       "      <td>...</td>\n",
       "      <td>...</td>\n",
       "      <td>...</td>\n",
       "      <td>...</td>\n",
       "      <td>...</td>\n",
       "      <td>...</td>\n",
       "      <td>...</td>\n",
       "      <td>...</td>\n",
       "    </tr>\n",
       "    <tr>\n",
       "      <th>9197_01</th>\n",
       "      <td>Europa</td>\n",
       "      <td>NaN</td>\n",
       "      <td>55 Cancri e</td>\n",
       "      <td>44.0</td>\n",
       "      <td>False</td>\n",
       "      <td>0.0</td>\n",
       "      <td>0.0</td>\n",
       "      <td>0.0</td>\n",
       "      <td>0.0</td>\n",
       "      <td>0.0</td>\n",
       "      <td>Bellus Platch</td>\n",
       "    </tr>\n",
       "    <tr>\n",
       "      <th>9227_05</th>\n",
       "      <td>Earth</td>\n",
       "      <td>NaN</td>\n",
       "      <td>TRAPPIST-1e</td>\n",
       "      <td>8.0</td>\n",
       "      <td>False</td>\n",
       "      <td>0.0</td>\n",
       "      <td>0.0</td>\n",
       "      <td>0.0</td>\n",
       "      <td>0.0</td>\n",
       "      <td>0.0</td>\n",
       "      <td>Hard Hinglendez</td>\n",
       "    </tr>\n",
       "    <tr>\n",
       "      <th>9246_01</th>\n",
       "      <td>Earth</td>\n",
       "      <td>NaN</td>\n",
       "      <td>TRAPPIST-1e</td>\n",
       "      <td>32.0</td>\n",
       "      <td>False</td>\n",
       "      <td>0.0</td>\n",
       "      <td>0.0</td>\n",
       "      <td>0.0</td>\n",
       "      <td>0.0</td>\n",
       "      <td>0.0</td>\n",
       "      <td>nan</td>\n",
       "    </tr>\n",
       "    <tr>\n",
       "      <th>9259_01</th>\n",
       "      <td>Earth</td>\n",
       "      <td>NaN</td>\n",
       "      <td>TRAPPIST-1e</td>\n",
       "      <td>44.0</td>\n",
       "      <td>False</td>\n",
       "      <td>1030.0</td>\n",
       "      <td>1015.0</td>\n",
       "      <td>0.0</td>\n",
       "      <td>11.0</td>\n",
       "      <td>NaN</td>\n",
       "      <td>Annah Gilleyons</td>\n",
       "    </tr>\n",
       "    <tr>\n",
       "      <th>9275_03</th>\n",
       "      <td>Europa</td>\n",
       "      <td>NaN</td>\n",
       "      <td>TRAPPIST-1e</td>\n",
       "      <td>30.0</td>\n",
       "      <td>False</td>\n",
       "      <td>0.0</td>\n",
       "      <td>3208.0</td>\n",
       "      <td>0.0</td>\n",
       "      <td>2.0</td>\n",
       "      <td>330.0</td>\n",
       "      <td>Atlasym Conable</td>\n",
       "    </tr>\n",
       "  </tbody>\n",
       "</table>\n",
       "<p>217 rows × 11 columns</p>\n",
       "</div>"
      ],
      "text/plain": [
       "            HomePlanet CryoSleep  Destination   Age    VIP  RoomService  \\\n",
       "PassengerId                                                               \n",
       "0099_02          Earth       NaN  TRAPPIST-1e   2.0  False          0.0   \n",
       "0105_01          Earth       NaN  TRAPPIST-1e  27.0  False          0.0   \n",
       "0110_02         Europa       NaN  TRAPPIST-1e  40.0  False          0.0   \n",
       "0115_01           Mars       NaN  TRAPPIST-1e  26.0  False          0.0   \n",
       "0173_01          Earth       NaN  TRAPPIST-1e  58.0  False          0.0   \n",
       "...                ...       ...          ...   ...    ...          ...   \n",
       "9197_01         Europa       NaN  55 Cancri e  44.0  False          0.0   \n",
       "9227_05          Earth       NaN  TRAPPIST-1e   8.0  False          0.0   \n",
       "9246_01          Earth       NaN  TRAPPIST-1e  32.0  False          0.0   \n",
       "9259_01          Earth       NaN  TRAPPIST-1e  44.0  False       1030.0   \n",
       "9275_03         Europa       NaN  TRAPPIST-1e  30.0  False          0.0   \n",
       "\n",
       "             FoodCourt  ShoppingMall   Spa  VRDeck              Name  \n",
       "PassengerId                                                           \n",
       "0099_02            0.0           0.0   0.0     0.0  Thewis Connelson  \n",
       "0105_01            0.0         570.0   2.0   131.0  Carry Cleachrand  \n",
       "0110_02          331.0           0.0   0.0  1687.0   Aldeba Bootious  \n",
       "0115_01            0.0           0.0   0.0     NaN         Rohs Pead  \n",
       "0173_01          985.0           0.0   5.0     0.0    Hilip Grifford  \n",
       "...                ...           ...   ...     ...               ...  \n",
       "9197_01            0.0           0.0   0.0     0.0     Bellus Platch  \n",
       "9227_05            0.0           0.0   0.0     0.0   Hard Hinglendez  \n",
       "9246_01            0.0           0.0   0.0     0.0               nan  \n",
       "9259_01         1015.0           0.0  11.0     NaN   Annah Gilleyons  \n",
       "9275_03         3208.0           0.0   2.0   330.0   Atlasym Conable  \n",
       "\n",
       "[217 rows x 11 columns]"
      ]
     },
     "execution_count": 28,
     "metadata": {},
     "output_type": "execute_result"
    }
   ],
   "source": [
    "dfx[dfx['CryoSleep'].isnull()]"
   ]
  },
  {
   "cell_type": "code",
   "execution_count": 29,
   "id": "1626066b-389e-447d-8580-99cb190672d9",
   "metadata": {
    "execution": {
     "iopub.execute_input": "2022-07-03T20:51:47.157966Z",
     "iopub.status.busy": "2022-07-03T20:51:47.157651Z",
     "iopub.status.idle": "2022-07-03T20:51:47.190952Z",
     "shell.execute_reply": "2022-07-03T20:51:47.190128Z",
     "shell.execute_reply.started": "2022-07-03T20:51:47.157941Z"
    },
    "tags": []
   },
   "outputs": [],
   "source": [
    "f_cat = [\n",
    "    feat\n",
    "    for feat in titanicsp_full_data_schema\n",
    "    if\n",
    "        'feature_type' in titanicsp_full_data_schema[feat]\n",
    "        and\n",
    "        'categorical' in titanicsp_full_data_schema[feat]['feature_type']\n",
    "        and\n",
    "        titanicsp_full_data_schema[feat]['model_relevant']\n",
    "        and\n",
    "        feat in dfx.columns\n",
    "        and\n",
    "        dfx.shape[0] - dfx[feat].count() != 0\n",
    "]"
   ]
  },
  {
   "cell_type": "code",
   "execution_count": 31,
   "id": "375e4145-92b4-41f5-b622-e5faf2b8f832",
   "metadata": {
    "execution": {
     "iopub.execute_input": "2022-07-03T20:52:18.966158Z",
     "iopub.status.busy": "2022-07-03T20:52:18.965776Z",
     "iopub.status.idle": "2022-07-03T20:52:19.003903Z",
     "shell.execute_reply": "2022-07-03T20:52:19.003100Z",
     "shell.execute_reply.started": "2022-07-03T20:52:18.966129Z"
    },
    "tags": []
   },
   "outputs": [],
   "source": [
    "imp_med = SimpleImputer(missing_values=np.nan, strategy='most_frequent')"
   ]
  },
  {
   "cell_type": "code",
   "execution_count": 34,
   "id": "9a5fcd19-6ca0-44eb-95ca-344c08159b4a",
   "metadata": {
    "execution": {
     "iopub.execute_input": "2022-07-03T20:52:59.746136Z",
     "iopub.status.busy": "2022-07-03T20:52:59.745516Z",
     "iopub.status.idle": "2022-07-03T20:52:59.793315Z",
     "shell.execute_reply": "2022-07-03T20:52:59.792664Z",
     "shell.execute_reply.started": "2022-07-03T20:52:59.746108Z"
    },
    "tags": []
   },
   "outputs": [],
   "source": [
    "dfx.loc[:, f_cat] = imp_med.fit_transform(dfx.loc[:, f_cat])"
   ]
  },
  {
   "cell_type": "code",
   "execution_count": 35,
   "id": "41f928df-bd50-4f03-8804-0734d9acb5a4",
   "metadata": {
    "execution": {
     "iopub.execute_input": "2022-07-03T20:53:00.624294Z",
     "iopub.status.busy": "2022-07-03T20:53:00.623899Z",
     "iopub.status.idle": "2022-07-03T20:53:00.670048Z",
     "shell.execute_reply": "2022-07-03T20:53:00.669386Z",
     "shell.execute_reply.started": "2022-07-03T20:53:00.624265Z"
    },
    "tags": []
   },
   "outputs": [
    {
     "name": "stdout",
     "output_type": "stream",
     "text": [
      "<class 'pandas.core.frame.DataFrame'>\n",
      "Index: 8693 entries, 0001_01 to 9280_02\n",
      "Data columns (total 11 columns):\n",
      " #   Column        Non-Null Count  Dtype  \n",
      "---  ------        --------------  -----  \n",
      " 0   HomePlanet    8693 non-null   object \n",
      " 1   CryoSleep     8693 non-null   bool   \n",
      " 2   Destination   8693 non-null   object \n",
      " 3   Age           8514 non-null   float64\n",
      " 4   VIP           8693 non-null   bool   \n",
      " 5   RoomService   8512 non-null   float32\n",
      " 6   FoodCourt     8510 non-null   float32\n",
      " 7   ShoppingMall  8485 non-null   float32\n",
      " 8   Spa           8510 non-null   float32\n",
      " 9   VRDeck        8505 non-null   float32\n",
      " 10  Name          8693 non-null   object \n",
      "dtypes: bool(2), float32(5), float64(1), object(3)\n",
      "memory usage: 784.4+ KB\n"
     ]
    }
   ],
   "source": [
    "dfx.info()"
   ]
  },
  {
   "cell_type": "code",
   "execution_count": null,
   "id": "1c86d271-a9be-460f-9e9b-8f8eed742f30",
   "metadata": {},
   "outputs": [],
   "source": [
    "dfx[dfx.index.isin(['0099_02', '0105_01'])]"
   ]
  },
  {
   "cell_type": "code",
   "execution_count": null,
   "id": "f7314ac6-c541-4421-81a0-3f20154bc103",
   "metadata": {},
   "outputs": [],
   "source": []
  },
  {
   "cell_type": "markdown",
   "id": "6efb1e02-163d-4ebd-a5c9-ae0a101b6336",
   "metadata": {
    "tags": []
   },
   "source": [
    "## Header 2"
   ]
  },
  {
   "cell_type": "code",
   "execution_count": null,
   "id": "81b0e03e-4d9f-46bb-9ae4-ff6a6e04a3d9",
   "metadata": {},
   "outputs": [],
   "source": []
  },
  {
   "cell_type": "code",
   "execution_count": null,
   "id": "7ee25cc3-c83c-4a99-b167-34624837974d",
   "metadata": {},
   "outputs": [],
   "source": []
  },
  {
   "cell_type": "markdown",
   "id": "b34c662c-f724-412f-86d7-75647d9b5448",
   "metadata": {},
   "source": [
    "---"
   ]
  },
  {
   "cell_type": "markdown",
   "id": "168089c7-257b-4b61-9a65-803e32753196",
   "metadata": {},
   "source": [
    "---"
   ]
  }
 ],
 "metadata": {
  "kernelspec": {
   "display_name": "Python 3 (ipykernel)",
   "language": "python",
   "name": "python3"
  },
  "language_info": {
   "codemirror_mode": {
    "name": "ipython",
    "version": 3
   },
   "file_extension": ".py",
   "mimetype": "text/x-python",
   "name": "python",
   "nbconvert_exporter": "python",
   "pygments_lexer": "ipython3",
   "version": "3.9.1"
  },
  "toc-autonumbering": true
 },
 "nbformat": 4,
 "nbformat_minor": 5
}
