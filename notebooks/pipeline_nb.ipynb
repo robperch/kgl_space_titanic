{
 "cells": [
  {
   "cell_type": "markdown",
   "id": "82c1d7a8-d74e-45e1-8937-264331e6d38a",
   "metadata": {},
   "source": [
    "# Notebook to conduct ML related tasks"
   ]
  },
  {
   "cell_type": "markdown",
   "id": "4154f37d-fde6-4cef-8617-114a3a2d7d8e",
   "metadata": {},
   "source": [
    "# Imports"
   ]
  },
  {
   "cell_type": "markdown",
   "id": "a98dbaa6-17e1-4b79-93f0-d142aedd0037",
   "metadata": {},
   "source": [
    "#### Standard library imports"
   ]
  },
  {
   "cell_type": "code",
   "execution_count": 1,
   "id": "63099808-51cd-453c-976a-f3060b8650aa",
   "metadata": {
    "execution": {
     "iopub.execute_input": "2022-06-30T01:22:06.226782Z",
     "iopub.status.busy": "2022-06-30T01:22:06.225975Z",
     "iopub.status.idle": "2022-06-30T01:22:06.235659Z",
     "shell.execute_reply": "2022-06-30T01:22:06.234873Z",
     "shell.execute_reply.started": "2022-06-30T01:22:06.226727Z"
    },
    "tags": []
   },
   "outputs": [],
   "source": [
    "import sys\n",
    "sys.path.append(\"../\")\n",
    "import os\n",
    "import pickle"
   ]
  },
  {
   "cell_type": "markdown",
   "id": "b94ec94d-0d78-4ec3-a21c-353ccf52eec6",
   "metadata": {},
   "source": [
    "#### Third party imports"
   ]
  },
  {
   "cell_type": "code",
   "execution_count": 2,
   "id": "9e4989d0-ba3a-41cf-8ccb-44cade842a03",
   "metadata": {
    "execution": {
     "iopub.execute_input": "2022-06-30T01:22:06.236962Z",
     "iopub.status.busy": "2022-06-30T01:22:06.236616Z",
     "iopub.status.idle": "2022-06-30T01:22:06.908175Z",
     "shell.execute_reply": "2022-06-30T01:22:06.907358Z",
     "shell.execute_reply.started": "2022-06-30T01:22:06.236940Z"
    },
    "tags": []
   },
   "outputs": [],
   "source": [
    "import boto3\n",
    "import kaggle\n",
    "import pandas as pd\n",
    "import numpy as np"
   ]
  },
  {
   "cell_type": "markdown",
   "id": "48755fa3-cba0-4508-9df2-18d50f60551b",
   "metadata": {},
   "source": [
    "#### Local application imports"
   ]
  },
  {
   "cell_type": "code",
   "execution_count": 3,
   "id": "a62e34a6-dea0-48d6-a3bc-c5dcdcdb1718",
   "metadata": {
    "execution": {
     "iopub.execute_input": "2022-06-30T01:22:06.910288Z",
     "iopub.status.busy": "2022-06-30T01:22:06.909321Z",
     "iopub.status.idle": "2022-06-30T01:22:07.328277Z",
     "shell.execute_reply": "2022-06-30T01:22:07.326753Z",
     "shell.execute_reply.started": "2022-06-30T01:22:06.910268Z"
    },
    "tags": []
   },
   "outputs": [],
   "source": [
    "%load_ext autoreload\n",
    "%autoreload 2\n",
    "\n",
    "from pkg_dir.config import *\n",
    "from pkg_dir.src.utils import *\n",
    "from pkg_dir.src.functions import *\n",
    "from pkg_dir.src.parameters import *"
   ]
  },
  {
   "cell_type": "markdown",
   "id": "d533fe5d-c902-4259-97ee-672d6f2363c6",
   "metadata": {},
   "source": [
    "# Segmented pipeline"
   ]
  },
  {
   "cell_type": "markdown",
   "id": "1bb3c1e4-3992-4329-a737-203e1e95c97a",
   "metadata": {
    "jp-MarkdownHeadingCollapsed": true,
    "tags": []
   },
   "source": [
    "## Extract"
   ]
  },
  {
   "cell_type": "code",
   "execution_count": null,
   "id": "0144366f-e9d7-4f62-83d4-8088655413eb",
   "metadata": {
    "tags": []
   },
   "outputs": [],
   "source": [
    "extract_pipeline_func()"
   ]
  },
  {
   "cell_type": "code",
   "execution_count": null,
   "id": "73d4735a-bb18-4bde-b7c0-f2c6987e1fc5",
   "metadata": {},
   "outputs": [],
   "source": [
    "extract_objects = os.listdir(pipeline_pkl_extract_local_dir)"
   ]
  },
  {
   "cell_type": "code",
   "execution_count": null,
   "id": "bb8a7e5d-a8bd-4c76-b9b9-cd0fe5483a30",
   "metadata": {},
   "outputs": [],
   "source": []
  },
  {
   "cell_type": "code",
   "execution_count": null,
   "id": "07461b1b-6235-4388-ae87-c2edab20d447",
   "metadata": {},
   "outputs": [],
   "source": []
  },
  {
   "cell_type": "code",
   "execution_count": null,
   "id": "78f61210-8a77-4df7-b890-8e8f902a622e",
   "metadata": {
    "tags": []
   },
   "outputs": [],
   "source": [
    "bucket_name = base_bucket_name\n",
    "extract_bucket_key = pipeline_pkl_extract_aws_key\n",
    "extract_obj = 'extract_train.pkl'\n",
    "\n",
    "dfx = read_s3_obj_to_variable(bucket_name, extract_bucket_key, extract_obj)"
   ]
  },
  {
   "cell_type": "code",
   "execution_count": null,
   "id": "2d397a2e-f837-4a50-96cc-bab42e8e45af",
   "metadata": {},
   "outputs": [],
   "source": [
    "dfx.set_index('PassengerId', inplace=True)"
   ]
  },
  {
   "cell_type": "code",
   "execution_count": null,
   "id": "2519dd60-0e59-4f78-8de5-665076ec758c",
   "metadata": {},
   "outputs": [],
   "source": [
    "dfx.loc[:, 'Transported'].copy()"
   ]
  },
  {
   "cell_type": "markdown",
   "id": "00cc1e0c-d936-4055-9c76-52c2aa344b58",
   "metadata": {
    "jp-MarkdownHeadingCollapsed": true,
    "tags": []
   },
   "source": [
    "## Transform"
   ]
  },
  {
   "cell_type": "code",
   "execution_count": null,
   "id": "73cbe9a4-1048-4454-aa4d-92e18009dd64",
   "metadata": {
    "tags": []
   },
   "outputs": [],
   "source": [
    "bucket_name = base_bucket_name\n",
    "extract_bucket_key = pipeline_pkl_transform_aws_key\n",
    "extract_obj = 'trans_train_x.pkl'\n",
    "\n",
    "dfx = read_s3_obj_to_variable(bucket_name, extract_bucket_key, extract_obj)"
   ]
  },
  {
   "cell_type": "code",
   "execution_count": null,
   "id": "23ea8d07-a1cd-4c67-b4cf-c4aa57a1790f",
   "metadata": {},
   "outputs": [],
   "source": [
    "dfx.info()"
   ]
  },
  {
   "cell_type": "markdown",
   "id": "38920992-642b-40f9-8833-296454866484",
   "metadata": {},
   "source": [
    "## Feature engineering"
   ]
  },
  {
   "cell_type": "code",
   "execution_count": null,
   "id": "52a82549-4e16-4873-886a-ccd675ae5e24",
   "metadata": {},
   "outputs": [],
   "source": [
    "pkl_path = pipeline_pkl_transform_local_dir + 'trans_train_x.pkl'"
   ]
  },
  {
   "cell_type": "code",
   "execution_count": null,
   "id": "c097f442-a600-490a-bf1a-c46af57c2fc2",
   "metadata": {
    "tags": []
   },
   "outputs": [],
   "source": [
    "with open(pkl_path, 'rb') as obj:\n",
    "    dfx = pickle.load(obj)"
   ]
  },
  {
   "cell_type": "code",
   "execution_count": null,
   "id": "05d65b64-12c1-4cb9-bff3-fd5db0c7ad16",
   "metadata": {},
   "outputs": [],
   "source": [
    "exp_cols = [\n",
    "    'RoomService',\n",
    "    'FoodCourt',\n",
    "    'ShoppingMall',\n",
    "    'Spa',\n",
    "    'VRDeck',\n",
    "]\n",
    "\n",
    "dfx.loc[:, exp_cols].sum(axis=1)"
   ]
  },
  {
   "cell_type": "code",
   "execution_count": null,
   "id": "fdeb24b5-49a0-4184-91a4-d16c18fa1742",
   "metadata": {},
   "outputs": [],
   "source": [
    "dfx.columns.tolist().index('VRDeck')"
   ]
  },
  {
   "cell_type": "code",
   "execution_count": null,
   "id": "260b0597-dd3d-401f-a4b1-be3b3b784885",
   "metadata": {},
   "outputs": [],
   "source": []
  },
  {
   "cell_type": "code",
   "execution_count": 17,
   "id": "fc87f29c-ec0c-4c62-86bd-45931c385bc5",
   "metadata": {
    "execution": {
     "iopub.execute_input": "2022-06-30T01:59:06.779346Z",
     "iopub.status.busy": "2022-06-30T01:59:06.779032Z",
     "iopub.status.idle": "2022-06-30T01:59:06.804003Z",
     "shell.execute_reply": "2022-06-30T01:59:06.803197Z",
     "shell.execute_reply.started": "2022-06-30T01:59:06.779323Z"
    },
    "tags": []
   },
   "outputs": [],
   "source": [
    "# transform_obj = 'trans_test_x.pkl'\n",
    "# transform_obj = 'trans_train_x.pkl'\n",
    "transform_obj = 'trans_train_y.pkl'"
   ]
  },
  {
   "cell_type": "code",
   "execution_count": 18,
   "id": "d76f638f-9df9-4bf8-aeaa-7c6d36bdee81",
   "metadata": {
    "execution": {
     "iopub.execute_input": "2022-06-30T01:59:07.027537Z",
     "iopub.status.busy": "2022-06-30T01:59:07.027217Z",
     "iopub.status.idle": "2022-06-30T01:59:07.072428Z",
     "shell.execute_reply": "2022-06-30T01:59:07.071370Z",
     "shell.execute_reply.started": "2022-06-30T01:59:07.027512Z"
    },
    "tags": []
   },
   "outputs": [
    {
     "ename": "UnicodeDecodeError",
     "evalue": "'utf-8' codec can't decode byte 0x80 in position 0: invalid start byte",
     "output_type": "error",
     "traceback": [
      "\u001b[0;31m---------------------------------------------------------------------------\u001b[0m",
      "\u001b[0;31mUnicodeDecodeError\u001b[0m                        Traceback (most recent call last)",
      "Input \u001b[0;32mIn [18]\u001b[0m, in \u001b[0;36m<cell line: 1>\u001b[0;34m()\u001b[0m\n\u001b[1;32m      1\u001b[0m \u001b[38;5;28;01mwith\u001b[39;00m \u001b[38;5;28mopen\u001b[39m(pipeline_pkl_transform_local_dir \u001b[38;5;241m+\u001b[39m transform_obj) \u001b[38;5;28;01mas\u001b[39;00m obj:\n\u001b[0;32m----> 2\u001b[0m     dfx \u001b[38;5;241m=\u001b[39m \u001b[43mpickle\u001b[49m\u001b[38;5;241;43m.\u001b[39;49m\u001b[43mload\u001b[49m\u001b[43m(\u001b[49m\u001b[43mobj\u001b[49m\u001b[43m)\u001b[49m\n",
      "File \u001b[0;32m/usr/local/Cellar/python@3.9/3.9.1_1/Frameworks/Python.framework/Versions/3.9/lib/python3.9/codecs.py:322\u001b[0m, in \u001b[0;36mBufferedIncrementalDecoder.decode\u001b[0;34m(self, input, final)\u001b[0m\n\u001b[1;32m    319\u001b[0m \u001b[38;5;28;01mdef\u001b[39;00m \u001b[38;5;21mdecode\u001b[39m(\u001b[38;5;28mself\u001b[39m, \u001b[38;5;28minput\u001b[39m, final\u001b[38;5;241m=\u001b[39m\u001b[38;5;28;01mFalse\u001b[39;00m):\n\u001b[1;32m    320\u001b[0m     \u001b[38;5;66;03m# decode input (taking the buffer into account)\u001b[39;00m\n\u001b[1;32m    321\u001b[0m     data \u001b[38;5;241m=\u001b[39m \u001b[38;5;28mself\u001b[39m\u001b[38;5;241m.\u001b[39mbuffer \u001b[38;5;241m+\u001b[39m \u001b[38;5;28minput\u001b[39m\n\u001b[0;32m--> 322\u001b[0m     (result, consumed) \u001b[38;5;241m=\u001b[39m \u001b[38;5;28;43mself\u001b[39;49m\u001b[38;5;241;43m.\u001b[39;49m\u001b[43m_buffer_decode\u001b[49m\u001b[43m(\u001b[49m\u001b[43mdata\u001b[49m\u001b[43m,\u001b[49m\u001b[43m \u001b[49m\u001b[38;5;28;43mself\u001b[39;49m\u001b[38;5;241;43m.\u001b[39;49m\u001b[43merrors\u001b[49m\u001b[43m,\u001b[49m\u001b[43m \u001b[49m\u001b[43mfinal\u001b[49m\u001b[43m)\u001b[49m\n\u001b[1;32m    323\u001b[0m     \u001b[38;5;66;03m# keep undecoded input until the next call\u001b[39;00m\n\u001b[1;32m    324\u001b[0m     \u001b[38;5;28mself\u001b[39m\u001b[38;5;241m.\u001b[39mbuffer \u001b[38;5;241m=\u001b[39m data[consumed:]\n",
      "\u001b[0;31mUnicodeDecodeError\u001b[0m: 'utf-8' codec can't decode byte 0x80 in position 0: invalid start byte"
     ]
    }
   ],
   "source": [
    "with open(pipeline_pkl_transform_local_dir + transform_obj) as obj:\n",
    "    dfx = pickle.load(obj)"
   ]
  },
  {
   "cell_type": "code",
   "execution_count": null,
   "id": "d9790dbd-2f5a-4cd4-8f77-6e21145a6f32",
   "metadata": {},
   "outputs": [],
   "source": []
  },
  {
   "cell_type": "code",
   "execution_count": null,
   "id": "60ddb41a-93a4-429c-988b-2dfd6800b1b7",
   "metadata": {
    "scrolled": true,
    "tags": []
   },
   "outputs": [],
   "source": [
    "len(titanicsp_data_schema)"
   ]
  },
  {
   "cell_type": "code",
   "execution_count": null,
   "id": "b10e038c-58aa-4daa-8a78-4e8d630455e5",
   "metadata": {},
   "outputs": [],
   "source": [
    "titanicsp_base_data_schema"
   ]
  },
  {
   "cell_type": "code",
   "execution_count": null,
   "id": "820da793-8730-4387-9962-13bf3ef21e57",
   "metadata": {},
   "outputs": [],
   "source": [
    "titanicsp_full_data_schema['prueba'] = {\n",
    "    'hola': 2,\n",
    "    'zapato': 1\n",
    "}"
   ]
  },
  {
   "cell_type": "code",
   "execution_count": null,
   "id": "0150ed0b-2343-4187-a743-60bcf921bf8b",
   "metadata": {},
   "outputs": [],
   "source": []
  },
  {
   "cell_type": "code",
   "execution_count": null,
   "id": "d882adf4-9ca0-4402-80a7-4f52e21d6e6b",
   "metadata": {},
   "outputs": [],
   "source": []
  },
  {
   "cell_type": "markdown",
   "id": "f814e0c4-ff81-45e1-8d6e-e71d292dcc39",
   "metadata": {},
   "source": [
    "# Header 1"
   ]
  },
  {
   "cell_type": "markdown",
   "id": "784be4db-1c06-43e0-a4da-86b1bbcde318",
   "metadata": {},
   "source": [
    "# *Notes*"
   ]
  },
  {
   "cell_type": "markdown",
   "id": "68676670-2eae-44ad-b370-51defa70a061",
   "metadata": {
    "tags": []
   },
   "source": [
    "## Testing interaction with AWS s3"
   ]
  },
  {
   "cell_type": "markdown",
   "id": "17e8d15c-4dc2-40d0-b75a-20efc5d9d8eb",
   "metadata": {
    "jp-MarkdownHeadingCollapsed": true,
    "tags": []
   },
   "source": [
    "### Setting the s3 client"
   ]
  },
  {
   "cell_type": "code",
   "execution_count": null,
   "id": "c9bd12b4-a96e-4645-8606-ab8c4ffc7016",
   "metadata": {
    "tags": []
   },
   "outputs": [],
   "source": [
    "creds = read_yaml(creds_file_path)"
   ]
  },
  {
   "cell_type": "code",
   "execution_count": null,
   "id": "7b9161b4-3092-4289-a4f5-d49646f87c86",
   "metadata": {
    "tags": []
   },
   "outputs": [],
   "source": [
    "dev = boto3.Session(\n",
    "    aws_access_key_id=creds['aws']['aws_access_key_id'],\n",
    "    aws_secret_access_key=creds['aws']['aws_secret_access_key'],\n",
    ")"
   ]
  },
  {
   "cell_type": "code",
   "execution_count": null,
   "id": "182fca19-6649-45a9-b1f2-1a237f2fc593",
   "metadata": {
    "tags": []
   },
   "outputs": [],
   "source": [
    "s3 = dev.client('s3')"
   ]
  },
  {
   "cell_type": "markdown",
   "id": "a610d7ef-33dc-4885-81f3-bce0115ff470",
   "metadata": {
    "jp-MarkdownHeadingCollapsed": true,
    "tags": []
   },
   "source": [
    "### Listing buckets"
   ]
  },
  {
   "cell_type": "code",
   "execution_count": null,
   "id": "8456240d-783f-472b-b8f6-867d62d117a1",
   "metadata": {
    "tags": []
   },
   "outputs": [],
   "source": [
    "s3.list_buckets()"
   ]
  },
  {
   "cell_type": "markdown",
   "id": "7c1097e8-3035-4285-aea5-12108a89e58b",
   "metadata": {
    "jp-MarkdownHeadingCollapsed": true,
    "tags": []
   },
   "source": [
    "### Uploading file to bucket"
   ]
  },
  {
   "cell_type": "markdown",
   "id": "18dfc87e-4edf-41b2-b4d5-bd99c94400bc",
   "metadata": {
    "tags": []
   },
   "source": [
    "#### Pre-created file"
   ]
  },
  {
   "cell_type": "code",
   "execution_count": null,
   "id": "7fc2d689-7f54-4f47-bf4e-72ea961c9610",
   "metadata": {
    "tags": []
   },
   "outputs": [],
   "source": [
    "## Uploading - test 1\n",
    "file_path = dataset_dir + '/test_file.txt'\n",
    "bucket = 'titanic-spaceship-aws-bucket'\n",
    "upload_file(file_path, bucket, object_name=None)"
   ]
  },
  {
   "cell_type": "code",
   "execution_count": null,
   "id": "92972265-d235-4712-af64-7f4177adcc19",
   "metadata": {
    "tags": []
   },
   "outputs": [],
   "source": [
    "## Uploading - test 2\n",
    "file_path = dataset_dir + '/test_file.txt'\n",
    "bucket = 'titanic-spaceship-aws-bucket'\n",
    "object_name = 'test_folder' + '/test_file.txt'\n",
    "upload_file(file_path, bucket, object_name)"
   ]
  },
  {
   "cell_type": "markdown",
   "id": "0bebb1af-177b-40a5-b176-a17ac009d92e",
   "metadata": {
    "tags": []
   },
   "source": [
    "### Listing objects in bucket"
   ]
  },
  {
   "cell_type": "code",
   "execution_count": null,
   "id": "deaf1ff4-544f-4055-8367-59f8079ec761",
   "metadata": {
    "tags": []
   },
   "outputs": [],
   "source": [
    "s3 = create_s3_client()"
   ]
  },
  {
   "cell_type": "code",
   "execution_count": null,
   "id": "6c6dd390-1d1d-4461-a035-54ea901e4214",
   "metadata": {
    "tags": []
   },
   "outputs": [],
   "source": [
    "bucket_name = base_bucket_name"
   ]
  },
  {
   "cell_type": "code",
   "execution_count": null,
   "id": "b142266e-d96c-4e70-966f-a634f7badad1",
   "metadata": {
    "tags": []
   },
   "outputs": [],
   "source": [
    "bucket_name = base_bucket_name\n",
    "bucket_key = 'pipeline_pkls/extract'\n",
    "\n",
    "[\n",
    "    obj['Key'].split(sep='/')[-1]\n",
    "    for obj\n",
    "    in s3.list_objects_v2(Bucket=bucket_name, Prefix=bucket_key)['Contents']\n",
    "]"
   ]
  },
  {
   "cell_type": "code",
   "execution_count": null,
   "id": "172c615e-ad60-4d6c-9d70-f877d46d6e5b",
   "metadata": {
    "tags": []
   },
   "outputs": [],
   "source": [
    "lx = list_objects_in_bucket_key(bucket_name, bucket_key)\n",
    "lx"
   ]
  },
  {
   "cell_type": "markdown",
   "id": "d87d0808-1bb2-4148-b27a-35637f3da78c",
   "metadata": {
    "tags": []
   },
   "source": [
    "### Reading file from bucket"
   ]
  },
  {
   "cell_type": "code",
   "execution_count": null,
   "id": "1fd14382-f36c-41d4-ac74-05367e3a1a86",
   "metadata": {
    "tags": []
   },
   "outputs": [],
   "source": [
    "s3 = create_s3_client()"
   ]
  },
  {
   "cell_type": "code",
   "execution_count": null,
   "id": "05cd9749-fd82-4f2a-9913-15d8e31bbe5b",
   "metadata": {
    "tags": []
   },
   "outputs": [],
   "source": [
    "bucket_name = bucket_name\n",
    "# bucket_key = os.path.join(aws_pipeline_pkl_extract, pipeline_pkl_extract_name)\n",
    "bucket_key = 'pipeline_pkls/extract/extract_train.pkl'"
   ]
  },
  {
   "cell_type": "code",
   "execution_count": null,
   "id": "94585c3f-1ab6-4473-9440-0d7081c22d05",
   "metadata": {
    "scrolled": true,
    "tags": []
   },
   "outputs": [],
   "source": [
    "obj = s3.get_object(Bucket=bucket_name, Key=bucket_key)"
   ]
  },
  {
   "cell_type": "code",
   "execution_count": null,
   "id": "c8eb8e96-8ce3-4032-b7ad-943b854dfaff",
   "metadata": {
    "tags": []
   },
   "outputs": [],
   "source": [
    "dfx = pickle.loads(obj['Body'].read())"
   ]
  },
  {
   "cell_type": "markdown",
   "id": "504713dc-fe9f-47c4-b943-ea517899130a",
   "metadata": {
    "jp-MarkdownHeadingCollapsed": true,
    "tags": []
   },
   "source": [
    "## Using kaggle library"
   ]
  },
  {
   "cell_type": "code",
   "execution_count": null,
   "id": "095891ba-8960-42c9-95c4-a73b4db82d8c",
   "metadata": {},
   "outputs": [],
   "source": [
    "kaggle.api.authenticate()"
   ]
  },
  {
   "cell_type": "code",
   "execution_count": null,
   "id": "0b93bf44-a22e-4117-8f8e-b8089e3f1466",
   "metadata": {},
   "outputs": [],
   "source": [
    "kaggle.api.competition_download_files"
   ]
  },
  {
   "cell_type": "code",
   "execution_count": null,
   "id": "68ce0a31-81f9-474c-b930-64fcd5a3cdb5",
   "metadata": {
    "scrolled": true,
    "tags": []
   },
   "outputs": [],
   "source": [
    "kaggle.api.competition_download_files(\n",
    "    'spaceship-titanic', \n",
    "    path=dataset_dir, \n",
    ")"
   ]
  },
  {
   "cell_type": "code",
   "execution_count": null,
   "id": "b246d0b1-5cc5-4db8-93fe-7ff8de30042f",
   "metadata": {},
   "outputs": [],
   "source": []
  },
  {
   "cell_type": "markdown",
   "id": "9762d4e8-614d-4010-b01c-6d8841b49699",
   "metadata": {
    "tags": []
   },
   "source": [
    "## Header 2"
   ]
  },
  {
   "cell_type": "code",
   "execution_count": null,
   "id": "e84d6627-4823-4300-a1e3-9e41c6e965d2",
   "metadata": {},
   "outputs": [],
   "source": []
  },
  {
   "cell_type": "code",
   "execution_count": null,
   "id": "7ee25cc3-c83c-4a99-b167-34624837974d",
   "metadata": {},
   "outputs": [],
   "source": []
  },
  {
   "cell_type": "markdown",
   "id": "b34c662c-f724-412f-86d7-75647d9b5448",
   "metadata": {},
   "source": [
    "---"
   ]
  },
  {
   "cell_type": "markdown",
   "id": "168089c7-257b-4b61-9a65-803e32753196",
   "metadata": {},
   "source": [
    "---"
   ]
  }
 ],
 "metadata": {
  "kernelspec": {
   "display_name": "Python 3 (ipykernel)",
   "language": "python",
   "name": "python3"
  },
  "language_info": {
   "codemirror_mode": {
    "name": "ipython",
    "version": 3
   },
   "file_extension": ".py",
   "mimetype": "text/x-python",
   "name": "python",
   "nbconvert_exporter": "python",
   "pygments_lexer": "ipython3",
   "version": "3.9.1"
  },
  "toc-autonumbering": true
 },
 "nbformat": 4,
 "nbformat_minor": 5
}
