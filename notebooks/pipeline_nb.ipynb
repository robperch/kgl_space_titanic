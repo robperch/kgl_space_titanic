{
 "cells": [
  {
   "cell_type": "markdown",
   "id": "82c1d7a8-d74e-45e1-8937-264331e6d38a",
   "metadata": {},
   "source": [
    "# Notebook to conduct ML related tasks"
   ]
  },
  {
   "cell_type": "markdown",
   "id": "4154f37d-fde6-4cef-8617-114a3a2d7d8e",
   "metadata": {},
   "source": [
    "# Imports"
   ]
  },
  {
   "cell_type": "markdown",
   "id": "a98dbaa6-17e1-4b79-93f0-d142aedd0037",
   "metadata": {},
   "source": [
    "#### Standard library imports"
   ]
  },
  {
   "cell_type": "code",
   "execution_count": 1,
   "id": "63099808-51cd-453c-976a-f3060b8650aa",
   "metadata": {
    "execution": {
     "iopub.execute_input": "2022-07-11T18:52:12.976953Z",
     "iopub.status.busy": "2022-07-11T18:52:12.976300Z",
     "iopub.status.idle": "2022-07-11T18:52:12.986513Z",
     "shell.execute_reply": "2022-07-11T18:52:12.984914Z",
     "shell.execute_reply.started": "2022-07-11T18:52:12.976844Z"
    },
    "tags": []
   },
   "outputs": [],
   "source": [
    "import sys\n",
    "sys.path.append(\"../\")\n",
    "import os\n",
    "import pickle\n",
    "import random\n",
    "from functools import partial"
   ]
  },
  {
   "cell_type": "markdown",
   "id": "b94ec94d-0d78-4ec3-a21c-353ccf52eec6",
   "metadata": {},
   "source": [
    "#### Third party imports"
   ]
  },
  {
   "cell_type": "code",
   "execution_count": 2,
   "id": "9e4989d0-ba3a-41cf-8ccb-44cade842a03",
   "metadata": {
    "execution": {
     "iopub.execute_input": "2022-07-11T18:52:12.988885Z",
     "iopub.status.busy": "2022-07-11T18:52:12.988530Z",
     "iopub.status.idle": "2022-07-11T18:52:14.322668Z",
     "shell.execute_reply": "2022-07-11T18:52:14.322023Z",
     "shell.execute_reply.started": "2022-07-11T18:52:12.988860Z"
    },
    "tags": []
   },
   "outputs": [],
   "source": [
    "import boto3\n",
    "import kaggle\n",
    "import pandas as pd\n",
    "import numpy as np\n",
    "from sklearn.impute import SimpleImputer\n",
    "from sklearn.model_selection import train_test_split\n",
    "from sklearn import metrics"
   ]
  },
  {
   "cell_type": "markdown",
   "id": "48755fa3-cba0-4508-9df2-18d50f60551b",
   "metadata": {},
   "source": [
    "#### Local application imports"
   ]
  },
  {
   "cell_type": "code",
   "execution_count": 3,
   "id": "a62e34a6-dea0-48d6-a3bc-c5dcdcdb1718",
   "metadata": {
    "execution": {
     "iopub.execute_input": "2022-07-11T18:52:14.323773Z",
     "iopub.status.busy": "2022-07-11T18:52:14.323517Z",
     "iopub.status.idle": "2022-07-11T18:52:14.692480Z",
     "shell.execute_reply": "2022-07-11T18:52:14.691623Z",
     "shell.execute_reply.started": "2022-07-11T18:52:14.323753Z"
    },
    "tags": []
   },
   "outputs": [],
   "source": [
    "%load_ext autoreload\n",
    "%autoreload 2\n",
    "\n",
    "from pkg_dir.config import *\n",
    "from pkg_dir.src.utils import *\n",
    "from pkg_dir.src.functions import *\n",
    "from pkg_dir.src.parameters import *"
   ]
  },
  {
   "cell_type": "markdown",
   "id": "d533fe5d-c902-4259-97ee-672d6f2363c6",
   "metadata": {},
   "source": [
    "# Segmented pipeline"
   ]
  },
  {
   "cell_type": "markdown",
   "id": "1bb3c1e4-3992-4329-a737-203e1e95c97a",
   "metadata": {
    "jp-MarkdownHeadingCollapsed": true,
    "tags": []
   },
   "source": [
    "## Extract"
   ]
  },
  {
   "cell_type": "markdown",
   "id": "560822b7-0dd4-41b0-bd4b-2c2d6cddcc07",
   "metadata": {
    "tags": []
   },
   "source": [
    "### Locally saved results"
   ]
  },
  {
   "cell_type": "code",
   "execution_count": null,
   "id": "c93f8769-d9b9-44cf-aa54-56b0b3b04f30",
   "metadata": {
    "tags": []
   },
   "outputs": [],
   "source": [
    "pkl_obj = 'extract_Xy_train.pkl'\n",
    "# pkl_obj = 'extract_X_test.pkl'"
   ]
  },
  {
   "cell_type": "code",
   "execution_count": null,
   "id": "5d5236be-fd9a-4bb9-a6d3-5ce8eef05747",
   "metadata": {
    "tags": []
   },
   "outputs": [],
   "source": [
    "with open(pipeline_pkl_extract_local_dir + pkl_obj, 'rb') as obj:\n",
    "    dfx = pickle.load(obj)"
   ]
  },
  {
   "cell_type": "markdown",
   "id": "00cc1e0c-d936-4055-9c76-52c2aa344b58",
   "metadata": {
    "jp-MarkdownHeadingCollapsed": true,
    "tags": []
   },
   "source": [
    "## Transform"
   ]
  },
  {
   "cell_type": "markdown",
   "id": "30f087ad-1c14-41b4-8398-45a346ccb17a",
   "metadata": {
    "tags": []
   },
   "source": [
    "### Locally saved results"
   ]
  },
  {
   "cell_type": "code",
   "execution_count": null,
   "id": "9853589c-4710-4582-81aa-9571bcf1c8ce",
   "metadata": {
    "tags": []
   },
   "outputs": [],
   "source": [
    "# pkl_obj = 'trans_X_train.pkl'\n",
    "# pkl_obj = 'trans_y_train.pkl'\n",
    "# pkl_obj = 'trans_X_val.pkl'\n",
    "# pkl_obj = 'trans_y_val.pkl'\n",
    "# pkl_obj = 'trans_X_test.pkl'\n",
    "pkl_obj = 'trans_y_test.pkl'"
   ]
  },
  {
   "cell_type": "code",
   "execution_count": null,
   "id": "6d0cdc57-d8e1-4c08-95e2-e58ca35fdadf",
   "metadata": {
    "tags": []
   },
   "outputs": [],
   "source": [
    "with open(pipeline_pkl_transform_local_dir + pkl_obj, 'rb') as obj:\n",
    "    dfx = pickle.load(obj)"
   ]
  },
  {
   "cell_type": "markdown",
   "id": "38920992-642b-40f9-8833-296454866484",
   "metadata": {
    "tags": []
   },
   "source": [
    "## Feature engineering"
   ]
  },
  {
   "cell_type": "markdown",
   "id": "4142e10f-1303-4023-8b93-f90bc2a8e505",
   "metadata": {
    "tags": []
   },
   "source": [
    "### Locally saved results"
   ]
  },
  {
   "cell_type": "code",
   "execution_count": null,
   "id": "7d7da87a-4c59-4dab-9638-95eef297f5ab",
   "metadata": {
    "tags": []
   },
   "outputs": [],
   "source": [
    "# pkl_obj = 'feateng_X_train.pkl'\n",
    "# pkl_obj = 'feateng_y_train.pkl'\n",
    "# pkl_obj = 'feateng_X_val.pkl'\n",
    "# pkl_obj = 'feateng_y_val.pkl'\n",
    "# pkl_obj = 'feateng_X_test.pkl'\n",
    "pkl_obj = 'feateng_y_test.pkl'"
   ]
  },
  {
   "cell_type": "code",
   "execution_count": null,
   "id": "d387e0e7-0c18-487f-9cd5-73a8544c90d3",
   "metadata": {
    "tags": []
   },
   "outputs": [],
   "source": [
    "with open(pipeline_pkl_feateng_local_dir + pkl_obj, 'rb') as obj:\n",
    "    dfx = pickle.load(obj)"
   ]
  },
  {
   "cell_type": "markdown",
   "id": "12c695f4-3903-40f0-bb1b-345eeca72310",
   "metadata": {},
   "source": [
    "## Models training"
   ]
  },
  {
   "cell_type": "markdown",
   "id": "dead7cc8-996c-4161-b301-dfa9e9b3b904",
   "metadata": {
    "tags": []
   },
   "source": [
    "### Locally saved results"
   ]
  },
  {
   "cell_type": "code",
   "execution_count": null,
   "id": "f8503ff2-2f72-4837-9282-89622817e966",
   "metadata": {
    "tags": []
   },
   "outputs": [],
   "source": [
    "# pkl_obj = 'modtrain_train_x.pkl'\n",
    "# pkl_obj = 'modtrain_train_y.pkl'\n",
    "# pkl_obj = 'modtrain_X_val.pkl'\n",
    "# pkl_obj = 'modtrain_y_val.pkl'\n",
    "# pkl_obj = 'modtrain_X_test.pkl'\n",
    "# pkl_obj = 'modtrain_y_val.pkl'\n",
    "# pkl_obj = 'modtrain_test_x.pkl'\n",
    "pkl_obj = 'modtrain_model_ml.pkl'"
   ]
  },
  {
   "cell_type": "code",
   "execution_count": null,
   "id": "fcb4766e-5507-4e1b-a16a-1f1530537c22",
   "metadata": {
    "tags": []
   },
   "outputs": [],
   "source": [
    "with open(pipeline_pkl_modtrain_local_dir + pkl_obj, 'rb') as obj:\n",
    "    dfx = pickle.load(obj)"
   ]
  },
  {
   "cell_type": "markdown",
   "id": "9802c397-037c-4885-9287-00b5423594e5",
   "metadata": {},
   "source": [
    "## Models evaluation and selection"
   ]
  },
  {
   "cell_type": "markdown",
   "id": "fd825d23-823f-4b3f-8ed6-0b6bda6f6c99",
   "metadata": {
    "tags": []
   },
   "source": [
    "### Evaluating the model's performance with the validation dataset"
   ]
  },
  {
   "cell_type": "markdown",
   "id": "e4eab546-b7d4-49e8-b971-6798fe9301d7",
   "metadata": {
    "tags": []
   },
   "source": [
    "#### Loading objects"
   ]
  },
  {
   "cell_type": "code",
   "execution_count": null,
   "id": "f21fd4c6-c698-46db-b16a-3a29a0accbe8",
   "metadata": {
    "tags": []
   },
   "outputs": [],
   "source": [
    "pkl_obj = 'modtrain_X_val.pkl'\n",
    "\n",
    "with open(pipeline_pkl_modtrain_local_dir + pkl_obj, 'rb') as obj:\n",
    "    X_val = pickle.load(obj)"
   ]
  },
  {
   "cell_type": "code",
   "execution_count": null,
   "id": "8f4d4570-adaa-4a55-b6be-0bab2dd796c5",
   "metadata": {
    "tags": []
   },
   "outputs": [],
   "source": [
    "pkl_obj = 'modtrain_y_val.pkl'\n",
    "\n",
    "with open(pipeline_pkl_modtrain_local_dir + pkl_obj, 'rb') as obj:\n",
    "    y_val = pickle.load(obj)"
   ]
  },
  {
   "cell_type": "code",
   "execution_count": null,
   "id": "7a10147f-b944-4501-b6c3-427225114adf",
   "metadata": {
    "tags": []
   },
   "outputs": [],
   "source": [
    "pkl_obj = 'modtrain_model_ml.pkl'\n",
    "\n",
    "with open(pipeline_pkl_modtrain_local_dir + pkl_obj, 'rb') as obj:\n",
    "    modtrain_res = pickle.load(obj)"
   ]
  },
  {
   "cell_type": "markdown",
   "id": "6c173060-0978-4b15-86e0-47dfdc1cebef",
   "metadata": {
    "tags": []
   },
   "source": [
    "#### Model evaluation\n",
    "- RandomForestClassifier(max_features=10, max_leaf_nodes=50, min_samples_leaf=10)"
   ]
  },
  {
   "cell_type": "code",
   "execution_count": null,
   "id": "917b0592-acf4-4994-a3e2-03e262c87ea0",
   "metadata": {
    "tags": []
   },
   "outputs": [],
   "source": [
    "model = modtrain_res['random_forest']['best_estimator']"
   ]
  },
  {
   "cell_type": "code",
   "execution_count": null,
   "id": "61fcf8d7-caff-4038-a9c4-4e59355a33c6",
   "metadata": {
    "tags": []
   },
   "outputs": [],
   "source": [
    "## Copy of the validation labels\n",
    "y_valx = y_val.copy()"
   ]
  },
  {
   "cell_type": "code",
   "execution_count": null,
   "id": "51931fe6-854e-406e-99f7-c66837289b85",
   "metadata": {
    "tags": []
   },
   "outputs": [],
   "source": [
    "## Adding the model's prediciton\n",
    "y_valx['predict'] = model.predict(X_val)"
   ]
  },
  {
   "cell_type": "code",
   "execution_count": null,
   "id": "8ca414fc-6b54-4f38-865e-4c3db6cbd482",
   "metadata": {},
   "outputs": [],
   "source": [
    "## Adding the prediction probabilities of class 1\n",
    "y_valx['positive_prob'] = model.predict_proba(X_val)[:, 1]"
   ]
  },
  {
   "cell_type": "code",
   "execution_count": null,
   "id": "84523afd-9fb2-4056-88b2-0c45df03a5c1",
   "metadata": {},
   "outputs": [],
   "source": []
  },
  {
   "cell_type": "code",
   "execution_count": null,
   "id": "5cde6237-49fd-4419-98a0-138952e963de",
   "metadata": {},
   "outputs": [],
   "source": [
    "metrics.accuracy_score(\n",
    "    y_true=y_valx['label'],\n",
    "    y_pred=y_valx['predict'],\n",
    ")"
   ]
  },
  {
   "cell_type": "code",
   "execution_count": null,
   "id": "1cb4acf2-f567-4bf0-b768-c6e220b5054d",
   "metadata": {
    "tags": []
   },
   "outputs": [],
   "source": [
    "metrics.balanced_accuracy_score(\n",
    "    y_true=y_valx['label'],\n",
    "    y_pred=y_valx['predict'],\n",
    ")"
   ]
  },
  {
   "cell_type": "code",
   "execution_count": null,
   "id": "ed8a9884-ec57-4978-bf73-7f22d75c8a87",
   "metadata": {
    "tags": []
   },
   "outputs": [],
   "source": [
    "metrics.average_precision_score(\n",
    "    y_true=y_valx['label'],\n",
    "    y_score=y_valx['positive_prob'],\n",
    "    pos_label=True\n",
    ")"
   ]
  },
  {
   "cell_type": "code",
   "execution_count": null,
   "id": "c6def390-25bc-470e-bed3-5912d233b19d",
   "metadata": {
    "tags": []
   },
   "outputs": [],
   "source": [
    "metrics.brier_score_loss(\n",
    "    y_true=y_valx['label'],\n",
    "    y_prob=y_valx['positive_prob'],\n",
    "    pos_label=True\n",
    ")"
   ]
  },
  {
   "cell_type": "code",
   "execution_count": null,
   "id": "3dff47c1-aee8-4fe8-b821-dcea06398914",
   "metadata": {
    "tags": []
   },
   "outputs": [],
   "source": [
    "metrics.f1_score(\n",
    "    y_true=y_valx['label'],\n",
    "    y_pred=y_valx['predict'],\n",
    "    pos_label=True\n",
    ")"
   ]
  },
  {
   "cell_type": "code",
   "execution_count": null,
   "id": "11d42b9b-c0af-4675-8e23-18a4144a98b9",
   "metadata": {
    "tags": []
   },
   "outputs": [],
   "source": [
    "metrics.precision_score(\n",
    "    y_true=y_valx['label'],\n",
    "    y_pred=y_valx['predict'],\n",
    "    pos_label=True\n",
    ")"
   ]
  },
  {
   "cell_type": "code",
   "execution_count": null,
   "id": "8f4e9473-8bca-464b-bb80-23c1221f9414",
   "metadata": {
    "tags": []
   },
   "outputs": [],
   "source": [
    "metrics.recall_score(\n",
    "    y_true=y_valx['label'],\n",
    "    y_pred=y_valx['predict'],\n",
    "    pos_label=True\n",
    ")"
   ]
  },
  {
   "cell_type": "code",
   "execution_count": null,
   "id": "165b55e3-3c0d-4e01-9812-780440202c9c",
   "metadata": {
    "tags": []
   },
   "outputs": [],
   "source": [
    "cm = metrics.confusion_matrix(\n",
    "    y_true=y_valx['label'],\n",
    "    y_pred=y_valx['predict'],\n",
    ")\n",
    "\n",
    "metrics.ConfusionMatrixDisplay(cm).plot()"
   ]
  },
  {
   "cell_type": "code",
   "execution_count": null,
   "id": "276fdd28-02c7-49f5-aa67-fce034915a3f",
   "metadata": {
    "tags": []
   },
   "outputs": [],
   "source": [
    "fpr, tpr, tresholds = metrics.roc_curve(\n",
    "    y_true=y_valx['label'],\n",
    "    y_score=y_valx['positive_prob'],\n",
    ")\n",
    "\n",
    "roc_auc = metrics.auc(\n",
    "    x=fpr,\n",
    "    y=tpr,\n",
    ")\n",
    "\n",
    "roc_curve = metrics.RocCurveDisplay(\n",
    "    fpr=fpr,\n",
    "    tpr=tpr,\n",
    "    roc_auc=roc_auc,\n",
    "    estimator_name='random_forest'\n",
    ")\n",
    "\n",
    "roc_curve.plot()"
   ]
  },
  {
   "cell_type": "code",
   "execution_count": null,
   "id": "17acd4ee-e8ff-46f9-823e-e5fe7d9df66c",
   "metadata": {
    "tags": []
   },
   "outputs": [],
   "source": [
    "precision, recall, _ = metrics.precision_recall_curve(\n",
    "    y_true=y_valx['label'],\n",
    "    probas_pred=y_valx['positive_prob'],\n",
    "    pos_label=True,\n",
    ")\n",
    "\n",
    "pr_curve = metrics.PrecisionRecallDisplay(\n",
    "    precision=precision,\n",
    "    recall=recall,\n",
    "    estimator_name='random_forest',\n",
    ")\n",
    "\n",
    "pr_curve.plot()"
   ]
  },
  {
   "cell_type": "code",
   "execution_count": null,
   "id": "b5fe34f2-8d12-4daa-ab18-2f2b3d57af0c",
   "metadata": {},
   "outputs": [],
   "source": []
  },
  {
   "cell_type": "code",
   "execution_count": null,
   "id": "b3a65727-8ef7-4017-ad56-51dd3c696739",
   "metadata": {
    "tags": []
   },
   "outputs": [],
   "source": [
    "metrics.accuracy_score(\n",
    "    y_true=y_valx['label'],\n",
    "    y_pred=y_valx['predict'],\n",
    ")"
   ]
  },
  {
   "cell_type": "code",
   "execution_count": null,
   "id": "46481a8a-dc21-4e10-81d6-30277aad90a0",
   "metadata": {
    "tags": []
   },
   "outputs": [],
   "source": [
    "y_valx['test'] = np.where(y_valx['positive_prob'] > 0.4, True, False)"
   ]
  },
  {
   "cell_type": "code",
   "execution_count": null,
   "id": "636b2ed5-24c7-4519-bb36-f61bc2d2691f",
   "metadata": {
    "tags": []
   },
   "outputs": [],
   "source": [
    "np.where(y_valx['test'] == y_valx['predict'], 1, 0).sum()"
   ]
  },
  {
   "cell_type": "code",
   "execution_count": null,
   "id": "218338cb-0aeb-4267-bcd7-2b5b75ca677e",
   "metadata": {
    "tags": []
   },
   "outputs": [],
   "source": [
    "metrics.accuracy_score(\n",
    "    y_true=y_valx['label'],\n",
    "    y_pred=y_valx['test'],\n",
    ")"
   ]
  },
  {
   "cell_type": "code",
   "execution_count": null,
   "id": "93afc60c-c9d4-4d33-bae6-d09aa4d67f06",
   "metadata": {},
   "outputs": [],
   "source": []
  },
  {
   "cell_type": "markdown",
   "id": "f5e64b43-5b54-4de6-b897-efee58118ffa",
   "metadata": {
    "tags": []
   },
   "source": [
    "### Locally saved results"
   ]
  },
  {
   "cell_type": "code",
   "execution_count": null,
   "id": "aa20b40e-0c8b-4513-b791-d4d2c970828b",
   "metadata": {
    "tags": []
   },
   "outputs": [],
   "source": [
    "# pkl_obj = 'modevalsel_X_train.pkl'\n",
    "# pkl_obj = 'modevalsel_y_train.pkl'\n",
    "# pkl_obj = 'modevalsel_X_val.pkl'\n",
    "# pkl_obj = 'modevalsel_y_val.pkl'\n",
    "# pkl_obj = 'modevalsel_X_test.pkl'\n",
    "# pkl_obj = 'modevalsel_y_test.pkl'\n",
    "pkl_obj = 'modevalsel_metrics.pkl'"
   ]
  },
  {
   "cell_type": "code",
   "execution_count": null,
   "id": "1f53d2fa-e5cb-4dde-b856-03b8d0d50563",
   "metadata": {
    "tags": []
   },
   "outputs": [],
   "source": [
    "with open(pipeline_pkl_modevalsel_local_dir + pkl_obj, 'rb') as obj:\n",
    "    dfx = pickle.load(obj)"
   ]
  },
  {
   "cell_type": "markdown",
   "id": "f814e0c4-ff81-45e1-8d6e-e71d292dcc39",
   "metadata": {},
   "source": [
    "# Submit prediction to Kaggle"
   ]
  },
  {
   "cell_type": "code",
   "execution_count": 4,
   "id": "4ef1efbe-d55c-44ef-897d-9280b209dec0",
   "metadata": {
    "execution": {
     "iopub.execute_input": "2022-07-11T18:52:36.962228Z",
     "iopub.status.busy": "2022-07-11T18:52:36.961850Z",
     "iopub.status.idle": "2022-07-11T18:52:37.001786Z",
     "shell.execute_reply": "2022-07-11T18:52:37.001033Z",
     "shell.execute_reply.started": "2022-07-11T18:52:36.962199Z"
    },
    "tags": []
   },
   "outputs": [],
   "source": [
    "pkl_obj = 'modtrain_X_test.pkl'\n",
    "\n",
    "with open(pipeline_pkl_modtrain_local_dir + pkl_obj, 'rb') as obj:\n",
    "    X_test = pickle.load(obj)"
   ]
  },
  {
   "cell_type": "code",
   "execution_count": 5,
   "id": "c717e5ee-f22b-4ff7-b31a-94dccb4aef75",
   "metadata": {
    "execution": {
     "iopub.execute_input": "2022-07-11T18:52:37.119406Z",
     "iopub.status.busy": "2022-07-11T18:52:37.118935Z",
     "iopub.status.idle": "2022-07-11T18:52:37.157445Z",
     "shell.execute_reply": "2022-07-11T18:52:37.156641Z",
     "shell.execute_reply.started": "2022-07-11T18:52:37.119347Z"
    },
    "tags": []
   },
   "outputs": [],
   "source": [
    "pkl_obj = 'modtrain_y_test.pkl'\n",
    "\n",
    "with open(pipeline_pkl_modtrain_local_dir + pkl_obj, 'rb') as obj:\n",
    "    y_test = pickle.load(obj)"
   ]
  },
  {
   "cell_type": "code",
   "execution_count": 6,
   "id": "f79a57ad-5314-4391-8919-278969fe4ba4",
   "metadata": {
    "execution": {
     "iopub.execute_input": "2022-07-11T18:52:37.265789Z",
     "iopub.status.busy": "2022-07-11T18:52:37.265350Z",
     "iopub.status.idle": "2022-07-11T18:52:37.320179Z",
     "shell.execute_reply": "2022-07-11T18:52:37.319322Z",
     "shell.execute_reply.started": "2022-07-11T18:52:37.265762Z"
    },
    "tags": []
   },
   "outputs": [],
   "source": [
    "pkl_obj = 'modtrain_model_ml.pkl'\n",
    "\n",
    "with open(pipeline_pkl_modtrain_local_dir + pkl_obj, 'rb') as obj:\n",
    "    modtrain_res = pickle.load(obj)"
   ]
  },
  {
   "cell_type": "code",
   "execution_count": 9,
   "id": "37f2f60c-de96-466c-adc8-d905bd1d93f5",
   "metadata": {
    "execution": {
     "iopub.execute_input": "2022-07-11T18:52:54.148308Z",
     "iopub.status.busy": "2022-07-11T18:52:54.147607Z",
     "iopub.status.idle": "2022-07-11T18:52:54.185880Z",
     "shell.execute_reply": "2022-07-11T18:52:54.184934Z",
     "shell.execute_reply.started": "2022-07-11T18:52:54.148277Z"
    },
    "tags": []
   },
   "outputs": [],
   "source": [
    "# model_name = 'random_forest'\n",
    "model_name = 'gradient_boosting'\n",
    "\n",
    "model = modtrain_res[model_name]['best_estimator']\n",
    "class_thresh = predict_models_dict[model_name]['class_thresh']"
   ]
  },
  {
   "cell_type": "code",
   "execution_count": null,
   "id": "bb622766-3f01-4c88-acc9-7b321903e4fd",
   "metadata": {
    "tags": []
   },
   "outputs": [],
   "source": [
    "y_test['pos_prob'] = model.predict_proba(X_test)[:, 1]"
   ]
  },
  {
   "cell_type": "code",
   "execution_count": null,
   "id": "da74a7b0-4210-4bc4-b39a-6c223d1fe79f",
   "metadata": {
    "tags": []
   },
   "outputs": [],
   "source": [
    "y_test['Transported'] = np.where(y_test['pos_prob'] > class_thresh, True, False)"
   ]
  },
  {
   "cell_type": "code",
   "execution_count": null,
   "id": "1062eb5d-0c36-4cfb-aedb-08391d196b41",
   "metadata": {
    "tags": []
   },
   "outputs": [],
   "source": [
    "y_test = y_test.loc[:, ['Transported']].reset_index()"
   ]
  },
  {
   "cell_type": "code",
   "execution_count": null,
   "id": "21c60901-002b-417c-abc3-2a424c46f08e",
   "metadata": {
    "tags": []
   },
   "outputs": [],
   "source": [
    "y_test.to_csv('preds.csv', index=False)"
   ]
  },
  {
   "cell_type": "code",
   "execution_count": null,
   "id": "e2b5e6a0-c916-4b6b-b371-48da00b4ea96",
   "metadata": {},
   "outputs": [],
   "source": []
  },
  {
   "cell_type": "markdown",
   "id": "a201f88a-e809-4e38-982d-a29fb12406b4",
   "metadata": {},
   "source": [
    "# Header 1"
   ]
  },
  {
   "cell_type": "markdown",
   "id": "784be4db-1c06-43e0-a4da-86b1bbcde318",
   "metadata": {},
   "source": [
    "# *Notes*"
   ]
  },
  {
   "cell_type": "markdown",
   "id": "68676670-2eae-44ad-b370-51defa70a061",
   "metadata": {
    "tags": []
   },
   "source": [
    "## Testing interaction with AWS s3"
   ]
  },
  {
   "cell_type": "markdown",
   "id": "17e8d15c-4dc2-40d0-b75a-20efc5d9d8eb",
   "metadata": {
    "tags": []
   },
   "source": [
    "### Setting the s3 client"
   ]
  },
  {
   "cell_type": "code",
   "execution_count": null,
   "id": "c9bd12b4-a96e-4645-8606-ab8c4ffc7016",
   "metadata": {
    "tags": []
   },
   "outputs": [],
   "source": [
    "creds = read_yaml(creds_file_path)"
   ]
  },
  {
   "cell_type": "code",
   "execution_count": null,
   "id": "7b9161b4-3092-4289-a4f5-d49646f87c86",
   "metadata": {
    "tags": []
   },
   "outputs": [],
   "source": [
    "dev = boto3.Session(\n",
    "    aws_access_key_id=creds['aws']['aws_access_key_id'],\n",
    "    aws_secret_access_key=creds['aws']['aws_secret_access_key'],\n",
    ")"
   ]
  },
  {
   "cell_type": "code",
   "execution_count": null,
   "id": "182fca19-6649-45a9-b1f2-1a237f2fc593",
   "metadata": {
    "tags": []
   },
   "outputs": [],
   "source": [
    "s3 = dev.client('s3')"
   ]
  },
  {
   "cell_type": "markdown",
   "id": "a610d7ef-33dc-4885-81f3-bce0115ff470",
   "metadata": {
    "tags": []
   },
   "source": [
    "### Listing buckets"
   ]
  },
  {
   "cell_type": "code",
   "execution_count": null,
   "id": "8456240d-783f-472b-b8f6-867d62d117a1",
   "metadata": {
    "tags": []
   },
   "outputs": [],
   "source": [
    "s3.list_buckets()"
   ]
  },
  {
   "cell_type": "markdown",
   "id": "7c1097e8-3035-4285-aea5-12108a89e58b",
   "metadata": {
    "jp-MarkdownHeadingCollapsed": true,
    "tags": []
   },
   "source": [
    "### Uploading file to bucket"
   ]
  },
  {
   "cell_type": "markdown",
   "id": "18dfc87e-4edf-41b2-b4d5-bd99c94400bc",
   "metadata": {
    "tags": []
   },
   "source": [
    "#### Pre-created file"
   ]
  },
  {
   "cell_type": "code",
   "execution_count": null,
   "id": "7fc2d689-7f54-4f47-bf4e-72ea961c9610",
   "metadata": {
    "tags": []
   },
   "outputs": [],
   "source": [
    "## Uploading - test 1\n",
    "file_path = dataset_dir + '/test_file.txt'\n",
    "bucket = 'titanic-spaceship-aws-bucket'\n",
    "upload_file(file_path, bucket, object_name=None)"
   ]
  },
  {
   "cell_type": "code",
   "execution_count": null,
   "id": "92972265-d235-4712-af64-7f4177adcc19",
   "metadata": {
    "tags": []
   },
   "outputs": [],
   "source": [
    "## Uploading - test 2\n",
    "file_path = dataset_dir + '/test_file.txt'\n",
    "bucket = 'titanic-spaceship-aws-bucket'\n",
    "object_name = 'test_folder' + '/test_file.txt'\n",
    "upload_file(file_path, bucket, object_name)"
   ]
  },
  {
   "cell_type": "markdown",
   "id": "0bebb1af-177b-40a5-b176-a17ac009d92e",
   "metadata": {
    "tags": []
   },
   "source": [
    "### Listing objects in bucket"
   ]
  },
  {
   "cell_type": "code",
   "execution_count": null,
   "id": "deaf1ff4-544f-4055-8367-59f8079ec761",
   "metadata": {
    "tags": []
   },
   "outputs": [],
   "source": [
    "s3 = create_s3_client()"
   ]
  },
  {
   "cell_type": "code",
   "execution_count": null,
   "id": "6c6dd390-1d1d-4461-a035-54ea901e4214",
   "metadata": {
    "tags": []
   },
   "outputs": [],
   "source": [
    "bucket_name = base_bucket_name"
   ]
  },
  {
   "cell_type": "code",
   "execution_count": null,
   "id": "b142266e-d96c-4e70-966f-a634f7badad1",
   "metadata": {
    "tags": []
   },
   "outputs": [],
   "source": [
    "bucket_name = base_bucket_name\n",
    "bucket_key = 'pipeline_pkls/extract'\n",
    "\n",
    "[\n",
    "    obj['Key'].split(sep='/')[-1]\n",
    "    for obj\n",
    "    in s3.list_objects_v2(Bucket=bucket_name, Prefix=bucket_key)['Contents']\n",
    "]"
   ]
  },
  {
   "cell_type": "code",
   "execution_count": null,
   "id": "172c615e-ad60-4d6c-9d70-f877d46d6e5b",
   "metadata": {
    "tags": []
   },
   "outputs": [],
   "source": [
    "lx = list_objects_in_bucket_key(bucket_name, bucket_key)\n",
    "lx"
   ]
  },
  {
   "cell_type": "markdown",
   "id": "d87d0808-1bb2-4148-b27a-35637f3da78c",
   "metadata": {
    "tags": []
   },
   "source": [
    "### Reading file from bucket"
   ]
  },
  {
   "cell_type": "code",
   "execution_count": null,
   "id": "1fd14382-f36c-41d4-ac74-05367e3a1a86",
   "metadata": {
    "tags": []
   },
   "outputs": [],
   "source": [
    "s3 = create_s3_client()"
   ]
  },
  {
   "cell_type": "code",
   "execution_count": null,
   "id": "05cd9749-fd82-4f2a-9913-15d8e31bbe5b",
   "metadata": {
    "tags": []
   },
   "outputs": [],
   "source": [
    "bucket_name = bucket_name\n",
    "# bucket_key = os.path.join(aws_pipeline_pkl_extract, pipeline_pkl_extract_name)\n",
    "bucket_key = 'pipeline_pkls/extract/extract_train.pkl'"
   ]
  },
  {
   "cell_type": "code",
   "execution_count": null,
   "id": "94585c3f-1ab6-4473-9440-0d7081c22d05",
   "metadata": {
    "scrolled": true,
    "tags": []
   },
   "outputs": [],
   "source": [
    "obj = s3.get_object(Bucket=bucket_name, Key=bucket_key)"
   ]
  },
  {
   "cell_type": "code",
   "execution_count": null,
   "id": "c8eb8e96-8ce3-4032-b7ad-943b854dfaff",
   "metadata": {
    "tags": []
   },
   "outputs": [],
   "source": [
    "dfx = pickle.loads(obj['Body'].read())"
   ]
  },
  {
   "cell_type": "markdown",
   "id": "504713dc-fe9f-47c4-b943-ea517899130a",
   "metadata": {
    "jp-MarkdownHeadingCollapsed": true,
    "tags": []
   },
   "source": [
    "## Using kaggle library"
   ]
  },
  {
   "cell_type": "code",
   "execution_count": null,
   "id": "095891ba-8960-42c9-95c4-a73b4db82d8c",
   "metadata": {},
   "outputs": [],
   "source": [
    "kaggle.api.authenticate()"
   ]
  },
  {
   "cell_type": "code",
   "execution_count": null,
   "id": "0b93bf44-a22e-4117-8f8e-b8089e3f1466",
   "metadata": {},
   "outputs": [],
   "source": [
    "kaggle.api.competition_download_files"
   ]
  },
  {
   "cell_type": "code",
   "execution_count": null,
   "id": "68ce0a31-81f9-474c-b930-64fcd5a3cdb5",
   "metadata": {
    "scrolled": true,
    "tags": []
   },
   "outputs": [],
   "source": [
    "kaggle.api.competition_download_files(\n",
    "    'spaceship-titanic', \n",
    "    path=dataset_dir, \n",
    ")"
   ]
  },
  {
   "cell_type": "code",
   "execution_count": null,
   "id": "b246d0b1-5cc5-4db8-93fe-7ff8de30042f",
   "metadata": {},
   "outputs": [],
   "source": []
  },
  {
   "cell_type": "markdown",
   "id": "9762d4e8-614d-4010-b01c-6d8841b49699",
   "metadata": {
    "tags": []
   },
   "source": [
    "## Testing sklearn's imputer"
   ]
  },
  {
   "cell_type": "code",
   "execution_count": null,
   "id": "8e1e5668-4ca1-4c93-b2f2-c9735ef26f84",
   "metadata": {
    "scrolled": true,
    "tags": []
   },
   "outputs": [],
   "source": [
    "dfx"
   ]
  },
  {
   "cell_type": "code",
   "execution_count": null,
   "id": "d1d60f34-a5ca-4bdc-bc2d-f1b0917b29eb",
   "metadata": {
    "tags": []
   },
   "outputs": [],
   "source": [
    "dfx.info()"
   ]
  },
  {
   "cell_type": "code",
   "execution_count": null,
   "id": "4ab0fc5f-5734-4730-9fe2-56da6ad22195",
   "metadata": {
    "scrolled": true,
    "tags": []
   },
   "outputs": [],
   "source": [
    "dfx[dfx['CryoSleep'].isnull()]"
   ]
  },
  {
   "cell_type": "code",
   "execution_count": null,
   "id": "1626066b-389e-447d-8580-99cb190672d9",
   "metadata": {
    "tags": []
   },
   "outputs": [],
   "source": [
    "f_cat = [\n",
    "    feat\n",
    "    for feat in titanicsp_full_data_schema\n",
    "    if\n",
    "        'feature_type' in titanicsp_full_data_schema[feat]\n",
    "        and\n",
    "        'categorical' in titanicsp_full_data_schema[feat]['feature_type']\n",
    "        and\n",
    "        titanicsp_full_data_schema[feat]['model_relevant']\n",
    "        and\n",
    "        feat in dfx.columns\n",
    "        and\n",
    "        dfx.shape[0] - dfx[feat].count() != 0\n",
    "]"
   ]
  },
  {
   "cell_type": "code",
   "execution_count": null,
   "id": "375e4145-92b4-41f5-b622-e5faf2b8f832",
   "metadata": {
    "tags": []
   },
   "outputs": [],
   "source": [
    "imp_med = SimpleImputer(missing_values=np.nan, strategy='most_frequent')"
   ]
  },
  {
   "cell_type": "code",
   "execution_count": null,
   "id": "9a5fcd19-6ca0-44eb-95ca-344c08159b4a",
   "metadata": {
    "tags": []
   },
   "outputs": [],
   "source": [
    "dfx.loc[:, f_cat] = imp_med.fit_transform(dfx.loc[:, f_cat])"
   ]
  },
  {
   "cell_type": "code",
   "execution_count": null,
   "id": "41f928df-bd50-4f03-8804-0734d9acb5a4",
   "metadata": {
    "tags": []
   },
   "outputs": [],
   "source": [
    "dfx.info()"
   ]
  },
  {
   "cell_type": "code",
   "execution_count": null,
   "id": "1c86d271-a9be-460f-9e9b-8f8eed742f30",
   "metadata": {},
   "outputs": [],
   "source": [
    "dfx[dfx.index.isin(['0099_02', '0105_01'])]"
   ]
  },
  {
   "cell_type": "code",
   "execution_count": null,
   "id": "f7314ac6-c541-4421-81a0-3f20154bc103",
   "metadata": {},
   "outputs": [],
   "source": []
  },
  {
   "cell_type": "markdown",
   "id": "6efb1e02-163d-4ebd-a5c9-ae0a101b6336",
   "metadata": {
    "tags": []
   },
   "source": [
    "## Header 2"
   ]
  },
  {
   "cell_type": "code",
   "execution_count": null,
   "id": "81b0e03e-4d9f-46bb-9ae4-ff6a6e04a3d9",
   "metadata": {},
   "outputs": [],
   "source": []
  },
  {
   "cell_type": "code",
   "execution_count": null,
   "id": "7ee25cc3-c83c-4a99-b167-34624837974d",
   "metadata": {},
   "outputs": [],
   "source": []
  },
  {
   "cell_type": "markdown",
   "id": "b34c662c-f724-412f-86d7-75647d9b5448",
   "metadata": {},
   "source": [
    "---"
   ]
  },
  {
   "cell_type": "markdown",
   "id": "168089c7-257b-4b61-9a65-803e32753196",
   "metadata": {},
   "source": [
    "---"
   ]
  }
 ],
 "metadata": {
  "kernelspec": {
   "display_name": "Python 3 (ipykernel)",
   "language": "python",
   "name": "python3"
  },
  "language_info": {
   "codemirror_mode": {
    "name": "ipython",
    "version": 3
   },
   "file_extension": ".py",
   "mimetype": "text/x-python",
   "name": "python",
   "nbconvert_exporter": "python",
   "pygments_lexer": "ipython3",
   "version": "3.9.1"
  },
  "toc-autonumbering": true
 },
 "nbformat": 4,
 "nbformat_minor": 5
}
