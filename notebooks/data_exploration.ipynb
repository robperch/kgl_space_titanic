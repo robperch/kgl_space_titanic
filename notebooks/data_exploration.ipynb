{
 "cells": [
  {
   "cell_type": "markdown",
   "id": "82c1d7a8-d74e-45e1-8937-264331e6d38a",
   "metadata": {},
   "source": [
    "# Exploring the Spaceship titanic dataset"
   ]
  },
  {
   "cell_type": "markdown",
   "id": "4154f37d-fde6-4cef-8617-114a3a2d7d8e",
   "metadata": {},
   "source": [
    "# Imports"
   ]
  },
  {
   "cell_type": "markdown",
   "id": "a98dbaa6-17e1-4b79-93f0-d142aedd0037",
   "metadata": {},
   "source": [
    "#### Standard library imports"
   ]
  },
  {
   "cell_type": "code",
   "execution_count": 1,
   "id": "63099808-51cd-453c-976a-f3060b8650aa",
   "metadata": {
    "execution": {
     "iopub.execute_input": "2022-06-15T19:17:01.301119Z",
     "iopub.status.busy": "2022-06-15T19:17:01.300634Z",
     "iopub.status.idle": "2022-06-15T19:17:01.310129Z",
     "shell.execute_reply": "2022-06-15T19:17:01.309095Z",
     "shell.execute_reply.started": "2022-06-15T19:17:01.301037Z"
    },
    "tags": []
   },
   "outputs": [],
   "source": [
    "import sys\n",
    "sys.path.append(\"../\")\n",
    "import os"
   ]
  },
  {
   "cell_type": "markdown",
   "id": "b94ec94d-0d78-4ec3-a21c-353ccf52eec6",
   "metadata": {},
   "source": [
    "#### Third party imports"
   ]
  },
  {
   "cell_type": "code",
   "execution_count": 2,
   "id": "9e4989d0-ba3a-41cf-8ccb-44cade842a03",
   "metadata": {
    "execution": {
     "iopub.execute_input": "2022-06-15T19:17:01.312439Z",
     "iopub.status.busy": "2022-06-15T19:17:01.312097Z",
     "iopub.status.idle": "2022-06-15T19:17:02.472094Z",
     "shell.execute_reply": "2022-06-15T19:17:02.471561Z",
     "shell.execute_reply.started": "2022-06-15T19:17:01.312409Z"
    },
    "tags": []
   },
   "outputs": [],
   "source": [
    "import pandas as pd\n",
    "import matplotlib.pyplot as plt\n",
    "import seaborn as sns"
   ]
  },
  {
   "cell_type": "markdown",
   "id": "48755fa3-cba0-4508-9df2-18d50f60551b",
   "metadata": {},
   "source": [
    "#### Local application imports"
   ]
  },
  {
   "cell_type": "code",
   "execution_count": 3,
   "id": "a62e34a6-dea0-48d6-a3bc-c5dcdcdb1718",
   "metadata": {
    "execution": {
     "iopub.execute_input": "2022-06-15T19:17:02.473719Z",
     "iopub.status.busy": "2022-06-15T19:17:02.473271Z",
     "iopub.status.idle": "2022-06-15T19:17:02.730730Z",
     "shell.execute_reply": "2022-06-15T19:17:02.729750Z",
     "shell.execute_reply.started": "2022-06-15T19:17:02.473698Z"
    },
    "tags": []
   },
   "outputs": [],
   "source": [
    "%load_ext autoreload\n",
    "%autoreload 2\n",
    "\n",
    "from pkg_dir.config import *\n",
    "from pkg_dir.src.utils import *\n",
    "from pkg_dir.src.functions import *\n",
    "from pkg_dir.src.parameters import *"
   ]
  },
  {
   "cell_type": "markdown",
   "id": "d533fe5d-c902-4259-97ee-672d6f2363c6",
   "metadata": {},
   "source": [
    "# Loading data\n",
    "- Training dataset"
   ]
  },
  {
   "cell_type": "code",
   "execution_count": 4,
   "id": "6d9d656d-2c85-45ff-8757-520b327d87d5",
   "metadata": {
    "execution": {
     "iopub.execute_input": "2022-06-15T19:17:02.737322Z",
     "iopub.status.busy": "2022-06-15T19:17:02.736952Z",
     "iopub.status.idle": "2022-06-15T19:17:02.790566Z",
     "shell.execute_reply": "2022-06-15T19:17:02.789877Z",
     "shell.execute_reply.started": "2022-06-15T19:17:02.737304Z"
    },
    "tags": []
   },
   "outputs": [],
   "source": [
    "dftr = pd.read_csv(data_training)"
   ]
  },
  {
   "cell_type": "markdown",
   "id": "d63e46e9-98fe-467a-b91c-07fff137ee4e",
   "metadata": {},
   "source": [
    "# Processing data based on the data schema"
   ]
  },
  {
   "cell_type": "code",
   "execution_count": 5,
   "id": "b268c769-93d9-4058-bf6d-101313233345",
   "metadata": {
    "execution": {
     "iopub.execute_input": "2022-06-15T19:17:07.495058Z",
     "iopub.status.busy": "2022-06-15T19:17:07.494732Z",
     "iopub.status.idle": "2022-06-15T19:17:07.595060Z",
     "shell.execute_reply": "2022-06-15T19:17:07.594284Z",
     "shell.execute_reply.started": "2022-06-15T19:17:07.495034Z"
    },
    "tags": []
   },
   "outputs": [],
   "source": [
    "dftr = data_wrangling_schema_functions(dftr, titanicsp_data_schema)"
   ]
  },
  {
   "cell_type": "code",
   "execution_count": 6,
   "id": "9252bbd3-6698-47a6-b91e-d82d22ac4527",
   "metadata": {
    "execution": {
     "iopub.execute_input": "2022-06-15T19:17:07.596696Z",
     "iopub.status.busy": "2022-06-15T19:17:07.596225Z",
     "iopub.status.idle": "2022-06-15T19:17:07.648998Z",
     "shell.execute_reply": "2022-06-15T19:17:07.648328Z",
     "shell.execute_reply.started": "2022-06-15T19:17:07.596677Z"
    },
    "tags": []
   },
   "outputs": [
    {
     "data": {
      "text/html": [
       "<div>\n",
       "<style scoped>\n",
       "    .dataframe tbody tr th:only-of-type {\n",
       "        vertical-align: middle;\n",
       "    }\n",
       "\n",
       "    .dataframe tbody tr th {\n",
       "        vertical-align: top;\n",
       "    }\n",
       "\n",
       "    .dataframe thead th {\n",
       "        text-align: right;\n",
       "    }\n",
       "</style>\n",
       "<table border=\"1\" class=\"dataframe\">\n",
       "  <thead>\n",
       "    <tr style=\"text-align: right;\">\n",
       "      <th></th>\n",
       "      <th>PassengerId</th>\n",
       "      <th>HomePlanet</th>\n",
       "      <th>CryoSleep</th>\n",
       "      <th>Cabin</th>\n",
       "      <th>Destination</th>\n",
       "      <th>Age</th>\n",
       "      <th>VIP</th>\n",
       "      <th>RoomService</th>\n",
       "      <th>FoodCourt</th>\n",
       "      <th>ShoppingMall</th>\n",
       "      <th>Spa</th>\n",
       "      <th>VRDeck</th>\n",
       "      <th>Name</th>\n",
       "      <th>Transported</th>\n",
       "    </tr>\n",
       "  </thead>\n",
       "  <tbody>\n",
       "    <tr>\n",
       "      <th>0</th>\n",
       "      <td>0001_01</td>\n",
       "      <td>Europa</td>\n",
       "      <td>False</td>\n",
       "      <td>B/0/P</td>\n",
       "      <td>TRAPPIST-1e</td>\n",
       "      <td>39.0</td>\n",
       "      <td>False</td>\n",
       "      <td>0.0</td>\n",
       "      <td>0.0</td>\n",
       "      <td>0.0</td>\n",
       "      <td>0.0</td>\n",
       "      <td>0.0</td>\n",
       "      <td>Maham Ofracculy</td>\n",
       "      <td>False</td>\n",
       "    </tr>\n",
       "    <tr>\n",
       "      <th>1</th>\n",
       "      <td>0002_01</td>\n",
       "      <td>Earth</td>\n",
       "      <td>False</td>\n",
       "      <td>F/0/S</td>\n",
       "      <td>TRAPPIST-1e</td>\n",
       "      <td>24.0</td>\n",
       "      <td>False</td>\n",
       "      <td>109.0</td>\n",
       "      <td>9.0</td>\n",
       "      <td>25.0</td>\n",
       "      <td>549.0</td>\n",
       "      <td>44.0</td>\n",
       "      <td>Juanna Vines</td>\n",
       "      <td>True</td>\n",
       "    </tr>\n",
       "    <tr>\n",
       "      <th>2</th>\n",
       "      <td>0003_01</td>\n",
       "      <td>Europa</td>\n",
       "      <td>False</td>\n",
       "      <td>A/0/S</td>\n",
       "      <td>TRAPPIST-1e</td>\n",
       "      <td>58.0</td>\n",
       "      <td>True</td>\n",
       "      <td>43.0</td>\n",
       "      <td>3576.0</td>\n",
       "      <td>0.0</td>\n",
       "      <td>6715.0</td>\n",
       "      <td>49.0</td>\n",
       "      <td>Altark Susent</td>\n",
       "      <td>False</td>\n",
       "    </tr>\n",
       "    <tr>\n",
       "      <th>3</th>\n",
       "      <td>0003_02</td>\n",
       "      <td>Europa</td>\n",
       "      <td>False</td>\n",
       "      <td>A/0/S</td>\n",
       "      <td>TRAPPIST-1e</td>\n",
       "      <td>33.0</td>\n",
       "      <td>False</td>\n",
       "      <td>0.0</td>\n",
       "      <td>1283.0</td>\n",
       "      <td>371.0</td>\n",
       "      <td>3329.0</td>\n",
       "      <td>193.0</td>\n",
       "      <td>Solam Susent</td>\n",
       "      <td>False</td>\n",
       "    </tr>\n",
       "    <tr>\n",
       "      <th>4</th>\n",
       "      <td>0004_01</td>\n",
       "      <td>Earth</td>\n",
       "      <td>False</td>\n",
       "      <td>F/1/S</td>\n",
       "      <td>TRAPPIST-1e</td>\n",
       "      <td>16.0</td>\n",
       "      <td>False</td>\n",
       "      <td>303.0</td>\n",
       "      <td>70.0</td>\n",
       "      <td>151.0</td>\n",
       "      <td>565.0</td>\n",
       "      <td>2.0</td>\n",
       "      <td>Willy Santantines</td>\n",
       "      <td>True</td>\n",
       "    </tr>\n",
       "    <tr>\n",
       "      <th>...</th>\n",
       "      <td>...</td>\n",
       "      <td>...</td>\n",
       "      <td>...</td>\n",
       "      <td>...</td>\n",
       "      <td>...</td>\n",
       "      <td>...</td>\n",
       "      <td>...</td>\n",
       "      <td>...</td>\n",
       "      <td>...</td>\n",
       "      <td>...</td>\n",
       "      <td>...</td>\n",
       "      <td>...</td>\n",
       "      <td>...</td>\n",
       "      <td>...</td>\n",
       "    </tr>\n",
       "    <tr>\n",
       "      <th>8688</th>\n",
       "      <td>9276_01</td>\n",
       "      <td>Europa</td>\n",
       "      <td>False</td>\n",
       "      <td>A/98/P</td>\n",
       "      <td>55 Cancri e</td>\n",
       "      <td>41.0</td>\n",
       "      <td>True</td>\n",
       "      <td>0.0</td>\n",
       "      <td>6819.0</td>\n",
       "      <td>0.0</td>\n",
       "      <td>1643.0</td>\n",
       "      <td>74.0</td>\n",
       "      <td>Gravior Noxnuther</td>\n",
       "      <td>False</td>\n",
       "    </tr>\n",
       "    <tr>\n",
       "      <th>8689</th>\n",
       "      <td>9278_01</td>\n",
       "      <td>Earth</td>\n",
       "      <td>True</td>\n",
       "      <td>G/1499/S</td>\n",
       "      <td>PSO J318.5-22</td>\n",
       "      <td>18.0</td>\n",
       "      <td>False</td>\n",
       "      <td>0.0</td>\n",
       "      <td>0.0</td>\n",
       "      <td>0.0</td>\n",
       "      <td>0.0</td>\n",
       "      <td>0.0</td>\n",
       "      <td>Kurta Mondalley</td>\n",
       "      <td>False</td>\n",
       "    </tr>\n",
       "    <tr>\n",
       "      <th>8690</th>\n",
       "      <td>9279_01</td>\n",
       "      <td>Earth</td>\n",
       "      <td>False</td>\n",
       "      <td>G/1500/S</td>\n",
       "      <td>TRAPPIST-1e</td>\n",
       "      <td>26.0</td>\n",
       "      <td>False</td>\n",
       "      <td>0.0</td>\n",
       "      <td>0.0</td>\n",
       "      <td>1872.0</td>\n",
       "      <td>1.0</td>\n",
       "      <td>0.0</td>\n",
       "      <td>Fayey Connon</td>\n",
       "      <td>True</td>\n",
       "    </tr>\n",
       "    <tr>\n",
       "      <th>8691</th>\n",
       "      <td>9280_01</td>\n",
       "      <td>Europa</td>\n",
       "      <td>False</td>\n",
       "      <td>E/608/S</td>\n",
       "      <td>55 Cancri e</td>\n",
       "      <td>32.0</td>\n",
       "      <td>False</td>\n",
       "      <td>0.0</td>\n",
       "      <td>1049.0</td>\n",
       "      <td>0.0</td>\n",
       "      <td>353.0</td>\n",
       "      <td>3235.0</td>\n",
       "      <td>Celeon Hontichre</td>\n",
       "      <td>False</td>\n",
       "    </tr>\n",
       "    <tr>\n",
       "      <th>8692</th>\n",
       "      <td>9280_02</td>\n",
       "      <td>Europa</td>\n",
       "      <td>False</td>\n",
       "      <td>E/608/S</td>\n",
       "      <td>TRAPPIST-1e</td>\n",
       "      <td>44.0</td>\n",
       "      <td>False</td>\n",
       "      <td>126.0</td>\n",
       "      <td>4688.0</td>\n",
       "      <td>0.0</td>\n",
       "      <td>0.0</td>\n",
       "      <td>12.0</td>\n",
       "      <td>Propsh Hontichre</td>\n",
       "      <td>True</td>\n",
       "    </tr>\n",
       "  </tbody>\n",
       "</table>\n",
       "<p>8693 rows × 14 columns</p>\n",
       "</div>"
      ],
      "text/plain": [
       "     PassengerId HomePlanet CryoSleep     Cabin    Destination   Age    VIP  \\\n",
       "0        0001_01     Europa     False     B/0/P    TRAPPIST-1e  39.0  False   \n",
       "1        0002_01      Earth     False     F/0/S    TRAPPIST-1e  24.0  False   \n",
       "2        0003_01     Europa     False     A/0/S    TRAPPIST-1e  58.0   True   \n",
       "3        0003_02     Europa     False     A/0/S    TRAPPIST-1e  33.0  False   \n",
       "4        0004_01      Earth     False     F/1/S    TRAPPIST-1e  16.0  False   \n",
       "...          ...        ...       ...       ...            ...   ...    ...   \n",
       "8688     9276_01     Europa     False    A/98/P    55 Cancri e  41.0   True   \n",
       "8689     9278_01      Earth      True  G/1499/S  PSO J318.5-22  18.0  False   \n",
       "8690     9279_01      Earth     False  G/1500/S    TRAPPIST-1e  26.0  False   \n",
       "8691     9280_01     Europa     False   E/608/S    55 Cancri e  32.0  False   \n",
       "8692     9280_02     Europa     False   E/608/S    TRAPPIST-1e  44.0  False   \n",
       "\n",
       "      RoomService  FoodCourt  ShoppingMall     Spa  VRDeck               Name  \\\n",
       "0             0.0        0.0           0.0     0.0     0.0    Maham Ofracculy   \n",
       "1           109.0        9.0          25.0   549.0    44.0       Juanna Vines   \n",
       "2            43.0     3576.0           0.0  6715.0    49.0      Altark Susent   \n",
       "3             0.0     1283.0         371.0  3329.0   193.0       Solam Susent   \n",
       "4           303.0       70.0         151.0   565.0     2.0  Willy Santantines   \n",
       "...           ...        ...           ...     ...     ...                ...   \n",
       "8688          0.0     6819.0           0.0  1643.0    74.0  Gravior Noxnuther   \n",
       "8689          0.0        0.0           0.0     0.0     0.0    Kurta Mondalley   \n",
       "8690          0.0        0.0        1872.0     1.0     0.0       Fayey Connon   \n",
       "8691          0.0     1049.0           0.0   353.0  3235.0   Celeon Hontichre   \n",
       "8692        126.0     4688.0           0.0     0.0    12.0   Propsh Hontichre   \n",
       "\n",
       "     Transported  \n",
       "0          False  \n",
       "1           True  \n",
       "2          False  \n",
       "3          False  \n",
       "4           True  \n",
       "...          ...  \n",
       "8688       False  \n",
       "8689       False  \n",
       "8690        True  \n",
       "8691       False  \n",
       "8692        True  \n",
       "\n",
       "[8693 rows x 14 columns]"
      ]
     },
     "execution_count": 6,
     "metadata": {},
     "output_type": "execute_result"
    }
   ],
   "source": [
    "dftr"
   ]
  },
  {
   "cell_type": "markdown",
   "id": "16779c5d-9f4b-47f0-8492-049514e73778",
   "metadata": {
    "tags": []
   },
   "source": [
    "# Individual features exploration"
   ]
  },
  {
   "cell_type": "markdown",
   "id": "f75b5af9-504a-4aa5-b1b7-adc2f70c82c2",
   "metadata": {
    "tags": []
   },
   "source": [
    "## PassengerId\n",
    "A unique Id for each passenger. Each Id takes the form gggg_pp where gggg indicates a group the passenger is travelling with and pp is their number within the group. People in a group are often family members, but not always."
   ]
  },
  {
   "cell_type": "markdown",
   "id": "56f7ae43-e3ce-47bc-aabb-2e44d6070238",
   "metadata": {
    "tags": []
   },
   "source": [
    "### Unique travelers"
   ]
  },
  {
   "cell_type": "code",
   "execution_count": 10,
   "id": "62241f10-eb0d-4bb6-bb40-8c1d7f2373b8",
   "metadata": {
    "execution": {
     "iopub.execute_input": "2022-06-15T19:21:36.912579Z",
     "iopub.status.busy": "2022-06-15T19:21:36.912116Z",
     "iopub.status.idle": "2022-06-15T19:21:36.948383Z",
     "shell.execute_reply": "2022-06-15T19:21:36.947676Z",
     "shell.execute_reply.started": "2022-06-15T19:21:36.912546Z"
    },
    "tags": []
   },
   "outputs": [
    {
     "name": "stdout",
     "output_type": "stream",
     "text": [
      "Number of unique travellers:  8693\n",
      "Number of rows in dataset:  8693\n"
     ]
    }
   ],
   "source": [
    "print(\"Number of unique travellers: \", len(dftr['PassengerId'].unique()))\n",
    "print(\"Number of rows in dataset: \", dftr.shape[0])"
   ]
  },
  {
   "cell_type": "markdown",
   "id": "cd804f59-cb49-46b9-8d04-45c9698bfb87",
   "metadata": {},
   "source": [
    "**Note**\n",
    "\n",
    "All the travelers are unique"
   ]
  },
  {
   "cell_type": "markdown",
   "id": "443301c6-383f-4c73-862c-09cfe1597df7",
   "metadata": {
    "tags": []
   },
   "source": [
    "### Groups of traveling passengers"
   ]
  },
  {
   "cell_type": "code",
   "execution_count": null,
   "id": "525875cc-9f5d-4958-9aef-c22b072124dc",
   "metadata": {},
   "outputs": [],
   "source": [
    "dfx = dftr['PassengerId'].str.split(pat='_', expand=True)"
   ]
  },
  {
   "cell_type": "code",
   "execution_count": null,
   "id": "9a2dfffe-e3c0-4068-91a4-6f9ba944ff9f",
   "metadata": {},
   "outputs": [],
   "source": [
    "dfx[0].value_counts()"
   ]
  },
  {
   "cell_type": "markdown",
   "id": "f36923d3-535c-47ff-9159-ed648bd9cdcf",
   "metadata": {},
   "source": [
    "This shows that the group information is quite scattered in many small groups (there are only 1,412 groups that have more than one person; 3,888 entries belong to these groups). Therefore, it might not be a good idea to use it as an additional feature."
   ]
  },
  {
   "cell_type": "markdown",
   "id": "688b52e0-d54e-4c5f-9752-b37992f453b9",
   "metadata": {
    "tags": []
   },
   "source": [
    "### Relation between the group and the missing people\n",
    "- Do people tend to disappear in groups? "
   ]
  },
  {
   "cell_type": "code",
   "execution_count": null,
   "id": "bab42fee-33c2-4d8b-98b4-085dc0983f5b",
   "metadata": {},
   "outputs": [],
   "source": [
    "dfx = pd.concat(\n",
    "    [\n",
    "        dftr['PassengerId'].str.split(pat='_', expand=True),\n",
    "        dftr['Transported']\n",
    "    ],\n",
    "    axis=1,\n",
    ")"
   ]
  },
  {
   "cell_type": "code",
   "execution_count": null,
   "id": "b76a8d9e-1128-4820-b17d-0dc4b33f9b6c",
   "metadata": {},
   "outputs": [],
   "source": [
    "dfx2 = dfx[0].value_counts().to_frame()\n",
    "lx = dfx2[dfx2[0] > 1].index"
   ]
  },
  {
   "cell_type": "code",
   "execution_count": null,
   "id": "71300bb6-bcb4-4a6d-a279-0b0818d56e20",
   "metadata": {},
   "outputs": [],
   "source": [
    "dfx = dfx[dfx[0].isin(lx)].groupby(\n",
    "    [\n",
    "        dfx[0],\n",
    "        dfx['Transported']\n",
    "    ]\n",
    ").agg(\n",
    "    count=(1, 'count'),\n",
    ")"
   ]
  },
  {
   "cell_type": "markdown",
   "id": "d310281a-ed46-42ac-80fa-3d342852cbd5",
   "metadata": {
    "tags": []
   },
   "source": [
    "## HomePlanet\n",
    "The planet the passenger departed from, typically their planet of permanent residence."
   ]
  },
  {
   "cell_type": "markdown",
   "id": "8f3a7156-ea32-41ad-ab1b-b44530126a54",
   "metadata": {
    "tags": []
   },
   "source": [
    "### Count per category"
   ]
  },
  {
   "cell_type": "code",
   "execution_count": null,
   "id": "2c094669-edad-4fed-894c-f8946a3a53da",
   "metadata": {
    "tags": []
   },
   "outputs": [],
   "source": [
    "dftr['HomePlanet'].value_counts(normalize=True)"
   ]
  },
  {
   "cell_type": "code",
   "execution_count": null,
   "id": "3506ef13-69b2-450b-b2f1-0d20f297f9fd",
   "metadata": {
    "tags": []
   },
   "outputs": [],
   "source": [
    "plt.hist(dftr['HomePlanet'])\n",
    "\n",
    "plt.show()"
   ]
  },
  {
   "cell_type": "markdown",
   "id": "c187dc11-156f-415b-a9dc-fdc55b6fdd1a",
   "metadata": {
    "tags": []
   },
   "source": [
    "### Missing values"
   ]
  },
  {
   "cell_type": "markdown",
   "id": "68273edc-45ed-45d8-a922-2f0b7c85ea96",
   "metadata": {},
   "source": [
    "*Note*\n",
    "\n",
    "Maybe a good way to fill missing values is using the group information present in the id feature"
   ]
  },
  {
   "cell_type": "markdown",
   "id": "019a1f2b-036b-4104-b6d3-58f35038b5b5",
   "metadata": {
    "tags": []
   },
   "source": [
    "## CryoSleep \n",
    "Indicates whether the passenger elected to be put into suspended animation for the duration of the voyage. Passengers in cryosleep are confined to their cabins.\n"
   ]
  },
  {
   "cell_type": "markdown",
   "id": "881c6fb4-f642-4de6-aaf2-38f19a78fd58",
   "metadata": {},
   "source": [
    "### Value counts"
   ]
  },
  {
   "cell_type": "code",
   "execution_count": null,
   "id": "56ccc22c-48ad-442b-bf54-ea486c31b0b5",
   "metadata": {
    "tags": []
   },
   "outputs": [],
   "source": [
    "dftr['CryoSleep'].value_counts(normalize=True)"
   ]
  },
  {
   "cell_type": "markdown",
   "id": "3147579f-a610-41fe-99e5-1484277524f0",
   "metadata": {
    "tags": []
   },
   "source": [
    "## Cabin\n",
    "The cabin number where the passenger is staying. Takes the form deck/num/side, where side can be either P for Port or S for Starboard.\n"
   ]
  },
  {
   "cell_type": "markdown",
   "id": "bb3177bd-9511-4024-864c-338c1af0b662",
   "metadata": {},
   "source": [
    "### Separating column in components"
   ]
  },
  {
   "cell_type": "code",
   "execution_count": null,
   "id": "ac654646-12f3-4de6-8096-6284d61659b4",
   "metadata": {
    "tags": []
   },
   "outputs": [],
   "source": [
    "dfx = pd.concat(\n",
    "    [\n",
    "        dftr['Cabin'].str.split(pat='/', expand=True),\n",
    "        dftr['Transported'],\n",
    "    ],\n",
    "    axis=1\n",
    ")"
   ]
  },
  {
   "cell_type": "markdown",
   "id": "7a212737-0309-4096-a0fc-edc5a80c6e71",
   "metadata": {},
   "source": [
    "### Deck"
   ]
  },
  {
   "cell_type": "code",
   "execution_count": null,
   "id": "dc8a927d-905c-4bda-bff9-5a3c6bab6096",
   "metadata": {
    "tags": []
   },
   "outputs": [],
   "source": [
    "dfx[0].value_counts(normalize=True)"
   ]
  },
  {
   "cell_type": "markdown",
   "id": "afb9d803-70f7-4ed6-8555-ce5dae081de4",
   "metadata": {
    "tags": []
   },
   "source": [
    "### Number"
   ]
  },
  {
   "cell_type": "code",
   "execution_count": null,
   "id": "bbf47e52-5839-4ccd-9c39-b9d725f80748",
   "metadata": {
    "tags": []
   },
   "outputs": [],
   "source": [
    "dfx[1].value_counts(normalize=True)"
   ]
  },
  {
   "cell_type": "markdown",
   "id": "2970a495-c44e-4d7e-b79b-ae8922b508bb",
   "metadata": {},
   "source": [
    "**Note**\n",
    "\n",
    "This value is highly fragmented and might not be of relevance"
   ]
  },
  {
   "cell_type": "markdown",
   "id": "1595e0f9-9f0f-477c-b4a3-9e49d9b04f21",
   "metadata": {
    "tags": []
   },
   "source": [
    "### Side"
   ]
  },
  {
   "cell_type": "code",
   "execution_count": null,
   "id": "0eb0f164-dc6d-4f4b-b6cd-73cb2bc539ef",
   "metadata": {
    "tags": []
   },
   "outputs": [],
   "source": [
    "dfx[2].value_counts(normalize=True)"
   ]
  },
  {
   "cell_type": "code",
   "execution_count": null,
   "id": "bfd5f571-31f9-4568-aee8-83e298892b70",
   "metadata": {
    "tags": []
   },
   "outputs": [],
   "source": [
    "dfx2 = dfx.groupby(\n",
    "    [\n",
    "        dfx[2],\n",
    "        dfx['Transported'],\n",
    "    ],\n",
    "    as_index=False\n",
    ").agg(\n",
    "    count=(0, 'count')\n",
    ")\n",
    "\n",
    "dfx2['count_prop'] = dfx2['count'] / dfx2.groupby(2)['count'].transform('sum')\n",
    "\n",
    "dfx2"
   ]
  },
  {
   "cell_type": "markdown",
   "id": "ede6857d-840d-4037-ae69-d7ce0e407571",
   "metadata": {},
   "source": [
    "**Note**\n",
    "\n",
    "This simple grouping suggests that there is no clear difference between people in 'S' or 'P'"
   ]
  },
  {
   "cell_type": "markdown",
   "id": "aa18529d-63dc-43c7-b35a-c3d1403487fa",
   "metadata": {
    "tags": []
   },
   "source": [
    "## Destination\n",
    "The planet the passenger will be debarking to."
   ]
  },
  {
   "cell_type": "code",
   "execution_count": null,
   "id": "5b1c0850-049e-4135-aa4a-663f549b9bc2",
   "metadata": {},
   "outputs": [],
   "source": [
    "dftr['Destination'].value_counts(normalize=True)"
   ]
  },
  {
   "cell_type": "code",
   "execution_count": null,
   "id": "7b9fb46e-405a-4951-a40f-68c88cc99486",
   "metadata": {},
   "outputs": [],
   "source": [
    "plt.hist(\n",
    "    x=dftr['Destination']\n",
    ")\n",
    "\n",
    "plt.show()"
   ]
  },
  {
   "cell_type": "markdown",
   "id": "23a422d3-27dc-443f-876a-c81664017610",
   "metadata": {},
   "source": [
    "## Age\n",
    "The age of the passenger."
   ]
  },
  {
   "cell_type": "markdown",
   "id": "35544588-3896-4565-8d85-8988001cb2c3",
   "metadata": {},
   "source": [
    "### Assessing if the ages are only integers"
   ]
  },
  {
   "cell_type": "code",
   "execution_count": null,
   "id": "99bebf3b-f694-4ecb-bba2-edb693cc2886",
   "metadata": {},
   "outputs": [],
   "source": [
    "(dftr['Age'] - dftr['Age'].round(0)).unique()"
   ]
  },
  {
   "cell_type": "markdown",
   "id": "9e527f62-b072-4aad-8d4e-0c6d53576477",
   "metadata": {},
   "source": [
    "### Analyzing the distribution of ages"
   ]
  },
  {
   "cell_type": "code",
   "execution_count": null,
   "id": "18a9bbec-fa67-416f-87ba-7be482928764",
   "metadata": {},
   "outputs": [],
   "source": [
    "plt.hist(\n",
    "    x=dftr['Age'],\n",
    ")\n",
    "\n",
    "plt.show()"
   ]
  },
  {
   "cell_type": "markdown",
   "id": "28d46924-8fb6-4728-9df8-56f2f233ba46",
   "metadata": {},
   "source": [
    "## VIP\n",
    "Whether the passenger has paid for special VIP service during the voyage."
   ]
  },
  {
   "cell_type": "code",
   "execution_count": null,
   "id": "8287e159-7dea-46a6-8214-77f9723378f7",
   "metadata": {},
   "outputs": [],
   "source": [
    "dftr['VIP'].value_counts(True)"
   ]
  },
  {
   "cell_type": "code",
   "execution_count": null,
   "id": "1b1ef9e7-6f11-4301-ad4b-c16546819ef1",
   "metadata": {
    "tags": []
   },
   "outputs": [],
   "source": [
    "dfx2 = dftr.groupby(\n",
    "    [\n",
    "        dftr['VIP'],\n",
    "        dftr['Transported'],\n",
    "    ],\n",
    "    as_index=False\n",
    ").agg(\n",
    "    count=('PassengerId', 'count'),\n",
    ")\n",
    "\n",
    "dfx2['count_perc'] = dfx2['count'] / dfx2.groupby('VIP')['count'].transform('sum')"
   ]
  },
  {
   "cell_type": "code",
   "execution_count": null,
   "id": "8dcdc842-1f89-4a01-8cf0-3208c64e4313",
   "metadata": {
    "tags": []
   },
   "outputs": [],
   "source": [
    "g = sns.catplot(\n",
    "    data=dfx2,\n",
    "    kind='bar',\n",
    "    x='VIP',\n",
    "    y='count_perc',\n",
    "    hue='Transported',\n",
    ")\n",
    "\n",
    "g"
   ]
  },
  {
   "cell_type": "markdown",
   "id": "9a8e65f6-36e9-4c9f-a4c6-ed7704607850",
   "metadata": {},
   "source": [
    "**Note**\n",
    "\n",
    "This results suggest that the category 'VIP' does have an influence on the Transportation"
   ]
  },
  {
   "cell_type": "markdown",
   "id": "fdf54027-3dc0-4ea7-ae26-e2ee51c3b091",
   "metadata": {
    "tags": []
   },
   "source": [
    "## RoomService, FoodCourt, ShoppingMall, Spa, VRDeck\n",
    "Amount the passenger has billed at each of the Spaceship Titanic's many luxury amenities."
   ]
  },
  {
   "cell_type": "markdown",
   "id": "3e67534f-a496-4c34-bf4f-ea09112f5971",
   "metadata": {},
   "source": [
    "### Preparing data"
   ]
  },
  {
   "cell_type": "code",
   "execution_count": null,
   "id": "7c55264d-ac15-4821-8d1b-f0eae552649b",
   "metadata": {},
   "outputs": [],
   "source": [
    "dftr['AllExpenses'] = dftr['RoomService'] + dftr['FoodCourt'] + dftr['ShoppingMall'] + dftr['VRDeck']"
   ]
  },
  {
   "cell_type": "code",
   "execution_count": null,
   "id": "908e0873-be32-4672-8478-5859b3a1d80d",
   "metadata": {
    "tags": []
   },
   "outputs": [],
   "source": [
    "dfx = pd.melt(\n",
    "    dftr,\n",
    "    id_vars=['PassengerId'],\n",
    "    value_vars=['AllExpenses', 'RoomService', 'FoodCourt', 'ShoppingMall', 'Spa', 'VRDeck']\n",
    ")"
   ]
  },
  {
   "cell_type": "code",
   "execution_count": null,
   "id": "07b6bcf9-8e69-474d-9a62-d10b9580e166",
   "metadata": {},
   "outputs": [],
   "source": [
    "dfx = pd.merge(\n",
    "    left=dfx,\n",
    "    right=dftr.loc[:, ['PassengerId', 'Transported']],\n",
    "    how='left',\n",
    "    left_on='PassengerId',\n",
    "    right_on='PassengerId'\n",
    ")"
   ]
  },
  {
   "cell_type": "markdown",
   "id": "10601564-93c4-4581-a2e2-e6c3cd2a5887",
   "metadata": {
    "jp-MarkdownHeadingCollapsed": true,
    "tags": []
   },
   "source": [
    "### Visualizing data"
   ]
  },
  {
   "cell_type": "code",
   "execution_count": null,
   "id": "546276cc-c52d-4abe-85e8-9aa32167eb7e",
   "metadata": {
    "tags": []
   },
   "outputs": [],
   "source": [
    "sns.catplot(\n",
    "    data=dfx,\n",
    "    x='variable',\n",
    "    y='value',\n",
    "    hue='Transported',\n",
    "    height=7\n",
    ")"
   ]
  },
  {
   "cell_type": "code",
   "execution_count": null,
   "id": "56c934cd-9125-4070-846b-85b96217d581",
   "metadata": {
    "tags": []
   },
   "outputs": [],
   "source": [
    "sns.catplot(\n",
    "    data=dfx,\n",
    "    x='variable',\n",
    "    y='value',\n",
    "    hue='Transported',\n",
    "    kind='violin',\n",
    "    height=7\n",
    ")"
   ]
  },
  {
   "cell_type": "code",
   "execution_count": null,
   "id": "13e762c2-94d8-4c1f-83cc-5a565cfea8fb",
   "metadata": {
    "tags": []
   },
   "outputs": [],
   "source": [
    "sns.catplot(\n",
    "    data=dfx,\n",
    "    x='variable',\n",
    "    y='value',\n",
    "    hue='Transported',\n",
    "    kind='box',\n",
    "    height=7\n",
    ")"
   ]
  },
  {
   "cell_type": "markdown",
   "id": "d1a6c4a9-f03e-48cf-b575-63d28ce98d54",
   "metadata": {
    "jp-MarkdownHeadingCollapsed": true,
    "tags": []
   },
   "source": [
    "### Feature notes"
   ]
  },
  {
   "cell_type": "markdown",
   "id": "fcfd3598-0eb5-4498-a14a-82f7d64af69e",
   "metadata": {},
   "source": [
    "**Note**\n",
    "\n",
    "It is might be a good idea to reduce the expenses in a single category called \"AllExpenses\""
   ]
  },
  {
   "cell_type": "markdown",
   "id": "8e477840-d975-478c-81cd-50b6ff6aa76e",
   "metadata": {},
   "source": [
    "## Name\n",
    "The first and last names of the passenger."
   ]
  },
  {
   "cell_type": "markdown",
   "id": "207b20c3-4ac6-42fc-9a7f-fac8de609d23",
   "metadata": {},
   "source": []
  },
  {
   "cell_type": "markdown",
   "id": "ce3bc096-fcce-4689-ab79-608f6235951b",
   "metadata": {},
   "source": [
    "## Transported\n",
    "Whether the passenger was transported to another dimension. This is the target, the column you are trying to predict.\n"
   ]
  },
  {
   "cell_type": "code",
   "execution_count": null,
   "id": "0c16d119-07c8-4575-84a7-8810cf68cb99",
   "metadata": {
    "tags": []
   },
   "outputs": [],
   "source": [
    "dftr['Transported'].value_counts(normalize=True)"
   ]
  },
  {
   "cell_type": "markdown",
   "id": "782e5375-b2c6-4777-94d2-b3c84f5100d8",
   "metadata": {},
   "source": [
    "# Header 1"
   ]
  },
  {
   "cell_type": "markdown",
   "id": "580496c1-1d43-4f3e-aa27-056592e43744",
   "metadata": {},
   "source": [
    "## Header 1"
   ]
  },
  {
   "cell_type": "markdown",
   "id": "784be4db-1c06-43e0-a4da-86b1bbcde318",
   "metadata": {},
   "source": [
    "# *Notes*"
   ]
  },
  {
   "cell_type": "markdown",
   "id": "b34c662c-f724-412f-86d7-75647d9b5448",
   "metadata": {},
   "source": [
    "---"
   ]
  },
  {
   "cell_type": "markdown",
   "id": "168089c7-257b-4b61-9a65-803e32753196",
   "metadata": {},
   "source": [
    "---"
   ]
  }
 ],
 "metadata": {
  "kernelspec": {
   "display_name": "Python 3 (ipykernel)",
   "language": "python",
   "name": "python3"
  },
  "language_info": {
   "codemirror_mode": {
    "name": "ipython",
    "version": 3
   },
   "file_extension": ".py",
   "mimetype": "text/x-python",
   "name": "python",
   "nbconvert_exporter": "python",
   "pygments_lexer": "ipython3",
   "version": "3.9.1"
  },
  "toc-autonumbering": true
 },
 "nbformat": 4,
 "nbformat_minor": 5
}
