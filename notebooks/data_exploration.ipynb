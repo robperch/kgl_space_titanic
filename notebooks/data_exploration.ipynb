{
 "cells": [
  {
   "cell_type": "markdown",
   "id": "82c1d7a8-d74e-45e1-8937-264331e6d38a",
   "metadata": {},
   "source": [
    "# Exploring the Spaceship titanic dataset"
   ]
  },
  {
   "cell_type": "markdown",
   "id": "4154f37d-fde6-4cef-8617-114a3a2d7d8e",
   "metadata": {},
   "source": [
    "# Imports"
   ]
  },
  {
   "cell_type": "markdown",
   "id": "a98dbaa6-17e1-4b79-93f0-d142aedd0037",
   "metadata": {},
   "source": [
    "#### Standard library imports"
   ]
  },
  {
   "cell_type": "code",
   "execution_count": 1,
   "id": "63099808-51cd-453c-976a-f3060b8650aa",
   "metadata": {
    "execution": {
     "iopub.execute_input": "2022-06-13T22:18:04.219930Z",
     "iopub.status.busy": "2022-06-13T22:18:04.219183Z",
     "iopub.status.idle": "2022-06-13T22:18:04.228874Z",
     "shell.execute_reply": "2022-06-13T22:18:04.228165Z",
     "shell.execute_reply.started": "2022-06-13T22:18:04.219863Z"
    },
    "tags": []
   },
   "outputs": [],
   "source": [
    "import sys\n",
    "sys.path.append(\"../\")\n",
    "import os"
   ]
  },
  {
   "cell_type": "markdown",
   "id": "b94ec94d-0d78-4ec3-a21c-353ccf52eec6",
   "metadata": {},
   "source": [
    "#### Third party imports"
   ]
  },
  {
   "cell_type": "code",
   "execution_count": 56,
   "id": "9e4989d0-ba3a-41cf-8ccb-44cade842a03",
   "metadata": {
    "execution": {
     "iopub.execute_input": "2022-06-13T23:07:19.400871Z",
     "iopub.status.busy": "2022-06-13T23:07:19.400086Z",
     "iopub.status.idle": "2022-06-13T23:07:34.202986Z",
     "shell.execute_reply": "2022-06-13T23:07:34.202286Z",
     "shell.execute_reply.started": "2022-06-13T23:07:19.400779Z"
    },
    "tags": []
   },
   "outputs": [],
   "source": [
    "import pandas as pd\n",
    "import matplotlib.pyplot as plt\n",
    "import seaborn as sns"
   ]
  },
  {
   "cell_type": "markdown",
   "id": "48755fa3-cba0-4508-9df2-18d50f60551b",
   "metadata": {},
   "source": [
    "#### Local application imports"
   ]
  },
  {
   "cell_type": "code",
   "execution_count": 3,
   "id": "a62e34a6-dea0-48d6-a3bc-c5dcdcdb1718",
   "metadata": {
    "execution": {
     "iopub.execute_input": "2022-06-13T22:18:05.629820Z",
     "iopub.status.busy": "2022-06-13T22:18:05.629047Z",
     "iopub.status.idle": "2022-06-13T22:18:06.051538Z",
     "shell.execute_reply": "2022-06-13T22:18:06.050938Z",
     "shell.execute_reply.started": "2022-06-13T22:18:05.629801Z"
    },
    "tags": []
   },
   "outputs": [],
   "source": [
    "%load_ext autoreload\n",
    "%autoreload 2\n",
    "\n",
    "from pkg_dir.config import *\n",
    "from pkg_dir.src.utils import *\n",
    "from pkg_dir.src.functions import *\n",
    "from pkg_dir.src.parameters import *"
   ]
  },
  {
   "cell_type": "markdown",
   "id": "d533fe5d-c902-4259-97ee-672d6f2363c6",
   "metadata": {},
   "source": [
    "# Loading data\n",
    "- Training dataset"
   ]
  },
  {
   "cell_type": "code",
   "execution_count": 4,
   "id": "6d9d656d-2c85-45ff-8757-520b327d87d5",
   "metadata": {
    "execution": {
     "iopub.execute_input": "2022-06-13T22:18:07.983568Z",
     "iopub.status.busy": "2022-06-13T22:18:07.983008Z",
     "iopub.status.idle": "2022-06-13T22:18:08.035970Z",
     "shell.execute_reply": "2022-06-13T22:18:08.035173Z",
     "shell.execute_reply.started": "2022-06-13T22:18:07.983512Z"
    },
    "tags": []
   },
   "outputs": [],
   "source": [
    "dftr = pd.read_csv(data_training)"
   ]
  },
  {
   "cell_type": "markdown",
   "id": "d63e46e9-98fe-467a-b91c-07fff137ee4e",
   "metadata": {},
   "source": [
    "# Processing data based on the data schema"
   ]
  },
  {
   "cell_type": "code",
   "execution_count": 5,
   "id": "b268c769-93d9-4058-bf6d-101313233345",
   "metadata": {
    "execution": {
     "iopub.execute_input": "2022-06-13T22:18:08.600417Z",
     "iopub.status.busy": "2022-06-13T22:18:08.600074Z",
     "iopub.status.idle": "2022-06-13T22:18:08.693087Z",
     "shell.execute_reply": "2022-06-13T22:18:08.692553Z",
     "shell.execute_reply.started": "2022-06-13T22:18:08.600394Z"
    },
    "tags": []
   },
   "outputs": [],
   "source": [
    "dftr = data_wrangling_schema_functions(dftr, titanicsp_data_schema)"
   ]
  },
  {
   "cell_type": "markdown",
   "id": "16779c5d-9f4b-47f0-8492-049514e73778",
   "metadata": {},
   "source": [
    "# Individual features exploration"
   ]
  },
  {
   "cell_type": "markdown",
   "id": "f75b5af9-504a-4aa5-b1b7-adc2f70c82c2",
   "metadata": {
    "jp-MarkdownHeadingCollapsed": true,
    "tags": []
   },
   "source": [
    "## PassengerId\n",
    "A unique Id for each passenger. Each Id takes the form gggg_pp where gggg indicates a group the passenger is travelling with and pp is their number within the group. People in a group are often family members, but not always."
   ]
  },
  {
   "cell_type": "markdown",
   "id": "443301c6-383f-4c73-862c-09cfe1597df7",
   "metadata": {
    "jp-MarkdownHeadingCollapsed": true,
    "tags": []
   },
   "source": [
    "### Groups of traveling passengers"
   ]
  },
  {
   "cell_type": "code",
   "execution_count": null,
   "id": "525875cc-9f5d-4958-9aef-c22b072124dc",
   "metadata": {},
   "outputs": [],
   "source": [
    "dfx = dftr['PassengerId'].str.split(pat='_', expand=True)"
   ]
  },
  {
   "cell_type": "code",
   "execution_count": null,
   "id": "9a2dfffe-e3c0-4068-91a4-6f9ba944ff9f",
   "metadata": {},
   "outputs": [],
   "source": [
    "dfx[0].value_counts()"
   ]
  },
  {
   "cell_type": "markdown",
   "id": "f36923d3-535c-47ff-9159-ed648bd9cdcf",
   "metadata": {},
   "source": [
    "This shows that the group information is quite scattered in many small groups (there are only 1,412 groups that have more than one person; 3,888 entries belong to these groups). Therefore, it might not be a good idea to use it as an additional feature."
   ]
  },
  {
   "cell_type": "markdown",
   "id": "688b52e0-d54e-4c5f-9752-b37992f453b9",
   "metadata": {
    "tags": []
   },
   "source": [
    "### Relation between the group and the missing people\n",
    "- Do people tend to disappear in groups? "
   ]
  },
  {
   "cell_type": "code",
   "execution_count": null,
   "id": "bab42fee-33c2-4d8b-98b4-085dc0983f5b",
   "metadata": {},
   "outputs": [],
   "source": [
    "dfx = pd.concat(\n",
    "    [\n",
    "        dftr['PassengerId'].str.split(pat='_', expand=True),\n",
    "        dftr['Transported']\n",
    "    ],\n",
    "    axis=1,\n",
    ")"
   ]
  },
  {
   "cell_type": "code",
   "execution_count": null,
   "id": "b76a8d9e-1128-4820-b17d-0dc4b33f9b6c",
   "metadata": {},
   "outputs": [],
   "source": [
    "dfx2 = dfx[0].value_counts().to_frame()\n",
    "lx = dfx2[dfx2[0] > 1].index"
   ]
  },
  {
   "cell_type": "code",
   "execution_count": null,
   "id": "71300bb6-bcb4-4a6d-a279-0b0818d56e20",
   "metadata": {},
   "outputs": [],
   "source": [
    "dfx = dfx[dfx[0].isin(lx)].groupby(\n",
    "    [\n",
    "        dfx[0],\n",
    "        dfx['Transported']\n",
    "    ]\n",
    ").agg(\n",
    "    count=(1, 'count'),\n",
    ")"
   ]
  },
  {
   "cell_type": "markdown",
   "id": "d310281a-ed46-42ac-80fa-3d342852cbd5",
   "metadata": {
    "tags": []
   },
   "source": [
    "## HomePlanet\n",
    "The planet the passenger departed from, typically their planet of permanent residence."
   ]
  },
  {
   "cell_type": "markdown",
   "id": "8f3a7156-ea32-41ad-ab1b-b44530126a54",
   "metadata": {
    "tags": []
   },
   "source": [
    "### Count per category"
   ]
  },
  {
   "cell_type": "code",
   "execution_count": 7,
   "id": "2c094669-edad-4fed-894c-f8946a3a53da",
   "metadata": {
    "execution": {
     "iopub.execute_input": "2022-06-13T22:19:01.834767Z",
     "iopub.status.busy": "2022-06-13T22:19:01.834339Z",
     "iopub.status.idle": "2022-06-13T22:19:01.866955Z",
     "shell.execute_reply": "2022-06-13T22:19:01.866158Z",
     "shell.execute_reply.started": "2022-06-13T22:19:01.834743Z"
    },
    "tags": []
   },
   "outputs": [
    {
     "data": {
      "text/plain": [
       "Earth     0.529391\n",
       "Europa    0.245140\n",
       "Mars      0.202347\n",
       "nan       0.023122\n",
       "Name: HomePlanet, dtype: float64"
      ]
     },
     "execution_count": 7,
     "metadata": {},
     "output_type": "execute_result"
    }
   ],
   "source": [
    "dftr['HomePlanet'].value_counts(normalize=True)"
   ]
  },
  {
   "cell_type": "code",
   "execution_count": 8,
   "id": "3506ef13-69b2-450b-b2f1-0d20f297f9fd",
   "metadata": {
    "execution": {
     "iopub.execute_input": "2022-06-13T22:19:01.982699Z",
     "iopub.status.busy": "2022-06-13T22:19:01.982416Z",
     "iopub.status.idle": "2022-06-13T22:19:02.153843Z",
     "shell.execute_reply": "2022-06-13T22:19:02.152100Z",
     "shell.execute_reply.started": "2022-06-13T22:19:01.982677Z"
    },
    "tags": []
   },
   "outputs": [
    {
     "data": {
      "image/png": "[encoded data removed]",
      "text/plain": [
       "<Figure size 432x288 with 1 Axes>"
      ]
     },
     "metadata": {
      "needs_background": "light"
     },
     "output_type": "display_data"
    }
   ],
   "source": [
    "plt.hist(dftr['HomePlanet'])\n",
    "\n",
    "plt.show()"
   ]
  },
  {
   "cell_type": "markdown",
   "id": "c187dc11-156f-415b-a9dc-fdc55b6fdd1a",
   "metadata": {
    "tags": []
   },
   "source": [
    "### Missing values"
   ]
  },
  {
   "cell_type": "markdown",
   "id": "68273edc-45ed-45d8-a922-2f0b7c85ea96",
   "metadata": {},
   "source": [
    "*Note*\n",
    "\n",
    "Maybe a good way to fill missing values is using the group information present in the id feature"
   ]
  },
  {
   "cell_type": "markdown",
   "id": "019a1f2b-036b-4104-b6d3-58f35038b5b5",
   "metadata": {
    "tags": []
   },
   "source": [
    "## CryoSleep \n",
    "Indicates whether the passenger elected to be put into suspended animation for the duration of the voyage. Passengers in cryosleep are confined to their cabins.\n"
   ]
  },
  {
   "cell_type": "markdown",
   "id": "881c6fb4-f642-4de6-aaf2-38f19a78fd58",
   "metadata": {},
   "source": [
    "### Value counts"
   ]
  },
  {
   "cell_type": "code",
   "execution_count": 9,
   "id": "56ccc22c-48ad-442b-bf54-ea486c31b0b5",
   "metadata": {
    "execution": {
     "iopub.execute_input": "2022-06-13T22:19:14.733597Z",
     "iopub.status.busy": "2022-06-13T22:19:14.733290Z",
     "iopub.status.idle": "2022-06-13T22:19:14.762051Z",
     "shell.execute_reply": "2022-06-13T22:19:14.761305Z",
     "shell.execute_reply.started": "2022-06-13T22:19:14.733576Z"
    },
    "tags": []
   },
   "outputs": [
    {
     "data": {
      "text/plain": [
       "False    0.641694\n",
       "True     0.358306\n",
       "Name: CryoSleep, dtype: float64"
      ]
     },
     "execution_count": 9,
     "metadata": {},
     "output_type": "execute_result"
    }
   ],
   "source": [
    "dftr['CryoSleep'].value_counts(normalize=True)"
   ]
  },
  {
   "cell_type": "markdown",
   "id": "3147579f-a610-41fe-99e5-1484277524f0",
   "metadata": {
    "tags": []
   },
   "source": [
    "## Cabin\n",
    "The cabin number where the passenger is staying. Takes the form deck/num/side, where side can be either P for Port or S for Starboard.\n"
   ]
  },
  {
   "cell_type": "markdown",
   "id": "bb3177bd-9511-4024-864c-338c1af0b662",
   "metadata": {},
   "source": [
    "### Separating column in components"
   ]
  },
  {
   "cell_type": "code",
   "execution_count": 19,
   "id": "ac654646-12f3-4de6-8096-6284d61659b4",
   "metadata": {
    "execution": {
     "iopub.execute_input": "2022-06-13T22:22:11.286088Z",
     "iopub.status.busy": "2022-06-13T22:22:11.285715Z",
     "iopub.status.idle": "2022-06-13T22:22:11.325956Z",
     "shell.execute_reply": "2022-06-13T22:22:11.325212Z",
     "shell.execute_reply.started": "2022-06-13T22:22:11.286021Z"
    },
    "tags": []
   },
   "outputs": [],
   "source": [
    "dfx = pd.concat(\n",
    "    [\n",
    "        dftr['Cabin'].str.split(pat='/', expand=True),\n",
    "        dftr['Transported'],\n",
    "    ],\n",
    "    axis=1\n",
    ")"
   ]
  },
  {
   "cell_type": "markdown",
   "id": "7a212737-0309-4096-a0fc-edc5a80c6e71",
   "metadata": {},
   "source": [
    "### Deck"
   ]
  },
  {
   "cell_type": "code",
   "execution_count": 21,
   "id": "dc8a927d-905c-4bda-bff9-5a3c6bab6096",
   "metadata": {
    "execution": {
     "iopub.execute_input": "2022-06-13T22:22:21.245778Z",
     "iopub.status.busy": "2022-06-13T22:22:21.245497Z",
     "iopub.status.idle": "2022-06-13T22:22:21.277381Z",
     "shell.execute_reply": "2022-06-13T22:22:21.276639Z",
     "shell.execute_reply.started": "2022-06-13T22:22:21.245756Z"
    },
    "tags": []
   },
   "outputs": [
    {
     "data": {
      "text/plain": [
       "F      0.321408\n",
       "G      0.294375\n",
       "E      0.100771\n",
       "B      0.089612\n",
       "C      0.085931\n",
       "D      0.054987\n",
       "A      0.029449\n",
       "nan    0.022892\n",
       "T      0.000575\n",
       "Name: 0, dtype: float64"
      ]
     },
     "execution_count": 21,
     "metadata": {},
     "output_type": "execute_result"
    }
   ],
   "source": [
    "dfx[0].value_counts(normalize=True)"
   ]
  },
  {
   "cell_type": "markdown",
   "id": "afb9d803-70f7-4ed6-8555-ce5dae081de4",
   "metadata": {
    "jp-MarkdownHeadingCollapsed": true,
    "tags": []
   },
   "source": [
    "### Number"
   ]
  },
  {
   "cell_type": "code",
   "execution_count": 13,
   "id": "bbf47e52-5839-4ccd-9c39-b9d725f80748",
   "metadata": {
    "execution": {
     "iopub.execute_input": "2022-06-13T22:19:41.373093Z",
     "iopub.status.busy": "2022-06-13T22:19:41.372799Z",
     "iopub.status.idle": "2022-06-13T22:19:41.404028Z",
     "shell.execute_reply": "2022-06-13T22:19:41.402979Z",
     "shell.execute_reply.started": "2022-06-13T22:19:41.373070Z"
    },
    "tags": []
   },
   "outputs": [
    {
     "data": {
      "text/plain": [
       "82      0.003296\n",
       "86      0.002590\n",
       "19      0.002590\n",
       "56      0.002472\n",
       "176     0.002472\n",
       "          ...   \n",
       "1644    0.000118\n",
       "1515    0.000118\n",
       "1639    0.000118\n",
       "1277    0.000118\n",
       "1894    0.000118\n",
       "Name: 1, Length: 1817, dtype: float64"
      ]
     },
     "execution_count": 13,
     "metadata": {},
     "output_type": "execute_result"
    }
   ],
   "source": [
    "dfx[1].value_counts(normalize=True)"
   ]
  },
  {
   "cell_type": "markdown",
   "id": "2970a495-c44e-4d7e-b79b-ae8922b508bb",
   "metadata": {},
   "source": [
    "**Note**\n",
    "\n",
    "This value is highly fragmented and might not be of relevance"
   ]
  },
  {
   "cell_type": "markdown",
   "id": "1595e0f9-9f0f-477c-b4a3-9e49d9b04f21",
   "metadata": {
    "tags": []
   },
   "source": [
    "### Side"
   ]
  },
  {
   "cell_type": "code",
   "execution_count": 14,
   "id": "0eb0f164-dc6d-4f4b-b6cd-73cb2bc539ef",
   "metadata": {
    "execution": {
     "iopub.execute_input": "2022-06-13T22:19:43.187115Z",
     "iopub.status.busy": "2022-06-13T22:19:43.186806Z",
     "iopub.status.idle": "2022-06-13T22:19:43.216094Z",
     "shell.execute_reply": "2022-06-13T22:19:43.215371Z",
     "shell.execute_reply.started": "2022-06-13T22:19:43.187093Z"
    },
    "tags": []
   },
   "outputs": [
    {
     "data": {
      "text/plain": [
       "S    0.504827\n",
       "P    0.495173\n",
       "Name: 2, dtype: float64"
      ]
     },
     "execution_count": 14,
     "metadata": {},
     "output_type": "execute_result"
    }
   ],
   "source": [
    "dfx[2].value_counts(normalize=True)"
   ]
  },
  {
   "cell_type": "code",
   "execution_count": 34,
   "id": "bfd5f571-31f9-4568-aee8-83e298892b70",
   "metadata": {
    "execution": {
     "iopub.execute_input": "2022-06-13T22:27:46.697334Z",
     "iopub.status.busy": "2022-06-13T22:27:46.697019Z",
     "iopub.status.idle": "2022-06-13T22:27:46.734466Z",
     "shell.execute_reply": "2022-06-13T22:27:46.733423Z",
     "shell.execute_reply.started": "2022-06-13T22:27:46.697312Z"
    },
    "tags": []
   },
   "outputs": [
    {
     "data": {
      "text/html": [
       "<div>\n",
       "<style scoped>\n",
       "    .dataframe tbody tr th:only-of-type {\n",
       "        vertical-align: middle;\n",
       "    }\n",
       "\n",
       "    .dataframe tbody tr th {\n",
       "        vertical-align: top;\n",
       "    }\n",
       "\n",
       "    .dataframe thead th {\n",
       "        text-align: right;\n",
       "    }\n",
       "</style>\n",
       "<table border=\"1\" class=\"dataframe\">\n",
       "  <thead>\n",
       "    <tr style=\"text-align: right;\">\n",
       "      <th></th>\n",
       "      <th>2</th>\n",
       "      <th>Transported</th>\n",
       "      <th>count</th>\n",
       "      <th>count_prop</th>\n",
       "    </tr>\n",
       "  </thead>\n",
       "  <tbody>\n",
       "    <tr>\n",
       "      <th>0</th>\n",
       "      <td>P</td>\n",
       "      <td>False</td>\n",
       "      <td>2308</td>\n",
       "      <td>0.548740</td>\n",
       "    </tr>\n",
       "    <tr>\n",
       "      <th>1</th>\n",
       "      <td>P</td>\n",
       "      <td>True</td>\n",
       "      <td>1898</td>\n",
       "      <td>0.451260</td>\n",
       "    </tr>\n",
       "    <tr>\n",
       "      <th>2</th>\n",
       "      <td>S</td>\n",
       "      <td>False</td>\n",
       "      <td>1908</td>\n",
       "      <td>0.444963</td>\n",
       "    </tr>\n",
       "    <tr>\n",
       "      <th>3</th>\n",
       "      <td>S</td>\n",
       "      <td>True</td>\n",
       "      <td>2380</td>\n",
       "      <td>0.555037</td>\n",
       "    </tr>\n",
       "  </tbody>\n",
       "</table>\n",
       "</div>"
      ],
      "text/plain": [
       "   2 Transported  count  count_prop\n",
       "0  P       False   2308    0.548740\n",
       "1  P        True   1898    0.451260\n",
       "2  S       False   1908    0.444963\n",
       "3  S        True   2380    0.555037"
      ]
     },
     "execution_count": 34,
     "metadata": {},
     "output_type": "execute_result"
    }
   ],
   "source": [
    "dfx2 = dfx.groupby(\n",
    "    [\n",
    "        dfx[2],\n",
    "        dfx['Transported'],\n",
    "    ],\n",
    "    as_index=False\n",
    ").agg(\n",
    "    count=(0, 'count')\n",
    ")\n",
    "\n",
    "dfx2['count_prop'] = dfx2['count'] / dfx2.groupby(2)['count'].transform('sum')\n",
    "\n",
    "dfx2"
   ]
  },
  {
   "cell_type": "markdown",
   "id": "ede6857d-840d-4037-ae69-d7ce0e407571",
   "metadata": {},
   "source": [
    "**Note**\n",
    "\n",
    "This simple grouping suggests that there is no clear difference between people in 'S' or 'P'"
   ]
  },
  {
   "cell_type": "markdown",
   "id": "aa18529d-63dc-43c7-b35a-c3d1403487fa",
   "metadata": {},
   "source": [
    "## Destination\n",
    "The planet the passenger will be debarking to."
   ]
  },
  {
   "cell_type": "code",
   "execution_count": 36,
   "id": "5b1c0850-049e-4135-aa4a-663f549b9bc2",
   "metadata": {
    "execution": {
     "iopub.execute_input": "2022-06-13T22:31:10.200404Z",
     "iopub.status.busy": "2022-06-13T22:31:10.199717Z",
     "iopub.status.idle": "2022-06-13T22:31:10.230947Z",
     "shell.execute_reply": "2022-06-13T22:31:10.230061Z",
     "shell.execute_reply.started": "2022-06-13T22:31:10.200384Z"
    }
   },
   "outputs": [
    {
     "data": {
      "text/plain": [
       "TRAPPIST-1e      0.680433\n",
       "55 Cancri e      0.207063\n",
       "PSO J318.5-22    0.091568\n",
       "nan              0.020936\n",
       "Name: Destination, dtype: float64"
      ]
     },
     "execution_count": 36,
     "metadata": {},
     "output_type": "execute_result"
    }
   ],
   "source": [
    "dftr['Destination'].value_counts(normalize=True)"
   ]
  },
  {
   "cell_type": "code",
   "execution_count": 37,
   "id": "7b9fb46e-405a-4951-a40f-68c88cc99486",
   "metadata": {
    "execution": {
     "iopub.execute_input": "2022-06-13T22:32:31.741230Z",
     "iopub.status.busy": "2022-06-13T22:32:31.740921Z",
     "iopub.status.idle": "2022-06-13T22:32:31.871804Z",
     "shell.execute_reply": "2022-06-13T22:32:31.870537Z",
     "shell.execute_reply.started": "2022-06-13T22:32:31.741210Z"
    }
   },
   "outputs": [
    {
     "data": {
      "image/png": "[encoded data removed]",
      "text/plain": [
       "<Figure size 432x288 with 1 Axes>"
      ]
     },
     "metadata": {
      "needs_background": "light"
     },
     "output_type": "display_data"
    }
   ],
   "source": [
    "plt.hist(\n",
    "    x=dftr['Destination']\n",
    ")\n",
    "\n",
    "plt.show()"
   ]
  },
  {
   "cell_type": "markdown",
   "id": "23a422d3-27dc-443f-876a-c81664017610",
   "metadata": {},
   "source": [
    "## Age\n",
    "The age of the passenger."
   ]
  },
  {
   "cell_type": "markdown",
   "id": "35544588-3896-4565-8d85-8988001cb2c3",
   "metadata": {},
   "source": [
    "### Assessing if the ages are only integers"
   ]
  },
  {
   "cell_type": "code",
   "execution_count": 38,
   "id": "99bebf3b-f694-4ecb-bba2-edb693cc2886",
   "metadata": {
    "execution": {
     "iopub.execute_input": "2022-06-13T22:33:46.904340Z",
     "iopub.status.busy": "2022-06-13T22:33:46.904033Z",
     "iopub.status.idle": "2022-06-13T22:33:46.935035Z",
     "shell.execute_reply": "2022-06-13T22:33:46.934432Z",
     "shell.execute_reply.started": "2022-06-13T22:33:46.904320Z"
    }
   },
   "outputs": [
    {
     "data": {
      "text/plain": [
       "array([ 0., nan])"
      ]
     },
     "execution_count": 38,
     "metadata": {},
     "output_type": "execute_result"
    }
   ],
   "source": [
    "(dftr['Age'] - dftr['Age'].round(0)).unique()"
   ]
  },
  {
   "cell_type": "markdown",
   "id": "9e527f62-b072-4aad-8d4e-0c6d53576477",
   "metadata": {},
   "source": [
    "### Analyzing the distribution of ages"
   ]
  },
  {
   "cell_type": "code",
   "execution_count": 39,
   "id": "18a9bbec-fa67-416f-87ba-7be482928764",
   "metadata": {
    "execution": {
     "iopub.execute_input": "2022-06-13T22:35:04.273734Z",
     "iopub.status.busy": "2022-06-13T22:35:04.273420Z",
     "iopub.status.idle": "2022-06-13T22:35:04.430310Z",
     "shell.execute_reply": "2022-06-13T22:35:04.429357Z",
     "shell.execute_reply.started": "2022-06-13T22:35:04.273714Z"
    }
   },
   "outputs": [
    {
     "data": {
      "image/png": "[encoded data removed]",
      "text/plain": [
       "<Figure size 432x288 with 1 Axes>"
      ]
     },
     "metadata": {
      "needs_background": "light"
     },
     "output_type": "display_data"
    }
   ],
   "source": [
    "plt.hist(\n",
    "    x=dftr['Age'],\n",
    ")\n",
    "\n",
    "plt.show()"
   ]
  },
  {
   "cell_type": "markdown",
   "id": "28d46924-8fb6-4728-9df8-56f2f233ba46",
   "metadata": {},
   "source": [
    "## VIP\n",
    "Whether the passenger has paid for special VIP service during the voyage."
   ]
  },
  {
   "cell_type": "code",
   "execution_count": 41,
   "id": "8287e159-7dea-46a6-8214-77f9723378f7",
   "metadata": {
    "execution": {
     "iopub.execute_input": "2022-06-13T22:36:52.679442Z",
     "iopub.status.busy": "2022-06-13T22:36:52.679135Z",
     "iopub.status.idle": "2022-06-13T22:36:52.706929Z",
     "shell.execute_reply": "2022-06-13T22:36:52.706297Z",
     "shell.execute_reply.started": "2022-06-13T22:36:52.679420Z"
    }
   },
   "outputs": [
    {
     "data": {
      "text/plain": [
       "False    0.976561\n",
       "True     0.023439\n",
       "Name: VIP, dtype: float64"
      ]
     },
     "execution_count": 41,
     "metadata": {},
     "output_type": "execute_result"
    }
   ],
   "source": [
    "dftr['VIP'].value_counts(True)"
   ]
  },
  {
   "cell_type": "code",
   "execution_count": 64,
   "id": "1b1ef9e7-6f11-4301-ad4b-c16546819ef1",
   "metadata": {
    "execution": {
     "iopub.execute_input": "2022-06-13T23:13:54.656425Z",
     "iopub.status.busy": "2022-06-13T23:13:54.656092Z",
     "iopub.status.idle": "2022-06-13T23:13:54.702371Z",
     "shell.execute_reply": "2022-06-13T23:13:54.701717Z",
     "shell.execute_reply.started": "2022-06-13T23:13:54.656405Z"
    },
    "tags": []
   },
   "outputs": [],
   "source": [
    "dfx2 = dftr.groupby(\n",
    "    [\n",
    "        dftr['VIP'],\n",
    "        dftr['Transported'],\n",
    "    ],\n",
    "    as_index=False\n",
    ").agg(\n",
    "    count=('PassengerId', 'count'),\n",
    ")\n",
    "\n",
    "dfx2['count_perc'] = dfx2['count'] / dfx2.groupby('VIP')['count'].transform('sum')"
   ]
  },
  {
   "cell_type": "code",
   "execution_count": 69,
   "id": "8dcdc842-1f89-4a01-8cf0-3208c64e4313",
   "metadata": {
    "execution": {
     "iopub.execute_input": "2022-06-13T23:15:48.055190Z",
     "iopub.status.busy": "2022-06-13T23:15:48.054774Z",
     "iopub.status.idle": "2022-06-13T23:15:48.297514Z",
     "shell.execute_reply": "2022-06-13T23:15:48.296271Z",
     "shell.execute_reply.started": "2022-06-13T23:15:48.055170Z"
    },
    "tags": []
   },
   "outputs": [
    {
     "data": {
      "text/plain": [
       "<seaborn.axisgrid.FacetGrid at 0x141c475b0>"
      ]
     },
     "execution_count": 69,
     "metadata": {},
     "output_type": "execute_result"
    },
    {
     "data": {
      "image/png": "[encoded data removed]",
      "text/plain": [
       "<Figure size 427.125x360 with 1 Axes>"
      ]
     },
     "metadata": {
      "needs_background": "light"
     },
     "output_type": "display_data"
    }
   ],
   "source": [
    "g = sns.catplot(\n",
    "    data=dfx2,\n",
    "    kind='bar',\n",
    "    x='VIP',\n",
    "    y='count_perc',\n",
    "    hue='Transported',\n",
    ")\n",
    "\n",
    "g"
   ]
  },
  {
   "cell_type": "markdown",
   "id": "9a8e65f6-36e9-4c9f-a4c6-ed7704607850",
   "metadata": {},
   "source": [
    "**Note**\n",
    "\n",
    "This results suggest that the category 'VIP' does have an influence on the Transportation"
   ]
  },
  {
   "cell_type": "markdown",
   "id": "fdf54027-3dc0-4ea7-ae26-e2ee51c3b091",
   "metadata": {},
   "source": [
    "## RoomService, FoodCourt, ShoppingMall, Spa, VRDeck\n",
    "Amount the passenger has billed at each of the Spaceship Titanic's many luxury amenities."
   ]
  },
  {
   "cell_type": "code",
   "execution_count": 73,
   "id": "4451bfcf-5b66-4392-ae13-c93202d3d443",
   "metadata": {
    "execution": {
     "iopub.execute_input": "2022-06-13T23:32:26.527014Z",
     "iopub.status.busy": "2022-06-13T23:32:26.526486Z",
     "iopub.status.idle": "2022-06-13T23:32:26.629070Z",
     "shell.execute_reply": "2022-06-13T23:32:26.628473Z",
     "shell.execute_reply.started": "2022-06-13T23:32:26.526984Z"
    }
   },
   "outputs": [
    {
     "name": "stdout",
     "output_type": "stream",
     "text": [
      "<class 'pandas.core.frame.DataFrame'>\n",
      "RangeIndex: 8693 entries, 0 to 8692\n",
      "Data columns (total 13 columns):\n",
      " #   Column        Non-Null Count  Dtype  \n",
      "---  ------        --------------  -----  \n",
      " 0   PassengerId   8693 non-null   object \n",
      " 1   HomePlanet    8693 non-null   object \n",
      " 2   CryoSleep     8476 non-null   object \n",
      " 3   Cabin         8693 non-null   object \n",
      " 4   Destination   8693 non-null   object \n",
      " 5   Age           8514 non-null   float64\n",
      " 6   VIP           8490 non-null   object \n",
      " 7   RoomService   8512 non-null   float32\n",
      " 8   FoodCourt     8510 non-null   float32\n",
      " 9   ShoppingMall  8485 non-null   float32\n",
      " 10  Spa           8510 non-null   float32\n",
      " 11  Name          8693 non-null   object \n",
      " 12  Transported   8693 non-null   object \n",
      "dtypes: float32(4), float64(1), object(8)\n",
      "memory usage: 747.2+ KB\n"
     ]
    }
   ],
   "source": [
    "dftr.info()"
   ]
  },
  {
   "cell_type": "code",
   "execution_count": 76,
   "id": "908e0873-be32-4672-8478-5859b3a1d80d",
   "metadata": {
    "execution": {
     "iopub.execute_input": "2022-06-13T23:38:37.670430Z",
     "iopub.status.busy": "2022-06-13T23:38:37.670038Z",
     "iopub.status.idle": "2022-06-13T23:38:37.714101Z",
     "shell.execute_reply": "2022-06-13T23:38:37.713442Z",
     "shell.execute_reply.started": "2022-06-13T23:38:37.670410Z"
    },
    "tags": []
   },
   "outputs": [],
   "source": [
    "dfx = pd.melt(\n",
    "    dftr,\n",
    "    id_vars=['PassengerId'],\n",
    "    value_vars=['RoomService', 'FoodCourt', 'ShoppingMall', 'Spa']\n",
    ")"
   ]
  },
  {
   "cell_type": "code",
   "execution_count": null,
   "id": "07b6bcf9-8e69-474d-9a62-d10b9580e166",
   "metadata": {},
   "outputs": [],
   "source": [
    "pd.merge(\n",
    "    dfx,\n",
    "    dftx,\n",
    ")"
   ]
  },
  {
   "cell_type": "code",
   "execution_count": null,
   "id": "546276cc-c52d-4abe-85e8-9aa32167eb7e",
   "metadata": {},
   "outputs": [],
   "source": [
    "sns.catplot(\n",
    "    data=dfx,\n",
    "    x='variable',\n",
    "    y='value',\n",
    "    hue=''\n",
    ")"
   ]
  },
  {
   "cell_type": "code",
   "execution_count": null,
   "id": "5731bf4a-6208-4088-b08b-994fa50fd502",
   "metadata": {},
   "outputs": [],
   "source": []
  },
  {
   "cell_type": "markdown",
   "id": "3d2d7c99-7152-4e3d-a303-06dbff39ac97",
   "metadata": {},
   "source": [
    "### RoomService"
   ]
  },
  {
   "cell_type": "code",
   "execution_count": null,
   "id": "30c5c52d-a97f-470c-8848-7d544b8b9055",
   "metadata": {},
   "outputs": [],
   "source": []
  },
  {
   "cell_type": "markdown",
   "id": "5f49b40a-44f2-47d7-9efb-5a2b9fd13053",
   "metadata": {},
   "source": [
    "### FoodCourt"
   ]
  },
  {
   "cell_type": "code",
   "execution_count": null,
   "id": "7f051e56-cd61-4323-ae97-93b6e9a131b5",
   "metadata": {},
   "outputs": [],
   "source": []
  },
  {
   "cell_type": "markdown",
   "id": "534f470d-765c-416f-8fd0-690e60ee165b",
   "metadata": {},
   "source": [
    "### ShoppingMall"
   ]
  },
  {
   "cell_type": "code",
   "execution_count": null,
   "id": "0ba4147f-419a-4d67-a88d-d36204d6e8a9",
   "metadata": {},
   "outputs": [],
   "source": []
  },
  {
   "cell_type": "markdown",
   "id": "c29ca0f6-fc80-4237-b89b-02ed0a2c0084",
   "metadata": {},
   "source": [
    "### Spa, VRDeck"
   ]
  },
  {
   "cell_type": "code",
   "execution_count": null,
   "id": "06592c90-abee-4494-a07e-2e296355113a",
   "metadata": {},
   "outputs": [],
   "source": []
  },
  {
   "cell_type": "markdown",
   "id": "ba5724e8-44cd-46d4-b7c5-a9693832d836",
   "metadata": {},
   "source": [
    "### VRDeck"
   ]
  },
  {
   "cell_type": "code",
   "execution_count": null,
   "id": "34710dbd-2cc1-415d-877e-153c842c6212",
   "metadata": {},
   "outputs": [],
   "source": []
  },
  {
   "cell_type": "markdown",
   "id": "8e477840-d975-478c-81cd-50b6ff6aa76e",
   "metadata": {},
   "source": [
    "## Name\n",
    "The first and last names of the passenger."
   ]
  },
  {
   "cell_type": "markdown",
   "id": "ce3bc096-fcce-4689-ab79-608f6235951b",
   "metadata": {},
   "source": [
    "## Transported\n",
    "Whether the passenger was transported to another dimension. This is the target, the column you are trying to predict.\n"
   ]
  },
  {
   "cell_type": "markdown",
   "id": "782e5375-b2c6-4777-94d2-b3c84f5100d8",
   "metadata": {},
   "source": [
    "# Header 1"
   ]
  },
  {
   "cell_type": "markdown",
   "id": "784be4db-1c06-43e0-a4da-86b1bbcde318",
   "metadata": {},
   "source": [
    "# *Notes*"
   ]
  },
  {
   "cell_type": "markdown",
   "id": "b34c662c-f724-412f-86d7-75647d9b5448",
   "metadata": {},
   "source": [
    "---"
   ]
  },
  {
   "cell_type": "markdown",
   "id": "168089c7-257b-4b61-9a65-803e32753196",
   "metadata": {},
   "source": [
    "---"
   ]
  }
 ],
 "metadata": {
  "kernelspec": {
   "display_name": "Python 3 (ipykernel)",
   "language": "python",
   "name": "python3"
  },
  "language_info": {
   "codemirror_mode": {
    "name": "ipython",
    "version": 3
   },
   "file_extension": ".py",
   "mimetype": "text/x-python",
   "name": "python",
   "nbconvert_exporter": "python",
   "pygments_lexer": "ipython3",
   "version": "3.9.1"
  },
  "toc-autonumbering": true
 },
 "nbformat": 4,
 "nbformat_minor": 5
}
